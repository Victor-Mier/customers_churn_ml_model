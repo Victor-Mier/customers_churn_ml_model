{
 "cells": [
  {
   "cell_type": "markdown",
   "id": "d0ba213e",
   "metadata": {},
   "source": [
    "# Predicción de Cancelación de Clientes en Telecom Interconnect"
   ]
  },
  {
   "cell_type": "markdown",
   "id": "159f111d",
   "metadata": {},
   "source": [
    "## 1. Descripción del proyecto\n",
    "\n",
    "El presente proyecto, para la compañía de telecomunicaciones Interconnect, se centra en una tarea de clasificación para predecir la cancelación de clientes, con el fin de retener a estos clientes a través de ofrecimiento de códigos promocionales y opciones de planes especiales. En general en los negocios resulta más económico retener clientes que atraer nuevos clientes, por lo que este proyecto será de gran valor para la compañía.\n",
    "\n",
    "El equipo de marketing ha recopilado algunos datos de sus clientes, incluyendo información sobre sus planes y contratos. A continuación se describen los servicios que ofrece la compañía y la descripción de los datos proporcionados.\n",
    "\n",
    "### 1.1 Servicio de Interconnect\n",
    "\n",
    "Interconnect proporciona principalmente dos tipos de servicios:\n",
    "\n",
    "1. Comunicación por teléfono fijo. El teléfono se puede conectar a varias líneas de manera simultánea.\n",
    "2. Internet. La red se puede configurar a través de una línea telefónica (DSL, *línea de abonado digital*) o a través de un cable de fibra óptica.\n",
    "\n",
    "Algunos otros servicios que ofrece la empresa incluyen:\n",
    "\n",
    "- Seguridad en Internet: software antivirus (*Protección De Dispositivo*) y un bloqueador de sitios web maliciosos (*Seguridad En Línea*).\n",
    "- Una línea de soporte técnico (*Soporte Técnico*).\n",
    "- Almacenamiento de archivos en la nube y backup de datos (*Backup On line*).\n",
    "- Streaming de TV (*Streaming TV*) y directorio de películas (*Streaming Películas*)\n",
    "\n",
    "La clientela puede elegir entre un pago mensual o firmar un contrato de 1 o 2 años. Puede utilizar varios métodos de pago y recibir una factura electrónica después de una transacción.\n",
    "\n",
    "### 1.2 Descripción de los datos\n",
    "\n",
    "Los datos consisten en archivos obtenidos de diferentes fuentes:\n",
    "\n",
    "- `contract.csv` — información del contrato;\n",
    "- `personal.csv` — datos personales del cliente;\n",
    "- `internet.csv` — información sobre los servicios de Internet;\n",
    "- `phone.csv` — información sobre los servicios telefónicos.\n",
    "\n",
    "En cada archivo, la columna `customerID` (ID de cliente) contiene un código único asignado a cada cliente. La información del contrato es válida a partir del 1 de febrero de 2020.\n",
    "\n",
    "### 1.3 Objetivo\n",
    "\n",
    "El objetivo de este proyecto es crear un modelo de aprendizaje automático que, con base en la información histórica proporcionada por la compañía, sea capaz de predecir cuáles son los clientes que pudieran estar próximos a cancelar los servicios que tienen contratados con la compañía. Para ello se utilizará como variable objetivo la información que tiene la compañía sobre las personas que ya han cancelado su servicio, con ello podremos hacer una clasificación correcta y descubrir los patrones que llevan a los clientes a cancelar sus servicios."
   ]
  },
  {
   "cell_type": "markdown",
   "id": "57f9ed59",
   "metadata": {},
   "source": [
    "## 2. Metodología\n",
    "\n",
    "Abordaremos este proyecto siguiendo los pasos que se describen en la metodología CRISP-DM. Los cuales se enlistan a continuación:\n",
    "- Entendimiento del negocio.\n",
    "- Entendimiento de los datos.\n",
    "- Preparación de los datos.\n",
    "- Modelado.\n",
    "- Evaluación.\n",
    "- Despliegue.\n",
    "\n",
    "El primer punto indica un entendimiento del negocio. Previamente hemos detallado el objetivo del proyecto, así como la relevancia para las operaciones del negocio. Como parte de este punto, es necesario desarrollar un plan de trabajo el cuál se detalla a continuación:\n",
    "\n",
    "### 2.1 Plan de trabajo\n",
    "\n",
    "El plan de trabajo se detalla contemplando todos los pasos de la metodología CRISP_DM a excepción del último que dejaremos fuera del alcance de este proyecto. Por lo tanto la serie de pasos y subpasos a seguir en este proyecto serán los siguientes:\n",
    "\n",
    "1. Exploración inicial de los datos\n",
    "   1. Revisión de la esctructura general y contenido inicial.\n",
    "   2. Revisar valores ausentes, duplicados y errores de presentación.\n",
    "   3. Corrección de errores y anomalías encontradas.\n",
    "2. Análisis exploratorio de los datos (EDA).\n",
    "   1. Unificación de datos en un solo conjunto de datos.\n",
    "   2. Análisis estadístico de las principales características.\n",
    "   3. Análisis de correlación entre características.\n",
    "   4. Detección de valores atípicos.\n",
    "   5. Evaluación de balance de clases.\n",
    "3. Manipulación de datos e Ingeniería de Características.\n",
    "   1. Codificación de variables categóricas.\n",
    "   2. Estandarización de variables numéricas.\n",
    "   3. Creación de nuevas características (si se detectan algunas necesarias)\n",
    "4. Modelado\n",
    "   1. Línea base (Dummy Classifier)\n",
    "   2. Regresión logística (Logistic Regression)\n",
    "   3. Árbol de decisión (Decission Tree Classifier)\n",
    "   4. Bosque aleatorio (Random Forest Classifier)\n",
    "   5. XGBoost\n",
    "   6. Catboost\n",
    "   7. LightGBM\n",
    "5. Evaluación\n",
    "   1. Evaluación de los 3 mejores modelos en el conjunto de prueba\n",
    "   2. Selección del mejor modelo\n",
    "6. Conclusiones generales\n"
   ]
  },
  {
   "cell_type": "markdown",
   "id": "a1c41851",
   "metadata": {},
   "source": [
    "## 3. Exploración inicial de los datos\n",
    "En esta sección haremos la ingesta inicial de los datos y revisaremos la estructura general de cada archivo y su contenido inicial."
   ]
  },
  {
   "cell_type": "markdown",
   "id": "b66020db",
   "metadata": {},
   "source": [
    "### Importar librerías"
   ]
  },
  {
   "cell_type": "code",
   "execution_count": 1,
   "id": "7c0b79cb",
   "metadata": {},
   "outputs": [],
   "source": [
    "# importar librerías\n",
    "\n",
    "# librerías para manejo de datos y visualización\n",
    "import pandas as pd\n",
    "import numpy as np\n",
    "import re\n",
    "import matplotlib.pyplot as plt\n",
    "import plotly.express as px\n",
    "import seaborn as sns\n",
    "import statistics as stats\n",
    "\n",
    "# librerías para preparación y medición de los modelos\n",
    "from sklearn.model_selection import train_test_split\n",
    "from sklearn.preprocessing import StandardScaler\n",
    "from sklearn.utils import shuffle\n",
    "from sklearn.metrics import f1_score\n",
    "from sklearn.metrics import accuracy_score\n",
    "from sklearn.metrics import precision_score\n",
    "from sklearn.metrics import recall_score\n",
    "from sklearn.metrics import roc_auc_score\n",
    "from sklearn.metrics import roc_curve, auc\n",
    "from sklearn.model_selection import cross_val_score\n",
    "from sklearn.metrics import make_scorer\n",
    "from numpy.random import RandomState\n",
    "\n",
    "\n",
    "# librerías para la creación de los modelos\n",
    "from sklearn.model_selection import RandomizedSearchCV\n",
    "from sklearn.model_selection import GridSearchCV\n",
    "from sklearn.dummy import DummyClassifier\n",
    "from sklearn.linear_model import LogisticRegression\n",
    "from sklearn.tree import DecisionTreeClassifier\n",
    "from sklearn.ensemble import RandomForestClassifier\n",
    "from xgboost import XGBClassifier\n",
    "from catboost import CatBoostClassifier\n",
    "from lightgbm import LGBMClassifier"
   ]
  },
  {
   "cell_type": "code",
   "execution_count": 2,
   "id": "17c64105",
   "metadata": {},
   "outputs": [],
   "source": [
    "# Cargar los datos en dataframes\n",
    "# Utilizaremos un bloque try - except para cargar los datos de manera local o del servidor\n",
    "try:\n",
    "    contract = pd.read_csv('./datasets/final_provider/contract.csv')\n",
    "    internet = pd.read_csv('./datasets/final_provider/internet.csv')\n",
    "    personal = pd.read_csv('./datasets/final_provider/personal.csv')\n",
    "    phone = pd.read_csv('./datasets/final_provider/phone.csv')\n",
    "except:\n",
    "    contract = pd.read_csv('/datasets/final_provider/contract.csv')\n",
    "    internet = pd.read_csv('/datasets/final_provider/internet.csv')\n",
    "    personal = pd.read_csv('/datasets/final_provider/personal.csv')\n",
    "    phone = pd.read_csv('/datasets/final_provider/phone.csv')"
   ]
  },
  {
   "cell_type": "markdown",
   "id": "41b20d9b",
   "metadata": {},
   "source": [
    "### 3.1 Revisión de la estructura general y contenido inicial"
   ]
  },
  {
   "cell_type": "code",
   "execution_count": 3,
   "id": "ec2041b4",
   "metadata": {},
   "outputs": [
    {
     "name": "stdout",
     "output_type": "stream",
     "text": [
      "\n",
      " Estructura general del conjunto \u001b[1mcontract\u001b[0m:\n",
      "\n",
      "<class 'pandas.core.frame.DataFrame'>\n",
      "RangeIndex: 7043 entries, 0 to 7042\n",
      "Data columns (total 8 columns):\n",
      " #   Column            Non-Null Count  Dtype  \n",
      "---  ------            --------------  -----  \n",
      " 0   customerID        7043 non-null   object \n",
      " 1   BeginDate         7043 non-null   object \n",
      " 2   EndDate           7043 non-null   object \n",
      " 3   Type              7043 non-null   object \n",
      " 4   PaperlessBilling  7043 non-null   object \n",
      " 5   PaymentMethod     7043 non-null   object \n",
      " 6   MonthlyCharges    7043 non-null   float64\n",
      " 7   TotalCharges      7032 non-null   float64\n",
      "dtypes: float64(2), object(6)\n",
      "memory usage: 440.3+ KB\n",
      "________________________________________\n",
      "\n",
      " Estructura general del conjunto \u001b[1minternet\u001b[0m:\n",
      "\n",
      "<class 'pandas.core.frame.DataFrame'>\n",
      "RangeIndex: 5517 entries, 0 to 5516\n",
      "Data columns (total 8 columns):\n",
      " #   Column            Non-Null Count  Dtype \n",
      "---  ------            --------------  ----- \n",
      " 0   customerID        5517 non-null   object\n",
      " 1   InternetService   5517 non-null   object\n",
      " 2   OnlineSecurity    5517 non-null   object\n",
      " 3   OnlineBackup      5517 non-null   object\n",
      " 4   DeviceProtection  5517 non-null   object\n",
      " 5   TechSupport       5517 non-null   object\n",
      " 6   StreamingTV       5517 non-null   object\n",
      " 7   StreamingMovies   5517 non-null   object\n",
      "dtypes: object(8)\n",
      "memory usage: 344.9+ KB\n",
      "________________________________________\n",
      "\n",
      " Estructura general del conjunto \u001b[1mpersonal\u001b[0m:\n",
      "\n",
      "<class 'pandas.core.frame.DataFrame'>\n",
      "RangeIndex: 7043 entries, 0 to 7042\n",
      "Data columns (total 5 columns):\n",
      " #   Column         Non-Null Count  Dtype \n",
      "---  ------         --------------  ----- \n",
      " 0   customerID     7043 non-null   object\n",
      " 1   gender         7043 non-null   object\n",
      " 2   SeniorCitizen  7043 non-null   int64 \n",
      " 3   Partner        7043 non-null   object\n",
      " 4   Dependents     7043 non-null   object\n",
      "dtypes: int64(1), object(4)\n",
      "memory usage: 275.2+ KB\n",
      "________________________________________\n",
      "\n",
      " Estructura general del conjunto \u001b[1mphone\u001b[0m:\n",
      "\n",
      "<class 'pandas.core.frame.DataFrame'>\n",
      "RangeIndex: 6361 entries, 0 to 6360\n",
      "Data columns (total 2 columns):\n",
      " #   Column         Non-Null Count  Dtype \n",
      "---  ------         --------------  ----- \n",
      " 0   customerID     6361 non-null   object\n",
      " 1   MultipleLines  6361 non-null   object\n",
      "dtypes: object(2)\n",
      "memory usage: 99.5+ KB\n",
      "________________________________________\n"
     ]
    }
   ],
   "source": [
    "# Creamos un diccionario para facilitar las tareas de revisión\n",
    "datasets = {'contract': contract, 'internet': internet, 'personal' : personal, 'phone': phone}\n",
    "\n",
    "for name, data in datasets.items():\n",
    "    print(f'\\n Estructura general del conjunto \\033[1m{name}\\033[0m:\\n')\n",
    "    data.info()\n",
    "    print('_' * 40)\n",
    "    "
   ]
  },
  {
   "cell_type": "code",
   "execution_count": 4,
   "id": "52530787",
   "metadata": {},
   "outputs": [
    {
     "name": "stdout",
     "output_type": "stream",
     "text": [
      "\n",
      " Primeras líneas del conjunto \u001b[1mcontract\u001b[0m:\n",
      "\n"
     ]
    },
    {
     "data": {
      "text/html": [
       "<div>\n",
       "<style scoped>\n",
       "    .dataframe tbody tr th:only-of-type {\n",
       "        vertical-align: middle;\n",
       "    }\n",
       "\n",
       "    .dataframe tbody tr th {\n",
       "        vertical-align: top;\n",
       "    }\n",
       "\n",
       "    .dataframe thead th {\n",
       "        text-align: right;\n",
       "    }\n",
       "</style>\n",
       "<table border=\"1\" class=\"dataframe\">\n",
       "  <thead>\n",
       "    <tr style=\"text-align: right;\">\n",
       "      <th></th>\n",
       "      <th>customerID</th>\n",
       "      <th>BeginDate</th>\n",
       "      <th>EndDate</th>\n",
       "      <th>Type</th>\n",
       "      <th>PaperlessBilling</th>\n",
       "      <th>PaymentMethod</th>\n",
       "      <th>MonthlyCharges</th>\n",
       "      <th>TotalCharges</th>\n",
       "    </tr>\n",
       "  </thead>\n",
       "  <tbody>\n",
       "    <tr>\n",
       "      <th>0</th>\n",
       "      <td>7590-VHVEG</td>\n",
       "      <td>2020-01-01</td>\n",
       "      <td>No</td>\n",
       "      <td>Month-to-month</td>\n",
       "      <td>Yes</td>\n",
       "      <td>Electronic check</td>\n",
       "      <td>29.85</td>\n",
       "      <td>29.85</td>\n",
       "    </tr>\n",
       "    <tr>\n",
       "      <th>1</th>\n",
       "      <td>5575-GNVDE</td>\n",
       "      <td>2017-04-01</td>\n",
       "      <td>No</td>\n",
       "      <td>One year</td>\n",
       "      <td>No</td>\n",
       "      <td>Mailed check</td>\n",
       "      <td>56.95</td>\n",
       "      <td>1889.50</td>\n",
       "    </tr>\n",
       "    <tr>\n",
       "      <th>2</th>\n",
       "      <td>3668-QPYBK</td>\n",
       "      <td>2019-10-01</td>\n",
       "      <td>2019-12-01 00:00:00</td>\n",
       "      <td>Month-to-month</td>\n",
       "      <td>Yes</td>\n",
       "      <td>Mailed check</td>\n",
       "      <td>53.85</td>\n",
       "      <td>108.15</td>\n",
       "    </tr>\n",
       "    <tr>\n",
       "      <th>3</th>\n",
       "      <td>7795-CFOCW</td>\n",
       "      <td>2016-05-01</td>\n",
       "      <td>No</td>\n",
       "      <td>One year</td>\n",
       "      <td>No</td>\n",
       "      <td>Bank transfer (automatic)</td>\n",
       "      <td>42.30</td>\n",
       "      <td>1840.75</td>\n",
       "    </tr>\n",
       "    <tr>\n",
       "      <th>4</th>\n",
       "      <td>9237-HQITU</td>\n",
       "      <td>2019-09-01</td>\n",
       "      <td>2019-11-01 00:00:00</td>\n",
       "      <td>Month-to-month</td>\n",
       "      <td>Yes</td>\n",
       "      <td>Electronic check</td>\n",
       "      <td>70.70</td>\n",
       "      <td>151.65</td>\n",
       "    </tr>\n",
       "  </tbody>\n",
       "</table>\n",
       "</div>"
      ],
      "text/plain": [
       "   customerID   BeginDate              EndDate            Type  \\\n",
       "0  7590-VHVEG  2020-01-01                   No  Month-to-month   \n",
       "1  5575-GNVDE  2017-04-01                   No        One year   \n",
       "2  3668-QPYBK  2019-10-01  2019-12-01 00:00:00  Month-to-month   \n",
       "3  7795-CFOCW  2016-05-01                   No        One year   \n",
       "4  9237-HQITU  2019-09-01  2019-11-01 00:00:00  Month-to-month   \n",
       "\n",
       "  PaperlessBilling              PaymentMethod  MonthlyCharges  TotalCharges  \n",
       "0              Yes           Electronic check           29.85         29.85  \n",
       "1               No               Mailed check           56.95       1889.50  \n",
       "2              Yes               Mailed check           53.85        108.15  \n",
       "3               No  Bank transfer (automatic)           42.30       1840.75  \n",
       "4              Yes           Electronic check           70.70        151.65  "
      ]
     },
     "metadata": {},
     "output_type": "display_data"
    },
    {
     "name": "stdout",
     "output_type": "stream",
     "text": [
      "\n",
      " Primeras líneas del conjunto \u001b[1minternet\u001b[0m:\n",
      "\n"
     ]
    },
    {
     "data": {
      "text/html": [
       "<div>\n",
       "<style scoped>\n",
       "    .dataframe tbody tr th:only-of-type {\n",
       "        vertical-align: middle;\n",
       "    }\n",
       "\n",
       "    .dataframe tbody tr th {\n",
       "        vertical-align: top;\n",
       "    }\n",
       "\n",
       "    .dataframe thead th {\n",
       "        text-align: right;\n",
       "    }\n",
       "</style>\n",
       "<table border=\"1\" class=\"dataframe\">\n",
       "  <thead>\n",
       "    <tr style=\"text-align: right;\">\n",
       "      <th></th>\n",
       "      <th>customerID</th>\n",
       "      <th>InternetService</th>\n",
       "      <th>OnlineSecurity</th>\n",
       "      <th>OnlineBackup</th>\n",
       "      <th>DeviceProtection</th>\n",
       "      <th>TechSupport</th>\n",
       "      <th>StreamingTV</th>\n",
       "      <th>StreamingMovies</th>\n",
       "    </tr>\n",
       "  </thead>\n",
       "  <tbody>\n",
       "    <tr>\n",
       "      <th>0</th>\n",
       "      <td>7590-VHVEG</td>\n",
       "      <td>DSL</td>\n",
       "      <td>No</td>\n",
       "      <td>Yes</td>\n",
       "      <td>No</td>\n",
       "      <td>No</td>\n",
       "      <td>No</td>\n",
       "      <td>No</td>\n",
       "    </tr>\n",
       "    <tr>\n",
       "      <th>1</th>\n",
       "      <td>5575-GNVDE</td>\n",
       "      <td>DSL</td>\n",
       "      <td>Yes</td>\n",
       "      <td>No</td>\n",
       "      <td>Yes</td>\n",
       "      <td>No</td>\n",
       "      <td>No</td>\n",
       "      <td>No</td>\n",
       "    </tr>\n",
       "    <tr>\n",
       "      <th>2</th>\n",
       "      <td>3668-QPYBK</td>\n",
       "      <td>DSL</td>\n",
       "      <td>Yes</td>\n",
       "      <td>Yes</td>\n",
       "      <td>No</td>\n",
       "      <td>No</td>\n",
       "      <td>No</td>\n",
       "      <td>No</td>\n",
       "    </tr>\n",
       "    <tr>\n",
       "      <th>3</th>\n",
       "      <td>7795-CFOCW</td>\n",
       "      <td>DSL</td>\n",
       "      <td>Yes</td>\n",
       "      <td>No</td>\n",
       "      <td>Yes</td>\n",
       "      <td>Yes</td>\n",
       "      <td>No</td>\n",
       "      <td>No</td>\n",
       "    </tr>\n",
       "    <tr>\n",
       "      <th>4</th>\n",
       "      <td>9237-HQITU</td>\n",
       "      <td>Fiber optic</td>\n",
       "      <td>No</td>\n",
       "      <td>No</td>\n",
       "      <td>No</td>\n",
       "      <td>No</td>\n",
       "      <td>No</td>\n",
       "      <td>No</td>\n",
       "    </tr>\n",
       "  </tbody>\n",
       "</table>\n",
       "</div>"
      ],
      "text/plain": [
       "   customerID InternetService OnlineSecurity OnlineBackup DeviceProtection  \\\n",
       "0  7590-VHVEG             DSL             No          Yes               No   \n",
       "1  5575-GNVDE             DSL            Yes           No              Yes   \n",
       "2  3668-QPYBK             DSL            Yes          Yes               No   \n",
       "3  7795-CFOCW             DSL            Yes           No              Yes   \n",
       "4  9237-HQITU     Fiber optic             No           No               No   \n",
       "\n",
       "  TechSupport StreamingTV StreamingMovies  \n",
       "0          No          No              No  \n",
       "1          No          No              No  \n",
       "2          No          No              No  \n",
       "3         Yes          No              No  \n",
       "4          No          No              No  "
      ]
     },
     "metadata": {},
     "output_type": "display_data"
    },
    {
     "name": "stdout",
     "output_type": "stream",
     "text": [
      "\n",
      " Primeras líneas del conjunto \u001b[1mpersonal\u001b[0m:\n",
      "\n"
     ]
    },
    {
     "data": {
      "text/html": [
       "<div>\n",
       "<style scoped>\n",
       "    .dataframe tbody tr th:only-of-type {\n",
       "        vertical-align: middle;\n",
       "    }\n",
       "\n",
       "    .dataframe tbody tr th {\n",
       "        vertical-align: top;\n",
       "    }\n",
       "\n",
       "    .dataframe thead th {\n",
       "        text-align: right;\n",
       "    }\n",
       "</style>\n",
       "<table border=\"1\" class=\"dataframe\">\n",
       "  <thead>\n",
       "    <tr style=\"text-align: right;\">\n",
       "      <th></th>\n",
       "      <th>customerID</th>\n",
       "      <th>gender</th>\n",
       "      <th>SeniorCitizen</th>\n",
       "      <th>Partner</th>\n",
       "      <th>Dependents</th>\n",
       "    </tr>\n",
       "  </thead>\n",
       "  <tbody>\n",
       "    <tr>\n",
       "      <th>0</th>\n",
       "      <td>7590-VHVEG</td>\n",
       "      <td>Female</td>\n",
       "      <td>0</td>\n",
       "      <td>Yes</td>\n",
       "      <td>No</td>\n",
       "    </tr>\n",
       "    <tr>\n",
       "      <th>1</th>\n",
       "      <td>5575-GNVDE</td>\n",
       "      <td>Male</td>\n",
       "      <td>0</td>\n",
       "      <td>No</td>\n",
       "      <td>No</td>\n",
       "    </tr>\n",
       "    <tr>\n",
       "      <th>2</th>\n",
       "      <td>3668-QPYBK</td>\n",
       "      <td>Male</td>\n",
       "      <td>0</td>\n",
       "      <td>No</td>\n",
       "      <td>No</td>\n",
       "    </tr>\n",
       "    <tr>\n",
       "      <th>3</th>\n",
       "      <td>7795-CFOCW</td>\n",
       "      <td>Male</td>\n",
       "      <td>0</td>\n",
       "      <td>No</td>\n",
       "      <td>No</td>\n",
       "    </tr>\n",
       "    <tr>\n",
       "      <th>4</th>\n",
       "      <td>9237-HQITU</td>\n",
       "      <td>Female</td>\n",
       "      <td>0</td>\n",
       "      <td>No</td>\n",
       "      <td>No</td>\n",
       "    </tr>\n",
       "  </tbody>\n",
       "</table>\n",
       "</div>"
      ],
      "text/plain": [
       "   customerID  gender  SeniorCitizen Partner Dependents\n",
       "0  7590-VHVEG  Female              0     Yes         No\n",
       "1  5575-GNVDE    Male              0      No         No\n",
       "2  3668-QPYBK    Male              0      No         No\n",
       "3  7795-CFOCW    Male              0      No         No\n",
       "4  9237-HQITU  Female              0      No         No"
      ]
     },
     "metadata": {},
     "output_type": "display_data"
    },
    {
     "name": "stdout",
     "output_type": "stream",
     "text": [
      "\n",
      " Primeras líneas del conjunto \u001b[1mphone\u001b[0m:\n",
      "\n"
     ]
    },
    {
     "data": {
      "text/html": [
       "<div>\n",
       "<style scoped>\n",
       "    .dataframe tbody tr th:only-of-type {\n",
       "        vertical-align: middle;\n",
       "    }\n",
       "\n",
       "    .dataframe tbody tr th {\n",
       "        vertical-align: top;\n",
       "    }\n",
       "\n",
       "    .dataframe thead th {\n",
       "        text-align: right;\n",
       "    }\n",
       "</style>\n",
       "<table border=\"1\" class=\"dataframe\">\n",
       "  <thead>\n",
       "    <tr style=\"text-align: right;\">\n",
       "      <th></th>\n",
       "      <th>customerID</th>\n",
       "      <th>MultipleLines</th>\n",
       "    </tr>\n",
       "  </thead>\n",
       "  <tbody>\n",
       "    <tr>\n",
       "      <th>0</th>\n",
       "      <td>5575-GNVDE</td>\n",
       "      <td>No</td>\n",
       "    </tr>\n",
       "    <tr>\n",
       "      <th>1</th>\n",
       "      <td>3668-QPYBK</td>\n",
       "      <td>No</td>\n",
       "    </tr>\n",
       "    <tr>\n",
       "      <th>2</th>\n",
       "      <td>9237-HQITU</td>\n",
       "      <td>No</td>\n",
       "    </tr>\n",
       "    <tr>\n",
       "      <th>3</th>\n",
       "      <td>9305-CDSKC</td>\n",
       "      <td>Yes</td>\n",
       "    </tr>\n",
       "    <tr>\n",
       "      <th>4</th>\n",
       "      <td>1452-KIOVK</td>\n",
       "      <td>Yes</td>\n",
       "    </tr>\n",
       "  </tbody>\n",
       "</table>\n",
       "</div>"
      ],
      "text/plain": [
       "   customerID MultipleLines\n",
       "0  5575-GNVDE            No\n",
       "1  3668-QPYBK            No\n",
       "2  9237-HQITU            No\n",
       "3  9305-CDSKC           Yes\n",
       "4  1452-KIOVK           Yes"
      ]
     },
     "metadata": {},
     "output_type": "display_data"
    }
   ],
   "source": [
    "# Visualización de las primeras líneas de cada conjunto de datos\n",
    "for name, data in datasets.items():\n",
    "    print(f'\\n Primeras líneas del conjunto \\033[1m{name}\\033[0m:\\n')\n",
    "    display(data.head())   "
   ]
  },
  {
   "cell_type": "code",
   "execution_count": 5,
   "id": "f838e67b",
   "metadata": {},
   "outputs": [
    {
     "name": "stdout",
     "output_type": "stream",
     "text": [
      "\n",
      " Estadísticas descriptivas del conjunto \u001b[1mcontract\u001b[0m:\n",
      "\n"
     ]
    },
    {
     "data": {
      "text/html": [
       "<div>\n",
       "<style scoped>\n",
       "    .dataframe tbody tr th:only-of-type {\n",
       "        vertical-align: middle;\n",
       "    }\n",
       "\n",
       "    .dataframe tbody tr th {\n",
       "        vertical-align: top;\n",
       "    }\n",
       "\n",
       "    .dataframe thead th {\n",
       "        text-align: right;\n",
       "    }\n",
       "</style>\n",
       "<table border=\"1\" class=\"dataframe\">\n",
       "  <thead>\n",
       "    <tr style=\"text-align: right;\">\n",
       "      <th></th>\n",
       "      <th>customerID</th>\n",
       "      <th>BeginDate</th>\n",
       "      <th>EndDate</th>\n",
       "      <th>Type</th>\n",
       "      <th>PaperlessBilling</th>\n",
       "      <th>PaymentMethod</th>\n",
       "      <th>MonthlyCharges</th>\n",
       "      <th>TotalCharges</th>\n",
       "    </tr>\n",
       "  </thead>\n",
       "  <tbody>\n",
       "    <tr>\n",
       "      <th>count</th>\n",
       "      <td>7043</td>\n",
       "      <td>7043</td>\n",
       "      <td>7043</td>\n",
       "      <td>7043</td>\n",
       "      <td>7043</td>\n",
       "      <td>7043</td>\n",
       "      <td>7043.000000</td>\n",
       "      <td>7032.000000</td>\n",
       "    </tr>\n",
       "    <tr>\n",
       "      <th>unique</th>\n",
       "      <td>7043</td>\n",
       "      <td>77</td>\n",
       "      <td>5</td>\n",
       "      <td>3</td>\n",
       "      <td>2</td>\n",
       "      <td>4</td>\n",
       "      <td>NaN</td>\n",
       "      <td>NaN</td>\n",
       "    </tr>\n",
       "    <tr>\n",
       "      <th>top</th>\n",
       "      <td>3186-AJIEK</td>\n",
       "      <td>2014-02-01</td>\n",
       "      <td>No</td>\n",
       "      <td>Month-to-month</td>\n",
       "      <td>Yes</td>\n",
       "      <td>Electronic check</td>\n",
       "      <td>NaN</td>\n",
       "      <td>NaN</td>\n",
       "    </tr>\n",
       "    <tr>\n",
       "      <th>freq</th>\n",
       "      <td>1</td>\n",
       "      <td>366</td>\n",
       "      <td>5174</td>\n",
       "      <td>3875</td>\n",
       "      <td>4171</td>\n",
       "      <td>2365</td>\n",
       "      <td>NaN</td>\n",
       "      <td>NaN</td>\n",
       "    </tr>\n",
       "    <tr>\n",
       "      <th>mean</th>\n",
       "      <td>NaN</td>\n",
       "      <td>NaN</td>\n",
       "      <td>NaN</td>\n",
       "      <td>NaN</td>\n",
       "      <td>NaN</td>\n",
       "      <td>NaN</td>\n",
       "      <td>64.761692</td>\n",
       "      <td>2283.300441</td>\n",
       "    </tr>\n",
       "    <tr>\n",
       "      <th>std</th>\n",
       "      <td>NaN</td>\n",
       "      <td>NaN</td>\n",
       "      <td>NaN</td>\n",
       "      <td>NaN</td>\n",
       "      <td>NaN</td>\n",
       "      <td>NaN</td>\n",
       "      <td>30.090047</td>\n",
       "      <td>2266.771362</td>\n",
       "    </tr>\n",
       "    <tr>\n",
       "      <th>min</th>\n",
       "      <td>NaN</td>\n",
       "      <td>NaN</td>\n",
       "      <td>NaN</td>\n",
       "      <td>NaN</td>\n",
       "      <td>NaN</td>\n",
       "      <td>NaN</td>\n",
       "      <td>18.250000</td>\n",
       "      <td>18.800000</td>\n",
       "    </tr>\n",
       "    <tr>\n",
       "      <th>25%</th>\n",
       "      <td>NaN</td>\n",
       "      <td>NaN</td>\n",
       "      <td>NaN</td>\n",
       "      <td>NaN</td>\n",
       "      <td>NaN</td>\n",
       "      <td>NaN</td>\n",
       "      <td>35.500000</td>\n",
       "      <td>401.450000</td>\n",
       "    </tr>\n",
       "    <tr>\n",
       "      <th>50%</th>\n",
       "      <td>NaN</td>\n",
       "      <td>NaN</td>\n",
       "      <td>NaN</td>\n",
       "      <td>NaN</td>\n",
       "      <td>NaN</td>\n",
       "      <td>NaN</td>\n",
       "      <td>70.350000</td>\n",
       "      <td>1397.475000</td>\n",
       "    </tr>\n",
       "    <tr>\n",
       "      <th>75%</th>\n",
       "      <td>NaN</td>\n",
       "      <td>NaN</td>\n",
       "      <td>NaN</td>\n",
       "      <td>NaN</td>\n",
       "      <td>NaN</td>\n",
       "      <td>NaN</td>\n",
       "      <td>89.850000</td>\n",
       "      <td>3794.737500</td>\n",
       "    </tr>\n",
       "    <tr>\n",
       "      <th>max</th>\n",
       "      <td>NaN</td>\n",
       "      <td>NaN</td>\n",
       "      <td>NaN</td>\n",
       "      <td>NaN</td>\n",
       "      <td>NaN</td>\n",
       "      <td>NaN</td>\n",
       "      <td>118.750000</td>\n",
       "      <td>8684.800000</td>\n",
       "    </tr>\n",
       "  </tbody>\n",
       "</table>\n",
       "</div>"
      ],
      "text/plain": [
       "        customerID   BeginDate EndDate            Type PaperlessBilling  \\\n",
       "count         7043        7043    7043            7043             7043   \n",
       "unique        7043          77       5               3                2   \n",
       "top     3186-AJIEK  2014-02-01      No  Month-to-month              Yes   \n",
       "freq             1         366    5174            3875             4171   \n",
       "mean           NaN         NaN     NaN             NaN              NaN   \n",
       "std            NaN         NaN     NaN             NaN              NaN   \n",
       "min            NaN         NaN     NaN             NaN              NaN   \n",
       "25%            NaN         NaN     NaN             NaN              NaN   \n",
       "50%            NaN         NaN     NaN             NaN              NaN   \n",
       "75%            NaN         NaN     NaN             NaN              NaN   \n",
       "max            NaN         NaN     NaN             NaN              NaN   \n",
       "\n",
       "           PaymentMethod  MonthlyCharges  TotalCharges  \n",
       "count               7043     7043.000000   7032.000000  \n",
       "unique                 4             NaN           NaN  \n",
       "top     Electronic check             NaN           NaN  \n",
       "freq                2365             NaN           NaN  \n",
       "mean                 NaN       64.761692   2283.300441  \n",
       "std                  NaN       30.090047   2266.771362  \n",
       "min                  NaN       18.250000     18.800000  \n",
       "25%                  NaN       35.500000    401.450000  \n",
       "50%                  NaN       70.350000   1397.475000  \n",
       "75%                  NaN       89.850000   3794.737500  \n",
       "max                  NaN      118.750000   8684.800000  "
      ]
     },
     "metadata": {},
     "output_type": "display_data"
    },
    {
     "name": "stdout",
     "output_type": "stream",
     "text": [
      "\n",
      " Estadísticas descriptivas del conjunto \u001b[1minternet\u001b[0m:\n",
      "\n"
     ]
    },
    {
     "data": {
      "text/html": [
       "<div>\n",
       "<style scoped>\n",
       "    .dataframe tbody tr th:only-of-type {\n",
       "        vertical-align: middle;\n",
       "    }\n",
       "\n",
       "    .dataframe tbody tr th {\n",
       "        vertical-align: top;\n",
       "    }\n",
       "\n",
       "    .dataframe thead th {\n",
       "        text-align: right;\n",
       "    }\n",
       "</style>\n",
       "<table border=\"1\" class=\"dataframe\">\n",
       "  <thead>\n",
       "    <tr style=\"text-align: right;\">\n",
       "      <th></th>\n",
       "      <th>customerID</th>\n",
       "      <th>InternetService</th>\n",
       "      <th>OnlineSecurity</th>\n",
       "      <th>OnlineBackup</th>\n",
       "      <th>DeviceProtection</th>\n",
       "      <th>TechSupport</th>\n",
       "      <th>StreamingTV</th>\n",
       "      <th>StreamingMovies</th>\n",
       "    </tr>\n",
       "  </thead>\n",
       "  <tbody>\n",
       "    <tr>\n",
       "      <th>count</th>\n",
       "      <td>5517</td>\n",
       "      <td>5517</td>\n",
       "      <td>5517</td>\n",
       "      <td>5517</td>\n",
       "      <td>5517</td>\n",
       "      <td>5517</td>\n",
       "      <td>5517</td>\n",
       "      <td>5517</td>\n",
       "    </tr>\n",
       "    <tr>\n",
       "      <th>unique</th>\n",
       "      <td>5517</td>\n",
       "      <td>2</td>\n",
       "      <td>2</td>\n",
       "      <td>2</td>\n",
       "      <td>2</td>\n",
       "      <td>2</td>\n",
       "      <td>2</td>\n",
       "      <td>2</td>\n",
       "    </tr>\n",
       "    <tr>\n",
       "      <th>top</th>\n",
       "      <td>3186-AJIEK</td>\n",
       "      <td>Fiber optic</td>\n",
       "      <td>No</td>\n",
       "      <td>No</td>\n",
       "      <td>No</td>\n",
       "      <td>No</td>\n",
       "      <td>No</td>\n",
       "      <td>No</td>\n",
       "    </tr>\n",
       "    <tr>\n",
       "      <th>freq</th>\n",
       "      <td>1</td>\n",
       "      <td>3096</td>\n",
       "      <td>3498</td>\n",
       "      <td>3088</td>\n",
       "      <td>3095</td>\n",
       "      <td>3473</td>\n",
       "      <td>2810</td>\n",
       "      <td>2785</td>\n",
       "    </tr>\n",
       "  </tbody>\n",
       "</table>\n",
       "</div>"
      ],
      "text/plain": [
       "        customerID InternetService OnlineSecurity OnlineBackup  \\\n",
       "count         5517            5517           5517         5517   \n",
       "unique        5517               2              2            2   \n",
       "top     3186-AJIEK     Fiber optic             No           No   \n",
       "freq             1            3096           3498         3088   \n",
       "\n",
       "       DeviceProtection TechSupport StreamingTV StreamingMovies  \n",
       "count              5517        5517        5517            5517  \n",
       "unique                2           2           2               2  \n",
       "top                  No          No          No              No  \n",
       "freq               3095        3473        2810            2785  "
      ]
     },
     "metadata": {},
     "output_type": "display_data"
    },
    {
     "name": "stdout",
     "output_type": "stream",
     "text": [
      "\n",
      " Estadísticas descriptivas del conjunto \u001b[1mpersonal\u001b[0m:\n",
      "\n"
     ]
    },
    {
     "data": {
      "text/html": [
       "<div>\n",
       "<style scoped>\n",
       "    .dataframe tbody tr th:only-of-type {\n",
       "        vertical-align: middle;\n",
       "    }\n",
       "\n",
       "    .dataframe tbody tr th {\n",
       "        vertical-align: top;\n",
       "    }\n",
       "\n",
       "    .dataframe thead th {\n",
       "        text-align: right;\n",
       "    }\n",
       "</style>\n",
       "<table border=\"1\" class=\"dataframe\">\n",
       "  <thead>\n",
       "    <tr style=\"text-align: right;\">\n",
       "      <th></th>\n",
       "      <th>customerID</th>\n",
       "      <th>gender</th>\n",
       "      <th>SeniorCitizen</th>\n",
       "      <th>Partner</th>\n",
       "      <th>Dependents</th>\n",
       "    </tr>\n",
       "  </thead>\n",
       "  <tbody>\n",
       "    <tr>\n",
       "      <th>count</th>\n",
       "      <td>7043</td>\n",
       "      <td>7043</td>\n",
       "      <td>7043.000000</td>\n",
       "      <td>7043</td>\n",
       "      <td>7043</td>\n",
       "    </tr>\n",
       "    <tr>\n",
       "      <th>unique</th>\n",
       "      <td>7043</td>\n",
       "      <td>2</td>\n",
       "      <td>NaN</td>\n",
       "      <td>2</td>\n",
       "      <td>2</td>\n",
       "    </tr>\n",
       "    <tr>\n",
       "      <th>top</th>\n",
       "      <td>3186-AJIEK</td>\n",
       "      <td>Male</td>\n",
       "      <td>NaN</td>\n",
       "      <td>No</td>\n",
       "      <td>No</td>\n",
       "    </tr>\n",
       "    <tr>\n",
       "      <th>freq</th>\n",
       "      <td>1</td>\n",
       "      <td>3555</td>\n",
       "      <td>NaN</td>\n",
       "      <td>3641</td>\n",
       "      <td>4933</td>\n",
       "    </tr>\n",
       "    <tr>\n",
       "      <th>mean</th>\n",
       "      <td>NaN</td>\n",
       "      <td>NaN</td>\n",
       "      <td>0.162147</td>\n",
       "      <td>NaN</td>\n",
       "      <td>NaN</td>\n",
       "    </tr>\n",
       "    <tr>\n",
       "      <th>std</th>\n",
       "      <td>NaN</td>\n",
       "      <td>NaN</td>\n",
       "      <td>0.368612</td>\n",
       "      <td>NaN</td>\n",
       "      <td>NaN</td>\n",
       "    </tr>\n",
       "    <tr>\n",
       "      <th>min</th>\n",
       "      <td>NaN</td>\n",
       "      <td>NaN</td>\n",
       "      <td>0.000000</td>\n",
       "      <td>NaN</td>\n",
       "      <td>NaN</td>\n",
       "    </tr>\n",
       "    <tr>\n",
       "      <th>25%</th>\n",
       "      <td>NaN</td>\n",
       "      <td>NaN</td>\n",
       "      <td>0.000000</td>\n",
       "      <td>NaN</td>\n",
       "      <td>NaN</td>\n",
       "    </tr>\n",
       "    <tr>\n",
       "      <th>50%</th>\n",
       "      <td>NaN</td>\n",
       "      <td>NaN</td>\n",
       "      <td>0.000000</td>\n",
       "      <td>NaN</td>\n",
       "      <td>NaN</td>\n",
       "    </tr>\n",
       "    <tr>\n",
       "      <th>75%</th>\n",
       "      <td>NaN</td>\n",
       "      <td>NaN</td>\n",
       "      <td>0.000000</td>\n",
       "      <td>NaN</td>\n",
       "      <td>NaN</td>\n",
       "    </tr>\n",
       "    <tr>\n",
       "      <th>max</th>\n",
       "      <td>NaN</td>\n",
       "      <td>NaN</td>\n",
       "      <td>1.000000</td>\n",
       "      <td>NaN</td>\n",
       "      <td>NaN</td>\n",
       "    </tr>\n",
       "  </tbody>\n",
       "</table>\n",
       "</div>"
      ],
      "text/plain": [
       "        customerID gender  SeniorCitizen Partner Dependents\n",
       "count         7043   7043    7043.000000    7043       7043\n",
       "unique        7043      2            NaN       2          2\n",
       "top     3186-AJIEK   Male            NaN      No         No\n",
       "freq             1   3555            NaN    3641       4933\n",
       "mean           NaN    NaN       0.162147     NaN        NaN\n",
       "std            NaN    NaN       0.368612     NaN        NaN\n",
       "min            NaN    NaN       0.000000     NaN        NaN\n",
       "25%            NaN    NaN       0.000000     NaN        NaN\n",
       "50%            NaN    NaN       0.000000     NaN        NaN\n",
       "75%            NaN    NaN       0.000000     NaN        NaN\n",
       "max            NaN    NaN       1.000000     NaN        NaN"
      ]
     },
     "metadata": {},
     "output_type": "display_data"
    },
    {
     "name": "stdout",
     "output_type": "stream",
     "text": [
      "\n",
      " Estadísticas descriptivas del conjunto \u001b[1mphone\u001b[0m:\n",
      "\n"
     ]
    },
    {
     "data": {
      "text/html": [
       "<div>\n",
       "<style scoped>\n",
       "    .dataframe tbody tr th:only-of-type {\n",
       "        vertical-align: middle;\n",
       "    }\n",
       "\n",
       "    .dataframe tbody tr th {\n",
       "        vertical-align: top;\n",
       "    }\n",
       "\n",
       "    .dataframe thead th {\n",
       "        text-align: right;\n",
       "    }\n",
       "</style>\n",
       "<table border=\"1\" class=\"dataframe\">\n",
       "  <thead>\n",
       "    <tr style=\"text-align: right;\">\n",
       "      <th></th>\n",
       "      <th>customerID</th>\n",
       "      <th>MultipleLines</th>\n",
       "    </tr>\n",
       "  </thead>\n",
       "  <tbody>\n",
       "    <tr>\n",
       "      <th>count</th>\n",
       "      <td>6361</td>\n",
       "      <td>6361</td>\n",
       "    </tr>\n",
       "    <tr>\n",
       "      <th>unique</th>\n",
       "      <td>6361</td>\n",
       "      <td>2</td>\n",
       "    </tr>\n",
       "    <tr>\n",
       "      <th>top</th>\n",
       "      <td>3186-AJIEK</td>\n",
       "      <td>No</td>\n",
       "    </tr>\n",
       "    <tr>\n",
       "      <th>freq</th>\n",
       "      <td>1</td>\n",
       "      <td>3390</td>\n",
       "    </tr>\n",
       "  </tbody>\n",
       "</table>\n",
       "</div>"
      ],
      "text/plain": [
       "        customerID MultipleLines\n",
       "count         6361          6361\n",
       "unique        6361             2\n",
       "top     3186-AJIEK            No\n",
       "freq             1          3390"
      ]
     },
     "metadata": {},
     "output_type": "display_data"
    }
   ],
   "source": [
    "# Visualización de las estadísticas incluyendo variables categóricas\n",
    "for name, data in datasets.items():\n",
    "    print(f'\\n Estadísticas descriptivas del conjunto \\033[1m{name}\\033[0m:\\n')\n",
    "    display(data.describe(include='all'))"
   ]
  },
  {
   "cell_type": "markdown",
   "id": "489a86aa",
   "metadata": {},
   "source": [
    "### 3.2 Revisar valores ausentes, duplicados y errores de presentación."
   ]
  },
  {
   "cell_type": "markdown",
   "id": "51dc1ecb",
   "metadata": {},
   "source": [
    "#### 3.2.1 Revisión de valores ausentes\n",
    "En la sección anterior podemos ver tanto en la estructura general de cada conjuntos de datos como en las estadísticas descriptivas que no tenemos valores ausentes, a excepción de la columna `TotalCharges` del conjunto de datos `contract` donde tenemos 11 valores ausentes.\n",
    "\n",
    "También podemos notar rápidamente que el conjunto de datos `internet` contiene **1526 registros menos** que el conjunto de datos `personal`, una situación similar se presenta en el conjunto de datos `phone` donde tenemos **682 registros menos** en comparación con el conjunto de datos `personal`. Esto podría deberse a que algunos usuarios solo tienen contratado el servicio de internet y no el de teléfono, y de manera similar, algunos tendrían contratado solo servicio de teléfono pero no de internet. A continuación haremos una exploración utilizando el `customerID` de cada conjunto para corroborar este supuesto."
   ]
  },
  {
   "cell_type": "code",
   "execution_count": 6,
   "id": "b9e83eb9",
   "metadata": {},
   "outputs": [
    {
     "name": "stdout",
     "output_type": "stream",
     "text": [
      "Clientes sin servicio de internet: 1526\n",
      "De estos, tienen servicio telefónico: 1526\n",
      "Porcentaje de clientes sin internet que tienen teléfono: 100.00%\n"
     ]
    }
   ],
   "source": [
    "# Obtener los customerID que están en personal pero no en internet\n",
    "missing_internet = set(personal['customerID']) - set(internet['customerID'])\n",
    "\n",
    "# Verificar cuántos de estos clientes tienen servicio telefónico\n",
    "phone_only = set(phone['customerID']).intersection(missing_internet)\n",
    "\n",
    "# Mostrar resultados\n",
    "print(f\"Clientes sin servicio de internet: {len(missing_internet)}\")\n",
    "print(f\"De estos, tienen servicio telefónico: {len(phone_only)}\")\n",
    "print(f\"Porcentaje de clientes sin internet que tienen teléfono: {(len(phone_only)/len(missing_internet))*100:.2f}%\")"
   ]
  },
  {
   "cell_type": "code",
   "execution_count": 7,
   "id": "39a7eab0",
   "metadata": {},
   "outputs": [
    {
     "name": "stdout",
     "output_type": "stream",
     "text": [
      "Clientes sin servicio de teléfono: 682\n",
      "De estos, tienen servicio de internet: 682\n",
      "Porcentaje de clientes sin teléfono que tienen internet: 100.00%\n"
     ]
    }
   ],
   "source": [
    "# Obtener los customerID que están en personal pero no en phone\n",
    "missing_phone = set(personal['customerID']) - set(phone['customerID'])\n",
    "\n",
    "# Verificar cuántos de estos clientes tienen servicio de internet\n",
    "internet_only = set(internet['customerID']).intersection(missing_phone)\n",
    "\n",
    "# Mostrar resultados\n",
    "print(f\"Clientes sin servicio de teléfono: {len(missing_phone)}\")\n",
    "print(f\"De estos, tienen servicio de internet: {len(internet_only)}\")\n",
    "print(f\"Porcentaje de clientes sin teléfono que tienen internet: {(len(internet_only)/len(missing_phone))*100:.2f}%\")"
   ]
  },
  {
   "cell_type": "code",
   "execution_count": 8,
   "id": "6658a805",
   "metadata": {},
   "outputs": [
    {
     "data": {
      "text/html": [
       "<div>\n",
       "<style scoped>\n",
       "    .dataframe tbody tr th:only-of-type {\n",
       "        vertical-align: middle;\n",
       "    }\n",
       "\n",
       "    .dataframe tbody tr th {\n",
       "        vertical-align: top;\n",
       "    }\n",
       "\n",
       "    .dataframe thead th {\n",
       "        text-align: right;\n",
       "    }\n",
       "</style>\n",
       "<table border=\"1\" class=\"dataframe\">\n",
       "  <thead>\n",
       "    <tr style=\"text-align: right;\">\n",
       "      <th></th>\n",
       "      <th>customerID</th>\n",
       "      <th>BeginDate</th>\n",
       "      <th>EndDate</th>\n",
       "      <th>Type</th>\n",
       "      <th>PaperlessBilling</th>\n",
       "      <th>PaymentMethod</th>\n",
       "      <th>MonthlyCharges</th>\n",
       "      <th>TotalCharges</th>\n",
       "    </tr>\n",
       "  </thead>\n",
       "  <tbody>\n",
       "    <tr>\n",
       "      <th>488</th>\n",
       "      <td>4472-LVYGI</td>\n",
       "      <td>2020-02-01</td>\n",
       "      <td>No</td>\n",
       "      <td>Two year</td>\n",
       "      <td>Yes</td>\n",
       "      <td>Bank transfer (automatic)</td>\n",
       "      <td>52.55</td>\n",
       "      <td>NaN</td>\n",
       "    </tr>\n",
       "    <tr>\n",
       "      <th>753</th>\n",
       "      <td>3115-CZMZD</td>\n",
       "      <td>2020-02-01</td>\n",
       "      <td>No</td>\n",
       "      <td>Two year</td>\n",
       "      <td>No</td>\n",
       "      <td>Mailed check</td>\n",
       "      <td>20.25</td>\n",
       "      <td>NaN</td>\n",
       "    </tr>\n",
       "    <tr>\n",
       "      <th>936</th>\n",
       "      <td>5709-LVOEQ</td>\n",
       "      <td>2020-02-01</td>\n",
       "      <td>No</td>\n",
       "      <td>Two year</td>\n",
       "      <td>No</td>\n",
       "      <td>Mailed check</td>\n",
       "      <td>80.85</td>\n",
       "      <td>NaN</td>\n",
       "    </tr>\n",
       "    <tr>\n",
       "      <th>1082</th>\n",
       "      <td>4367-NUYAO</td>\n",
       "      <td>2020-02-01</td>\n",
       "      <td>No</td>\n",
       "      <td>Two year</td>\n",
       "      <td>No</td>\n",
       "      <td>Mailed check</td>\n",
       "      <td>25.75</td>\n",
       "      <td>NaN</td>\n",
       "    </tr>\n",
       "    <tr>\n",
       "      <th>1340</th>\n",
       "      <td>1371-DWPAZ</td>\n",
       "      <td>2020-02-01</td>\n",
       "      <td>No</td>\n",
       "      <td>Two year</td>\n",
       "      <td>No</td>\n",
       "      <td>Credit card (automatic)</td>\n",
       "      <td>56.05</td>\n",
       "      <td>NaN</td>\n",
       "    </tr>\n",
       "    <tr>\n",
       "      <th>3331</th>\n",
       "      <td>7644-OMVMY</td>\n",
       "      <td>2020-02-01</td>\n",
       "      <td>No</td>\n",
       "      <td>Two year</td>\n",
       "      <td>No</td>\n",
       "      <td>Mailed check</td>\n",
       "      <td>19.85</td>\n",
       "      <td>NaN</td>\n",
       "    </tr>\n",
       "    <tr>\n",
       "      <th>3826</th>\n",
       "      <td>3213-VVOLG</td>\n",
       "      <td>2020-02-01</td>\n",
       "      <td>No</td>\n",
       "      <td>Two year</td>\n",
       "      <td>No</td>\n",
       "      <td>Mailed check</td>\n",
       "      <td>25.35</td>\n",
       "      <td>NaN</td>\n",
       "    </tr>\n",
       "    <tr>\n",
       "      <th>4380</th>\n",
       "      <td>2520-SGTTA</td>\n",
       "      <td>2020-02-01</td>\n",
       "      <td>No</td>\n",
       "      <td>Two year</td>\n",
       "      <td>No</td>\n",
       "      <td>Mailed check</td>\n",
       "      <td>20.00</td>\n",
       "      <td>NaN</td>\n",
       "    </tr>\n",
       "    <tr>\n",
       "      <th>5218</th>\n",
       "      <td>2923-ARZLG</td>\n",
       "      <td>2020-02-01</td>\n",
       "      <td>No</td>\n",
       "      <td>One year</td>\n",
       "      <td>Yes</td>\n",
       "      <td>Mailed check</td>\n",
       "      <td>19.70</td>\n",
       "      <td>NaN</td>\n",
       "    </tr>\n",
       "    <tr>\n",
       "      <th>6670</th>\n",
       "      <td>4075-WKNIU</td>\n",
       "      <td>2020-02-01</td>\n",
       "      <td>No</td>\n",
       "      <td>Two year</td>\n",
       "      <td>No</td>\n",
       "      <td>Mailed check</td>\n",
       "      <td>73.35</td>\n",
       "      <td>NaN</td>\n",
       "    </tr>\n",
       "    <tr>\n",
       "      <th>6754</th>\n",
       "      <td>2775-SEFEE</td>\n",
       "      <td>2020-02-01</td>\n",
       "      <td>No</td>\n",
       "      <td>Two year</td>\n",
       "      <td>Yes</td>\n",
       "      <td>Bank transfer (automatic)</td>\n",
       "      <td>61.90</td>\n",
       "      <td>NaN</td>\n",
       "    </tr>\n",
       "  </tbody>\n",
       "</table>\n",
       "</div>"
      ],
      "text/plain": [
       "      customerID   BeginDate EndDate      Type PaperlessBilling  \\\n",
       "488   4472-LVYGI  2020-02-01      No  Two year              Yes   \n",
       "753   3115-CZMZD  2020-02-01      No  Two year               No   \n",
       "936   5709-LVOEQ  2020-02-01      No  Two year               No   \n",
       "1082  4367-NUYAO  2020-02-01      No  Two year               No   \n",
       "1340  1371-DWPAZ  2020-02-01      No  Two year               No   \n",
       "3331  7644-OMVMY  2020-02-01      No  Two year               No   \n",
       "3826  3213-VVOLG  2020-02-01      No  Two year               No   \n",
       "4380  2520-SGTTA  2020-02-01      No  Two year               No   \n",
       "5218  2923-ARZLG  2020-02-01      No  One year              Yes   \n",
       "6670  4075-WKNIU  2020-02-01      No  Two year               No   \n",
       "6754  2775-SEFEE  2020-02-01      No  Two year              Yes   \n",
       "\n",
       "                  PaymentMethod  MonthlyCharges  TotalCharges  \n",
       "488   Bank transfer (automatic)           52.55           NaN  \n",
       "753                Mailed check           20.25           NaN  \n",
       "936                Mailed check           80.85           NaN  \n",
       "1082               Mailed check           25.75           NaN  \n",
       "1340    Credit card (automatic)           56.05           NaN  \n",
       "3331               Mailed check           19.85           NaN  \n",
       "3826               Mailed check           25.35           NaN  \n",
       "4380               Mailed check           20.00           NaN  \n",
       "5218               Mailed check           19.70           NaN  \n",
       "6670               Mailed check           73.35           NaN  \n",
       "6754  Bank transfer (automatic)           61.90           NaN  "
      ]
     },
     "metadata": {},
     "output_type": "display_data"
    }
   ],
   "source": [
    "# Revisar los valores ausentes en la columna TotalCharges\n",
    "display(datasets['contract'].loc[datasets['contract']['TotalCharges'].isna()])"
   ]
  },
  {
   "cell_type": "markdown",
   "id": "9d076566",
   "metadata": {},
   "source": [
    "Observaciones\n",
    "- Los datos ausentes en los conjuntos de datos `internet` y `phone` se deben al tipo de servicio que el usuario tiene contratado, al momento de hacer la combinación de todos los conjuntos de datos se abordará esta situación para tener los registros completos.\n",
    "- Los valores ausentes en la columna `TotalCharges` se deben a que el usuario recientemente contrató el servicio, vemos también que todos coinciden en que el tipo de contrato es de uno o dos años en lugar de mes a mes, por lo que no se ha capturado un total de cargos, sin embargo, dado que es un solo mes, se puede copiar la información de la columna `MonthlyCharges` para rellenar estos valores ausentes."
   ]
  },
  {
   "cell_type": "markdown",
   "id": "cb2eab26",
   "metadata": {},
   "source": [
    "#### 3.2.2 Revisión de valores duplicados\n",
    "De la información obtenida en la sección 3.1 en las estadísticas descriptivas es claro que no tenemos ID's de usuarios duplicados en ningún conjunto de datos. Buscar valores duplicados omitiendo la columna `customerID` en este caso no tendría sentido ya que sería completamente normal encontrar comportamientos similares de los clientes. Por lo tanto, podemos concluir que no hay valores duplicados."
   ]
  },
  {
   "cell_type": "markdown",
   "id": "cacccdfd",
   "metadata": {},
   "source": [
    "#### 3.2.3 Errores de presentación\n",
    "En la sección 3.1 podemos identificar rápidamente algunas situaciones que se deben corregir y se enlistan a continuación:\n",
    "- **Nombres de columnas:** Todos los nombres de columnas están en una nomenclatura distinta a la preferida, que es snake_case.\n",
    "- **Tipos de datos:** Encontramos varias columnas con tipos de datos que no son los adecuados y se detallan a continuación:\n",
    "  - `BeginDate` - cambiar a tipo `datetime`\n",
    "  - `EndDate` - esta columna contiene la información de nuestra variable objetivo pero tiene la información mezclada entre fechas y strings.\n",
    "  - `PaperlessBilling`, `OnlineSecurity`, `OnlineBackup`, `DeviceProtection`, `TechSupport`, `StreamingTV`, `StreamingMovies`, `Partner`, `Dependents` y `MultipleLines` - tienen información booleana presentada como strings. Sin embargo, al estar como variables categóricas, se convertirán a booleanas en el proceso de codificación de variables categóricas.\n",
    "  - `SeniorCitizen` - parece tener información booleana presentada como enteros.\n",
    "\n"
   ]
  },
  {
   "cell_type": "markdown",
   "id": "b6334a49",
   "metadata": {},
   "source": [
    "### 3.3 Corrección de errores y anomalías encontradas\n",
    "En esta sección se corregirán los puntos señalados en la sección 3.2.3"
   ]
  },
  {
   "cell_type": "markdown",
   "id": "b8d89bb0",
   "metadata": {},
   "source": [
    "#### 3.3.1 Corrección de nomenclatura en los títulos de columnas"
   ]
  },
  {
   "cell_type": "code",
   "execution_count": 9,
   "id": "4e14fd26",
   "metadata": {},
   "outputs": [
    {
     "name": "stdout",
     "output_type": "stream",
     "text": [
      "Index(['customer_id', 'begin_date', 'end_date', 'type', 'paperless_billing',\n",
      "       'payment_method', 'monthly_charges', 'total_charges'],\n",
      "      dtype='object')\n",
      "Index(['customer_id', 'internet_service', 'online_security', 'online_backup',\n",
      "       'device_protection', 'tech_support', 'streaming_tv',\n",
      "       'streaming_movies'],\n",
      "      dtype='object')\n",
      "Index(['customer_id', 'gender', 'senior_citizen', 'partner', 'dependents'], dtype='object')\n",
      "Index(['customer_id', 'multiple_lines'], dtype='object')\n"
     ]
    }
   ],
   "source": [
    "# Cambiar títulos de columnas a nomenclatura snake_case\n",
    "for data in datasets.values():\n",
    "    # buscar una letra minúscula seguida de una mayúscula y reemplazar esa coincidencia con la primera letra seguida de un guión bajo y la segunda letra\n",
    "    data.columns = [re.sub(r'([a-z])([A-Z])', r'\\1_\\2', col).lower() for col in data.columns]\n",
    "    print(data.columns)"
   ]
  },
  {
   "cell_type": "markdown",
   "id": "af1f8303",
   "metadata": {},
   "source": [
    "#### 3.3.2 Corrección de tipos de datos"
   ]
  },
  {
   "cell_type": "code",
   "execution_count": 10,
   "id": "95ae17f6",
   "metadata": {},
   "outputs": [],
   "source": [
    "# Cambiar la columna begin_date a tipo de datos 'datetime'\n",
    "datasets['contract']['begin_date'] = pd.to_datetime(datasets['contract']['begin_date'], format='%Y-%m-%d')\n",
    "\n",
    "# Creación de una nueva columna con el valor objetivo para nuestros modelos\n",
    "datasets['contract'].loc[datasets['contract']['end_date'] == 'No', 'churn'] = 0\n",
    "datasets['contract'].loc[datasets['contract']['end_date'] != 'No', 'churn'] = 1\n",
    "datasets['contract']['churn'] = datasets['contract']['churn'].astype('int8')"
   ]
  },
  {
   "cell_type": "code",
   "execution_count": 12,
   "id": "0357d76d",
   "metadata": {},
   "outputs": [
    {
     "data": {
      "text/plain": [
       "<DatetimeArray>\n",
       "[                'NaT', '2019-12-01 00:00:00', '2019-11-01 00:00:00',\n",
       " '2019-10-01 00:00:00', '2020-01-01 00:00:00']\n",
       "Length: 5, dtype: datetime64[ns]"
      ]
     },
     "execution_count": 12,
     "metadata": {},
     "output_type": "execute_result"
    }
   ],
   "source": [
    "# Cambiar la columna end_date a tipo de datos 'datetime'\n",
    "# Primero reemplazamos los valores 'No' por cadenas vacías para evitar errores al convertir\n",
    "datasets['contract']['end_date'] = datasets['contract']['end_date'].replace('No', '')\n",
    "datasets['contract']['end_date'] = pd.to_datetime(datasets['contract']['end_date'], format='ISO8601')\n",
    "datasets['contract']['end_date'].unique()"
   ]
  },
  {
   "cell_type": "code",
   "execution_count": 13,
   "id": "09d65970",
   "metadata": {},
   "outputs": [
    {
     "name": "stdout",
     "output_type": "stream",
     "text": [
      "<class 'pandas.core.frame.DataFrame'>\n",
      "RangeIndex: 7043 entries, 0 to 7042\n",
      "Data columns (total 9 columns):\n",
      " #   Column             Non-Null Count  Dtype         \n",
      "---  ------             --------------  -----         \n",
      " 0   customer_id        7043 non-null   object        \n",
      " 1   begin_date         7043 non-null   datetime64[ns]\n",
      " 2   end_date           1869 non-null   datetime64[ns]\n",
      " 3   type               7043 non-null   object        \n",
      " 4   paperless_billing  7043 non-null   object        \n",
      " 5   payment_method     7043 non-null   object        \n",
      " 6   monthly_charges    7043 non-null   float64       \n",
      " 7   total_charges      7032 non-null   float64       \n",
      " 8   churn              7043 non-null   int8          \n",
      "dtypes: datetime64[ns](2), float64(2), int8(1), object(4)\n",
      "memory usage: 447.2+ KB\n",
      "None\n"
     ]
    },
    {
     "data": {
      "text/html": [
       "<div>\n",
       "<style scoped>\n",
       "    .dataframe tbody tr th:only-of-type {\n",
       "        vertical-align: middle;\n",
       "    }\n",
       "\n",
       "    .dataframe tbody tr th {\n",
       "        vertical-align: top;\n",
       "    }\n",
       "\n",
       "    .dataframe thead th {\n",
       "        text-align: right;\n",
       "    }\n",
       "</style>\n",
       "<table border=\"1\" class=\"dataframe\">\n",
       "  <thead>\n",
       "    <tr style=\"text-align: right;\">\n",
       "      <th></th>\n",
       "      <th>customer_id</th>\n",
       "      <th>begin_date</th>\n",
       "      <th>end_date</th>\n",
       "      <th>type</th>\n",
       "      <th>paperless_billing</th>\n",
       "      <th>payment_method</th>\n",
       "      <th>monthly_charges</th>\n",
       "      <th>total_charges</th>\n",
       "      <th>churn</th>\n",
       "    </tr>\n",
       "  </thead>\n",
       "  <tbody>\n",
       "    <tr>\n",
       "      <th>0</th>\n",
       "      <td>7590-VHVEG</td>\n",
       "      <td>2020-01-01</td>\n",
       "      <td>NaT</td>\n",
       "      <td>Month-to-month</td>\n",
       "      <td>Yes</td>\n",
       "      <td>Electronic check</td>\n",
       "      <td>29.85</td>\n",
       "      <td>29.85</td>\n",
       "      <td>0</td>\n",
       "    </tr>\n",
       "    <tr>\n",
       "      <th>1</th>\n",
       "      <td>5575-GNVDE</td>\n",
       "      <td>2017-04-01</td>\n",
       "      <td>NaT</td>\n",
       "      <td>One year</td>\n",
       "      <td>No</td>\n",
       "      <td>Mailed check</td>\n",
       "      <td>56.95</td>\n",
       "      <td>1889.50</td>\n",
       "      <td>0</td>\n",
       "    </tr>\n",
       "    <tr>\n",
       "      <th>2</th>\n",
       "      <td>3668-QPYBK</td>\n",
       "      <td>2019-10-01</td>\n",
       "      <td>2019-12-01</td>\n",
       "      <td>Month-to-month</td>\n",
       "      <td>Yes</td>\n",
       "      <td>Mailed check</td>\n",
       "      <td>53.85</td>\n",
       "      <td>108.15</td>\n",
       "      <td>1</td>\n",
       "    </tr>\n",
       "    <tr>\n",
       "      <th>3</th>\n",
       "      <td>7795-CFOCW</td>\n",
       "      <td>2016-05-01</td>\n",
       "      <td>NaT</td>\n",
       "      <td>One year</td>\n",
       "      <td>No</td>\n",
       "      <td>Bank transfer (automatic)</td>\n",
       "      <td>42.30</td>\n",
       "      <td>1840.75</td>\n",
       "      <td>0</td>\n",
       "    </tr>\n",
       "    <tr>\n",
       "      <th>4</th>\n",
       "      <td>9237-HQITU</td>\n",
       "      <td>2019-09-01</td>\n",
       "      <td>2019-11-01</td>\n",
       "      <td>Month-to-month</td>\n",
       "      <td>Yes</td>\n",
       "      <td>Electronic check</td>\n",
       "      <td>70.70</td>\n",
       "      <td>151.65</td>\n",
       "      <td>1</td>\n",
       "    </tr>\n",
       "  </tbody>\n",
       "</table>\n",
       "</div>"
      ],
      "text/plain": [
       "  customer_id begin_date   end_date            type paperless_billing  \\\n",
       "0  7590-VHVEG 2020-01-01        NaT  Month-to-month               Yes   \n",
       "1  5575-GNVDE 2017-04-01        NaT        One year                No   \n",
       "2  3668-QPYBK 2019-10-01 2019-12-01  Month-to-month               Yes   \n",
       "3  7795-CFOCW 2016-05-01        NaT        One year                No   \n",
       "4  9237-HQITU 2019-09-01 2019-11-01  Month-to-month               Yes   \n",
       "\n",
       "              payment_method  monthly_charges  total_charges  churn  \n",
       "0           Electronic check            29.85          29.85      0  \n",
       "1               Mailed check            56.95        1889.50      0  \n",
       "2               Mailed check            53.85         108.15      1  \n",
       "3  Bank transfer (automatic)            42.30        1840.75      0  \n",
       "4           Electronic check            70.70         151.65      1  "
      ]
     },
     "metadata": {},
     "output_type": "display_data"
    }
   ],
   "source": [
    "# Verificamos las correcciones\n",
    "print(datasets['contract'].info())\n",
    "display(datasets['contract'].head())"
   ]
  },
  {
   "cell_type": "code",
   "execution_count": 14,
   "id": "fee9fefe",
   "metadata": {},
   "outputs": [
    {
     "name": "stdout",
     "output_type": "stream",
     "text": [
      "[0 1]\n"
     ]
    }
   ],
   "source": [
    "# Revisar la columna 'senior_citizen' para corroborar que la información es booleana\n",
    "print(datasets['personal']['senior_citizen'].unique())"
   ]
  },
  {
   "cell_type": "code",
   "execution_count": 15,
   "id": "1e717be0",
   "metadata": {},
   "outputs": [],
   "source": [
    "# Convertir la columna 'senior_citizen' a tipo boolean\n",
    "datasets['personal']['senior_citizen'] = datasets['personal']['senior_citizen'].astype('bool')"
   ]
  },
  {
   "cell_type": "markdown",
   "id": "dc05562c",
   "metadata": {},
   "source": [
    "#### 3.3.3 Relleno de valores ausentes en la columna 'total_charges'"
   ]
  },
  {
   "cell_type": "code",
   "execution_count": 16,
   "id": "1866ec68",
   "metadata": {},
   "outputs": [
    {
     "data": {
      "text/html": [
       "<div>\n",
       "<style scoped>\n",
       "    .dataframe tbody tr th:only-of-type {\n",
       "        vertical-align: middle;\n",
       "    }\n",
       "\n",
       "    .dataframe tbody tr th {\n",
       "        vertical-align: top;\n",
       "    }\n",
       "\n",
       "    .dataframe thead th {\n",
       "        text-align: right;\n",
       "    }\n",
       "</style>\n",
       "<table border=\"1\" class=\"dataframe\">\n",
       "  <thead>\n",
       "    <tr style=\"text-align: right;\">\n",
       "      <th></th>\n",
       "      <th>customer_id</th>\n",
       "      <th>begin_date</th>\n",
       "      <th>end_date</th>\n",
       "      <th>type</th>\n",
       "      <th>paperless_billing</th>\n",
       "      <th>payment_method</th>\n",
       "      <th>monthly_charges</th>\n",
       "      <th>total_charges</th>\n",
       "      <th>churn</th>\n",
       "    </tr>\n",
       "  </thead>\n",
       "  <tbody>\n",
       "    <tr>\n",
       "      <th>488</th>\n",
       "      <td>4472-LVYGI</td>\n",
       "      <td>2020-02-01</td>\n",
       "      <td>NaT</td>\n",
       "      <td>Two year</td>\n",
       "      <td>Yes</td>\n",
       "      <td>Bank transfer (automatic)</td>\n",
       "      <td>52.55</td>\n",
       "      <td>52.55</td>\n",
       "      <td>0</td>\n",
       "    </tr>\n",
       "    <tr>\n",
       "      <th>753</th>\n",
       "      <td>3115-CZMZD</td>\n",
       "      <td>2020-02-01</td>\n",
       "      <td>NaT</td>\n",
       "      <td>Two year</td>\n",
       "      <td>No</td>\n",
       "      <td>Mailed check</td>\n",
       "      <td>20.25</td>\n",
       "      <td>20.25</td>\n",
       "      <td>0</td>\n",
       "    </tr>\n",
       "    <tr>\n",
       "      <th>936</th>\n",
       "      <td>5709-LVOEQ</td>\n",
       "      <td>2020-02-01</td>\n",
       "      <td>NaT</td>\n",
       "      <td>Two year</td>\n",
       "      <td>No</td>\n",
       "      <td>Mailed check</td>\n",
       "      <td>80.85</td>\n",
       "      <td>80.85</td>\n",
       "      <td>0</td>\n",
       "    </tr>\n",
       "    <tr>\n",
       "      <th>1082</th>\n",
       "      <td>4367-NUYAO</td>\n",
       "      <td>2020-02-01</td>\n",
       "      <td>NaT</td>\n",
       "      <td>Two year</td>\n",
       "      <td>No</td>\n",
       "      <td>Mailed check</td>\n",
       "      <td>25.75</td>\n",
       "      <td>25.75</td>\n",
       "      <td>0</td>\n",
       "    </tr>\n",
       "    <tr>\n",
       "      <th>1340</th>\n",
       "      <td>1371-DWPAZ</td>\n",
       "      <td>2020-02-01</td>\n",
       "      <td>NaT</td>\n",
       "      <td>Two year</td>\n",
       "      <td>No</td>\n",
       "      <td>Credit card (automatic)</td>\n",
       "      <td>56.05</td>\n",
       "      <td>56.05</td>\n",
       "      <td>0</td>\n",
       "    </tr>\n",
       "    <tr>\n",
       "      <th>3331</th>\n",
       "      <td>7644-OMVMY</td>\n",
       "      <td>2020-02-01</td>\n",
       "      <td>NaT</td>\n",
       "      <td>Two year</td>\n",
       "      <td>No</td>\n",
       "      <td>Mailed check</td>\n",
       "      <td>19.85</td>\n",
       "      <td>19.85</td>\n",
       "      <td>0</td>\n",
       "    </tr>\n",
       "    <tr>\n",
       "      <th>3826</th>\n",
       "      <td>3213-VVOLG</td>\n",
       "      <td>2020-02-01</td>\n",
       "      <td>NaT</td>\n",
       "      <td>Two year</td>\n",
       "      <td>No</td>\n",
       "      <td>Mailed check</td>\n",
       "      <td>25.35</td>\n",
       "      <td>25.35</td>\n",
       "      <td>0</td>\n",
       "    </tr>\n",
       "    <tr>\n",
       "      <th>4380</th>\n",
       "      <td>2520-SGTTA</td>\n",
       "      <td>2020-02-01</td>\n",
       "      <td>NaT</td>\n",
       "      <td>Two year</td>\n",
       "      <td>No</td>\n",
       "      <td>Mailed check</td>\n",
       "      <td>20.00</td>\n",
       "      <td>20.00</td>\n",
       "      <td>0</td>\n",
       "    </tr>\n",
       "    <tr>\n",
       "      <th>5218</th>\n",
       "      <td>2923-ARZLG</td>\n",
       "      <td>2020-02-01</td>\n",
       "      <td>NaT</td>\n",
       "      <td>One year</td>\n",
       "      <td>Yes</td>\n",
       "      <td>Mailed check</td>\n",
       "      <td>19.70</td>\n",
       "      <td>19.70</td>\n",
       "      <td>0</td>\n",
       "    </tr>\n",
       "    <tr>\n",
       "      <th>6670</th>\n",
       "      <td>4075-WKNIU</td>\n",
       "      <td>2020-02-01</td>\n",
       "      <td>NaT</td>\n",
       "      <td>Two year</td>\n",
       "      <td>No</td>\n",
       "      <td>Mailed check</td>\n",
       "      <td>73.35</td>\n",
       "      <td>73.35</td>\n",
       "      <td>0</td>\n",
       "    </tr>\n",
       "    <tr>\n",
       "      <th>6754</th>\n",
       "      <td>2775-SEFEE</td>\n",
       "      <td>2020-02-01</td>\n",
       "      <td>NaT</td>\n",
       "      <td>Two year</td>\n",
       "      <td>Yes</td>\n",
       "      <td>Bank transfer (automatic)</td>\n",
       "      <td>61.90</td>\n",
       "      <td>61.90</td>\n",
       "      <td>0</td>\n",
       "    </tr>\n",
       "  </tbody>\n",
       "</table>\n",
       "</div>"
      ],
      "text/plain": [
       "     customer_id begin_date end_date      type paperless_billing  \\\n",
       "488   4472-LVYGI 2020-02-01      NaT  Two year               Yes   \n",
       "753   3115-CZMZD 2020-02-01      NaT  Two year                No   \n",
       "936   5709-LVOEQ 2020-02-01      NaT  Two year                No   \n",
       "1082  4367-NUYAO 2020-02-01      NaT  Two year                No   \n",
       "1340  1371-DWPAZ 2020-02-01      NaT  Two year                No   \n",
       "3331  7644-OMVMY 2020-02-01      NaT  Two year                No   \n",
       "3826  3213-VVOLG 2020-02-01      NaT  Two year                No   \n",
       "4380  2520-SGTTA 2020-02-01      NaT  Two year                No   \n",
       "5218  2923-ARZLG 2020-02-01      NaT  One year               Yes   \n",
       "6670  4075-WKNIU 2020-02-01      NaT  Two year                No   \n",
       "6754  2775-SEFEE 2020-02-01      NaT  Two year               Yes   \n",
       "\n",
       "                 payment_method  monthly_charges  total_charges  churn  \n",
       "488   Bank transfer (automatic)            52.55          52.55      0  \n",
       "753                Mailed check            20.25          20.25      0  \n",
       "936                Mailed check            80.85          80.85      0  \n",
       "1082               Mailed check            25.75          25.75      0  \n",
       "1340    Credit card (automatic)            56.05          56.05      0  \n",
       "3331               Mailed check            19.85          19.85      0  \n",
       "3826               Mailed check            25.35          25.35      0  \n",
       "4380               Mailed check            20.00          20.00      0  \n",
       "5218               Mailed check            19.70          19.70      0  \n",
       "6670               Mailed check            73.35          73.35      0  \n",
       "6754  Bank transfer (automatic)            61.90          61.90      0  "
      ]
     },
     "metadata": {},
     "output_type": "display_data"
    },
    {
     "name": "stdout",
     "output_type": "stream",
     "text": [
      "Valores ausentes en la columna 'total_charges': 0\n"
     ]
    }
   ],
   "source": [
    "# Guardar los registros con valores ausentes para realizar la comprobación\n",
    "ausentes = datasets['contract'].loc[datasets['contract']['total_charges'].isna()]\n",
    "\n",
    "# Rellenar los valores ausentes en la columna 'TotalCharges'\n",
    "datasets['contract']['total_charges'] = datasets['contract']['total_charges'].fillna(datasets['contract']['monthly_charges'])\n",
    "\n",
    "# Comprobar la operación de relleno\n",
    "display(datasets['contract'][datasets['contract']['customer_id'].isin(ausentes['customer_id'])])\n",
    "print(\"Valores ausentes en la columna 'total_charges':\", datasets['contract']['total_charges'].isna().sum())"
   ]
  },
  {
   "cell_type": "markdown",
   "id": "75795ddb",
   "metadata": {},
   "source": [
    "## 4 Análisis Exploratorio de Datos (EDA)"
   ]
  },
  {
   "cell_type": "markdown",
   "id": "03152432",
   "metadata": {},
   "source": [
    "### 4.1 Unificación de datos en un solo conjunto de datos"
   ]
  },
  {
   "cell_type": "code",
   "execution_count": 17,
   "id": "eb0c2c32",
   "metadata": {},
   "outputs": [
    {
     "name": "stdout",
     "output_type": "stream",
     "text": [
      "<class 'pandas.core.frame.DataFrame'>\n",
      "RangeIndex: 7043 entries, 0 to 7042\n",
      "Data columns (total 21 columns):\n",
      " #   Column             Non-Null Count  Dtype         \n",
      "---  ------             --------------  -----         \n",
      " 0   customer_id        7043 non-null   object        \n",
      " 1   begin_date         7043 non-null   datetime64[ns]\n",
      " 2   end_date           1869 non-null   datetime64[ns]\n",
      " 3   type               7043 non-null   object        \n",
      " 4   paperless_billing  7043 non-null   object        \n",
      " 5   payment_method     7043 non-null   object        \n",
      " 6   monthly_charges    7043 non-null   float64       \n",
      " 7   total_charges      7043 non-null   float64       \n",
      " 8   churn              7043 non-null   int8          \n",
      " 9   internet_service   5517 non-null   object        \n",
      " 10  online_security    5517 non-null   object        \n",
      " 11  online_backup      5517 non-null   object        \n",
      " 12  device_protection  5517 non-null   object        \n",
      " 13  tech_support       5517 non-null   object        \n",
      " 14  streaming_tv       5517 non-null   object        \n",
      " 15  streaming_movies   5517 non-null   object        \n",
      " 16  gender             7043 non-null   object        \n",
      " 17  senior_citizen     7043 non-null   bool          \n",
      " 18  partner            7043 non-null   object        \n",
      " 19  dependents         7043 non-null   object        \n",
      " 20  multiple_lines     6361 non-null   object        \n",
      "dtypes: bool(1), datetime64[ns](2), float64(2), int8(1), object(15)\n",
      "memory usage: 1.0+ MB\n"
     ]
    },
    {
     "data": {
      "text/plain": [
       "None"
      ]
     },
     "metadata": {},
     "output_type": "display_data"
    }
   ],
   "source": [
    "# Utilizaremos un outer merge para combinar cada conjunt de datos en uno solo\n",
    "\n",
    "full_data = pd.DataFrame(columns=['customer_id'])\n",
    "\n",
    "for data in datasets.values():\n",
    "    full_data = full_data.merge(data, on='customer_id', how='outer')\n",
    "display(full_data.info())"
   ]
  },
  {
   "cell_type": "code",
   "execution_count": 18,
   "id": "ea710338",
   "metadata": {},
   "outputs": [
    {
     "data": {
      "text/plain": [
       "customer_id             0\n",
       "begin_date              0\n",
       "end_date             5174\n",
       "type                    0\n",
       "paperless_billing       0\n",
       "payment_method          0\n",
       "monthly_charges         0\n",
       "total_charges           0\n",
       "churn                   0\n",
       "internet_service     1526\n",
       "online_security      1526\n",
       "online_backup        1526\n",
       "device_protection    1526\n",
       "tech_support         1526\n",
       "streaming_tv         1526\n",
       "streaming_movies     1526\n",
       "gender                  0\n",
       "senior_citizen          0\n",
       "partner                 0\n",
       "dependents              0\n",
       "multiple_lines        682\n",
       "dtype: int64"
      ]
     },
     "execution_count": 18,
     "metadata": {},
     "output_type": "execute_result"
    }
   ],
   "source": [
    "# Revisamos nuevamente los datos faltantes del conjunto de datos completo\n",
    "full_data.isna().sum()"
   ]
  },
  {
   "cell_type": "code",
   "execution_count": 19,
   "id": "f98f1299",
   "metadata": {},
   "outputs": [
    {
     "data": {
      "text/plain": [
       "basic_services\n",
       "both        4835\n",
       "phone       1526\n",
       "internet     682\n",
       "Name: count, dtype: int64"
      ]
     },
     "metadata": {},
     "output_type": "display_data"
    }
   ],
   "source": [
    "# Antes de rellenar los valores ausentes, crearemos una nueva columna que indique los servicios básicos contratados por el cliente, es decir, si tiene servicio de internet, teléfono o ambos.\n",
    "full_data['basic_services'] = 'both'\n",
    "full_data.loc[full_data['internet_service'].isna() & full_data['multiple_lines'].notna(), 'basic_services'] = 'phone'\n",
    "full_data.loc[full_data['internet_service'].notna() & full_data['multiple_lines'].isna(), 'basic_services'] = 'internet'\n",
    "# Verificamos la creación de la nueva columna\n",
    "display(full_data['basic_services'].value_counts())"
   ]
  },
  {
   "cell_type": "code",
   "execution_count": 20,
   "id": "100cdb7c",
   "metadata": {},
   "outputs": [
    {
     "name": "stdout",
     "output_type": "stream",
     "text": [
      "customer_id             0\n",
      "begin_date              0\n",
      "end_date             5174\n",
      "type                    0\n",
      "paperless_billing       0\n",
      "payment_method          0\n",
      "monthly_charges         0\n",
      "total_charges           0\n",
      "churn                   0\n",
      "internet_service        0\n",
      "online_security         0\n",
      "online_backup           0\n",
      "device_protection       0\n",
      "tech_support            0\n",
      "streaming_tv            0\n",
      "streaming_movies        0\n",
      "gender                  0\n",
      "senior_citizen          0\n",
      "partner                 0\n",
      "dependents              0\n",
      "multiple_lines          0\n",
      "basic_services          0\n",
      "dtype: int64\n"
     ]
    }
   ],
   "source": [
    "# Dado que los valores ausentes en la columna 'internet_service' se deben a que esos usuarios solo tienen contrado plan de teléfono, llenaremos los valores ausentes con la leyenda 'Sin suscripción'\n",
    "full_data['internet_service'] = full_data['internet_service'].fillna('Sin suscripción')\n",
    "\n",
    "# Para facilitar los análisis, llenaremos todos los valores ausentes de los servicios adicionales con la leyenda 'Sin suscripción'\n",
    "additional_services = ['online_security', 'online_backup', 'device_protection', 'tech_support', 'streaming_tv', 'streaming_movies', 'multiple_lines']\n",
    "for service in additional_services:\n",
    "    full_data[service] = full_data[service].fillna('Sin suscripción')\n",
    "\n",
    "# Verificamos que no haya valores ausentes\n",
    "print(full_data.isna().sum())"
   ]
  },
  {
   "cell_type": "markdown",
   "id": "a3b9c288",
   "metadata": {},
   "source": [
    "### 4.2 Análisis estadístico de las principales características\n",
    "\n",
    "En esta sección se revisarán las estadísticas descriptivas de cada una de las variables, así como la correlación entre ellas. Se espera que el análisis estadístico nos ayude a identificar patrones y relaciones entre las variables, lo que puede ser útil para la creación de nuevas características o para la selección de variables relevantes para el modelo."
   ]
  },
  {
   "cell_type": "markdown",
   "id": "b2cde5d4",
   "metadata": {},
   "source": [
    "#### 4.2.1 Comportamiento general de los clientes"
   ]
  },
  {
   "cell_type": "code",
   "execution_count": 21,
   "id": "080f2296",
   "metadata": {},
   "outputs": [],
   "source": [
    "# Definimos una función para graficar las variables categóricas\n",
    "\n",
    "def plot_cat(df, x, title, xticks, ax, hue='churn', legend=False):\n",
    "    # Calcular el conteo normalizado\n",
    "    normalized_count = df[[x, hue]].value_counts(normalize=True).reset_index(name='percentage')\n",
    "    normalized_count['percentage'] = normalized_count['percentage'] * 100\n",
    "    # Generar el gráfico\n",
    "    sns.barplot(data=normalized_count, x=x, y='percentage', hue=hue, errorbar=None, ax=ax, legend=legend)\n",
    "    # Agregar título y etiquetas\n",
    "    ax.set_title(title, pad=10) \n",
    "    ax.set_xticks([x for x in range(len(xticks))])\n",
    "    ax.set_xticklabels(xticks, rotation=0)\n",
    "    ax.set_xlabel('')\n",
    "    ax.set_ylabel('Porcentaje', fontweight='bold')\n",
    "    # Agregar etiquetas de valor en cada barra\n",
    "    for container in ax.containers:\n",
    "        ax.bar_label(container, fmt='%.1f%%', label_type='edge', padding=2)\n"
   ]
  },
  {
   "cell_type": "markdown",
   "id": "9d94c214",
   "metadata": {},
   "source": [
    "##### 4.2.1.1 Exploración de características personales y la deserción de los clientes."
   ]
  },
  {
   "cell_type": "code",
   "execution_count": 22,
   "id": "b8afa8ae",
   "metadata": {},
   "outputs": [
    {
     "data": {
      "image/png": "[encoded data removed]",
      "text/plain": [
       "<Figure size 1500x500 with 4 Axes>"
      ]
     },
     "metadata": {},
     "output_type": "display_data"
    }
   ],
   "source": [
    "# Exploramos las características gender, senior_citizen, partner y dependents\n",
    "\n",
    "fig, axs = plt.subplots(1, 4, figsize=(15, 5), sharey=True)\n",
    "plt.suptitle('Relación entre características personales y la cancelación del servicio', fontsize=16, fontweight='bold')\n",
    "plot_cat(full_data, 'gender', 'Género', ['Masculino', 'Femenino'], axs[0])\n",
    "plot_cat(full_data, 'senior_citizen', 'Grupo de edad', ['No ciudadano mayor', 'Ciudadano mayor'], axs[1])\n",
    "plot_cat(full_data, 'partner', 'Pareja', ['Sí', 'No'], axs[2])\n",
    "plot_cat(full_data, 'dependents', 'Dependientes', ['No', 'Sí'], axs[3])\n",
    "plt.legend(title='  Canceló  ', labels=['No', 'Sí'], bbox_to_anchor=(1.02, 1), loc='upper left', borderaxespad=0)\n",
    "plt.tight_layout()\n",
    "plt.show()"
   ]
  },
  {
   "cell_type": "markdown",
   "id": "ec42f0ac",
   "metadata": {},
   "source": [
    "En estas gráficas podemos observar que hay una distribución uniforme en cuanto a hombres y mujeres, tanto del uso de los servicios como en la tasa de cancelación de los mismos. En cuanto al grupo de edad, notamos que los adultos mayores son la minoría de los clientes y también tienen tasas de cancelación menores. La tasa de cancelación para el grupo que no son adultos mayores es considerable. También podemos observar que los clientes que no tienen una pareja son más propensos a cancelar sus servicios y por último, podemos nota que los clientes que no tienen dependientes muestran una tasa de cancelación considerablemente más elevada que aquellos que sí tienen dependientes.\n",
    "\n",
    "Ahora exploraremos las características del tipo de contrato en cuanto a los plazos de pago, el método de facturación y el método de pago."
   ]
  },
  {
   "cell_type": "markdown",
   "id": "556a2944",
   "metadata": {},
   "source": [
    "##### 4.2.1.2 Exploración de característcias de contrato y deserción de los clientes"
   ]
  },
  {
   "cell_type": "code",
   "execution_count": 23,
   "id": "9704bd68",
   "metadata": {},
   "outputs": [
    {
     "data": {
      "image/png": "[encoded data removed]",
      "text/plain": [
       "<Figure size 1500x500 with 3 Axes>"
      ]
     },
     "metadata": {},
     "output_type": "display_data"
    }
   ],
   "source": [
    "# Exploramos las características categóricas del contrato: type, paperless_billing y payment_method\n",
    "\n",
    "fig, axs = plt.subplots(1, 3, figsize=(15, 5), sharey=True)\n",
    "plt.suptitle('Relación entre características del contrato y la cancelación del servicio', fontsize=16, fontweight='bold')\n",
    "plot_cat(full_data, 'type', 'Plazo del contrato', ['Mensual', 'Bianual', 'Anual'], axs[0])\n",
    "plot_cat(full_data, 'paperless_billing', 'Facturación sin papel', ['No', 'Sí'], axs[1])\n",
    "plot_cat(full_data, 'payment_method', 'Método de pago', ['Cheque\\npor correo', 'Cheque\\nelectrónico', 'Tarjeta de\\ncrédito', 'Transferencia\\nbancaria'], axs[2])\n",
    "plt.legend(title='  Canceló  ', labels=['No', 'Sí'], bbox_to_anchor=(1.02, 1), loc='upper left', borderaxespad=0)\n",
    "plt.tight_layout()\n",
    "plt.show()"
   ]
  },
  {
   "cell_type": "markdown",
   "id": "dc2217ca",
   "metadata": {},
   "source": [
    "Como era de esperarse, vemos una tasa de cancelación más elevada en los plazos de pago mes a mes, seguida de los anuales y por último los bianuales, desafortunadamente, la gran mayoría de los clientes, utilizan el plazo mensual. En cuanto a la facturación sin papel, la mayoría de los clientes no la utiliza y vemos que en esos casos la tasa de cancelación es mayor que en aquellos clientes que sí utilizan la facturación sin papel. Por último, podemos observar que el método de pago por cheque electrónico, es el que tienen una mayor tasa de cancelación comparada con los demás métodos de pago.\n",
    "\n",
    "Ahora haremos una exploración de los servicios básicos contratados, es decir si tienen teléfono e internet o solo alguno de ellos y cómo se relacionan con la tasa de cancelación."
   ]
  },
  {
   "cell_type": "markdown",
   "id": "8cf07549",
   "metadata": {},
   "source": [
    "##### 4.2.1.3 Exploración de características de servicios básicos y adicionales y la deserción de los clientes"
   ]
  },
  {
   "cell_type": "code",
   "execution_count": 24,
   "id": "4df1d05d",
   "metadata": {},
   "outputs": [
    {
     "data": {
      "application/vnd.plotly.v1+json": {
       "config": {
        "plotlyServerURL": "https://plot.ly"
       },
       "data": [
        {
         "hovertemplate": "Canceló=No<br>basic_services=%{x}<br>percentage=%{y}<extra></extra>",
         "legendgroup": "No",
         "marker": {
          "color": "steelblue",
          "pattern": {
           "shape": ""
          }
         },
         "name": "No",
         "orientation": "v",
         "showlegend": true,
         "textposition": "auto",
         "type": "bar",
         "x": [
          "Ambos servicios",
          "Solo teléfono",
          "Solo internet"
         ],
         "xaxis": "x",
         "y": {
          "bdata": "cT0K16MQR0CPwvUoXA80QBSuR+F6FB1A",
          "dtype": "f8"
         },
         "yaxis": "y"
        },
        {
         "hovertemplate": "Canceló=Sí<br>basic_services=%{x}<br>percentage=%{y}<extra></extra>",
         "legendgroup": "Sí",
         "marker": {
          "color": "orange",
          "pattern": {
           "shape": ""
          }
         },
         "name": "Sí",
         "orientation": "v",
         "showlegend": true,
         "textposition": "auto",
         "type": "bar",
         "x": [
          "Ambos servicios",
          "Solo internet",
          "Solo teléfono"
         ],
         "xaxis": "x",
         "y": {
          "bdata": "hetRuB6FNkBI4XoUrkcDQJqZmZmZmfk/",
          "dtype": "f8"
         },
         "yaxis": "y"
        }
       ],
       "layout": {
        "barmode": "stack",
        "height": 400,
        "legend": {
         "title": {
          "text": "Canceló"
         },
         "tracegroupgap": 0
        },
        "margin": {
         "b": 20,
         "t": 60
        },
        "template": {
         "data": {
          "bar": [
           {
            "error_x": {
             "color": "#2a3f5f"
            },
            "error_y": {
             "color": "#2a3f5f"
            },
            "marker": {
             "line": {
              "color": "#E5ECF6",
              "width": 0.5
             },
             "pattern": {
              "fillmode": "overlay",
              "size": 10,
              "solidity": 0.2
             }
            },
            "type": "bar"
           }
          ],
          "barpolar": [
           {
            "marker": {
             "line": {
              "color": "#E5ECF6",
              "width": 0.5
             },
             "pattern": {
              "fillmode": "overlay",
              "size": 10,
              "solidity": 0.2
             }
            },
            "type": "barpolar"
           }
          ],
          "carpet": [
           {
            "aaxis": {
             "endlinecolor": "#2a3f5f",
             "gridcolor": "white",
             "linecolor": "white",
             "minorgridcolor": "white",
             "startlinecolor": "#2a3f5f"
            },
            "baxis": {
             "endlinecolor": "#2a3f5f",
             "gridcolor": "white",
             "linecolor": "white",
             "minorgridcolor": "white",
             "startlinecolor": "#2a3f5f"
            },
            "type": "carpet"
           }
          ],
          "choropleth": [
           {
            "colorbar": {
             "outlinewidth": 0,
             "ticks": ""
            },
            "type": "choropleth"
           }
          ],
          "contour": [
           {
            "colorbar": {
             "outlinewidth": 0,
             "ticks": ""
            },
            "colorscale": [
             [
              0,
              "#0d0887"
             ],
             [
              0.1111111111111111,
              "#46039f"
             ],
             [
              0.2222222222222222,
              "#7201a8"
             ],
             [
              0.3333333333333333,
              "#9c179e"
             ],
             [
              0.4444444444444444,
              "#bd3786"
             ],
             [
              0.5555555555555556,
              "#d8576b"
             ],
             [
              0.6666666666666666,
              "#ed7953"
             ],
             [
              0.7777777777777778,
              "#fb9f3a"
             ],
             [
              0.8888888888888888,
              "#fdca26"
             ],
             [
              1,
              "#f0f921"
             ]
            ],
            "type": "contour"
           }
          ],
          "contourcarpet": [
           {
            "colorbar": {
             "outlinewidth": 0,
             "ticks": ""
            },
            "type": "contourcarpet"
           }
          ],
          "heatmap": [
           {
            "colorbar": {
             "outlinewidth": 0,
             "ticks": ""
            },
            "colorscale": [
             [
              0,
              "#0d0887"
             ],
             [
              0.1111111111111111,
              "#46039f"
             ],
             [
              0.2222222222222222,
              "#7201a8"
             ],
             [
              0.3333333333333333,
              "#9c179e"
             ],
             [
              0.4444444444444444,
              "#bd3786"
             ],
             [
              0.5555555555555556,
              "#d8576b"
             ],
             [
              0.6666666666666666,
              "#ed7953"
             ],
             [
              0.7777777777777778,
              "#fb9f3a"
             ],
             [
              0.8888888888888888,
              "#fdca26"
             ],
             [
              1,
              "#f0f921"
             ]
            ],
            "type": "heatmap"
           }
          ],
          "histogram": [
           {
            "marker": {
             "pattern": {
              "fillmode": "overlay",
              "size": 10,
              "solidity": 0.2
             }
            },
            "type": "histogram"
           }
          ],
          "histogram2d": [
           {
            "colorbar": {
             "outlinewidth": 0,
             "ticks": ""
            },
            "colorscale": [
             [
              0,
              "#0d0887"
             ],
             [
              0.1111111111111111,
              "#46039f"
             ],
             [
              0.2222222222222222,
              "#7201a8"
             ],
             [
              0.3333333333333333,
              "#9c179e"
             ],
             [
              0.4444444444444444,
              "#bd3786"
             ],
             [
              0.5555555555555556,
              "#d8576b"
             ],
             [
              0.6666666666666666,
              "#ed7953"
             ],
             [
              0.7777777777777778,
              "#fb9f3a"
             ],
             [
              0.8888888888888888,
              "#fdca26"
             ],
             [
              1,
              "#f0f921"
             ]
            ],
            "type": "histogram2d"
           }
          ],
          "histogram2dcontour": [
           {
            "colorbar": {
             "outlinewidth": 0,
             "ticks": ""
            },
            "colorscale": [
             [
              0,
              "#0d0887"
             ],
             [
              0.1111111111111111,
              "#46039f"
             ],
             [
              0.2222222222222222,
              "#7201a8"
             ],
             [
              0.3333333333333333,
              "#9c179e"
             ],
             [
              0.4444444444444444,
              "#bd3786"
             ],
             [
              0.5555555555555556,
              "#d8576b"
             ],
             [
              0.6666666666666666,
              "#ed7953"
             ],
             [
              0.7777777777777778,
              "#fb9f3a"
             ],
             [
              0.8888888888888888,
              "#fdca26"
             ],
             [
              1,
              "#f0f921"
             ]
            ],
            "type": "histogram2dcontour"
           }
          ],
          "mesh3d": [
           {
            "colorbar": {
             "outlinewidth": 0,
             "ticks": ""
            },
            "type": "mesh3d"
           }
          ],
          "parcoords": [
           {
            "line": {
             "colorbar": {
              "outlinewidth": 0,
              "ticks": ""
             }
            },
            "type": "parcoords"
           }
          ],
          "pie": [
           {
            "automargin": true,
            "type": "pie"
           }
          ],
          "scatter": [
           {
            "fillpattern": {
             "fillmode": "overlay",
             "size": 10,
             "solidity": 0.2
            },
            "type": "scatter"
           }
          ],
          "scatter3d": [
           {
            "line": {
             "colorbar": {
              "outlinewidth": 0,
              "ticks": ""
             }
            },
            "marker": {
             "colorbar": {
              "outlinewidth": 0,
              "ticks": ""
             }
            },
            "type": "scatter3d"
           }
          ],
          "scattercarpet": [
           {
            "marker": {
             "colorbar": {
              "outlinewidth": 0,
              "ticks": ""
             }
            },
            "type": "scattercarpet"
           }
          ],
          "scattergeo": [
           {
            "marker": {
             "colorbar": {
              "outlinewidth": 0,
              "ticks": ""
             }
            },
            "type": "scattergeo"
           }
          ],
          "scattergl": [
           {
            "marker": {
             "colorbar": {
              "outlinewidth": 0,
              "ticks": ""
             }
            },
            "type": "scattergl"
           }
          ],
          "scattermap": [
           {
            "marker": {
             "colorbar": {
              "outlinewidth": 0,
              "ticks": ""
             }
            },
            "type": "scattermap"
           }
          ],
          "scattermapbox": [
           {
            "marker": {
             "colorbar": {
              "outlinewidth": 0,
              "ticks": ""
             }
            },
            "type": "scattermapbox"
           }
          ],
          "scatterpolar": [
           {
            "marker": {
             "colorbar": {
              "outlinewidth": 0,
              "ticks": ""
             }
            },
            "type": "scatterpolar"
           }
          ],
          "scatterpolargl": [
           {
            "marker": {
             "colorbar": {
              "outlinewidth": 0,
              "ticks": ""
             }
            },
            "type": "scatterpolargl"
           }
          ],
          "scatterternary": [
           {
            "marker": {
             "colorbar": {
              "outlinewidth": 0,
              "ticks": ""
             }
            },
            "type": "scatterternary"
           }
          ],
          "surface": [
           {
            "colorbar": {
             "outlinewidth": 0,
             "ticks": ""
            },
            "colorscale": [
             [
              0,
              "#0d0887"
             ],
             [
              0.1111111111111111,
              "#46039f"
             ],
             [
              0.2222222222222222,
              "#7201a8"
             ],
             [
              0.3333333333333333,
              "#9c179e"
             ],
             [
              0.4444444444444444,
              "#bd3786"
             ],
             [
              0.5555555555555556,
              "#d8576b"
             ],
             [
              0.6666666666666666,
              "#ed7953"
             ],
             [
              0.7777777777777778,
              "#fb9f3a"
             ],
             [
              0.8888888888888888,
              "#fdca26"
             ],
             [
              1,
              "#f0f921"
             ]
            ],
            "type": "surface"
           }
          ],
          "table": [
           {
            "cells": {
             "fill": {
              "color": "#EBF0F8"
             },
             "line": {
              "color": "white"
             }
            },
            "header": {
             "fill": {
              "color": "#C8D4E3"
             },
             "line": {
              "color": "white"
             }
            },
            "type": "table"
           }
          ]
         },
         "layout": {
          "annotationdefaults": {
           "arrowcolor": "#2a3f5f",
           "arrowhead": 0,
           "arrowwidth": 1
          },
          "autotypenumbers": "strict",
          "coloraxis": {
           "colorbar": {
            "outlinewidth": 0,
            "ticks": ""
           }
          },
          "colorscale": {
           "diverging": [
            [
             0,
             "#8e0152"
            ],
            [
             0.1,
             "#c51b7d"
            ],
            [
             0.2,
             "#de77ae"
            ],
            [
             0.3,
             "#f1b6da"
            ],
            [
             0.4,
             "#fde0ef"
            ],
            [
             0.5,
             "#f7f7f7"
            ],
            [
             0.6,
             "#e6f5d0"
            ],
            [
             0.7,
             "#b8e186"
            ],
            [
             0.8,
             "#7fbc41"
            ],
            [
             0.9,
             "#4d9221"
            ],
            [
             1,
             "#276419"
            ]
           ],
           "sequential": [
            [
             0,
             "#0d0887"
            ],
            [
             0.1111111111111111,
             "#46039f"
            ],
            [
             0.2222222222222222,
             "#7201a8"
            ],
            [
             0.3333333333333333,
             "#9c179e"
            ],
            [
             0.4444444444444444,
             "#bd3786"
            ],
            [
             0.5555555555555556,
             "#d8576b"
            ],
            [
             0.6666666666666666,
             "#ed7953"
            ],
            [
             0.7777777777777778,
             "#fb9f3a"
            ],
            [
             0.8888888888888888,
             "#fdca26"
            ],
            [
             1,
             "#f0f921"
            ]
           ],
           "sequentialminus": [
            [
             0,
             "#0d0887"
            ],
            [
             0.1111111111111111,
             "#46039f"
            ],
            [
             0.2222222222222222,
             "#7201a8"
            ],
            [
             0.3333333333333333,
             "#9c179e"
            ],
            [
             0.4444444444444444,
             "#bd3786"
            ],
            [
             0.5555555555555556,
             "#d8576b"
            ],
            [
             0.6666666666666666,
             "#ed7953"
            ],
            [
             0.7777777777777778,
             "#fb9f3a"
            ],
            [
             0.8888888888888888,
             "#fdca26"
            ],
            [
             1,
             "#f0f921"
            ]
           ]
          },
          "colorway": [
           "#636efa",
           "#EF553B",
           "#00cc96",
           "#ab63fa",
           "#FFA15A",
           "#19d3f3",
           "#FF6692",
           "#B6E880",
           "#FF97FF",
           "#FECB52"
          ],
          "font": {
           "color": "#2a3f5f"
          },
          "geo": {
           "bgcolor": "white",
           "lakecolor": "white",
           "landcolor": "#E5ECF6",
           "showlakes": true,
           "showland": true,
           "subunitcolor": "white"
          },
          "hoverlabel": {
           "align": "left"
          },
          "hovermode": "closest",
          "mapbox": {
           "style": "light"
          },
          "paper_bgcolor": "white",
          "plot_bgcolor": "#E5ECF6",
          "polar": {
           "angularaxis": {
            "gridcolor": "white",
            "linecolor": "white",
            "ticks": ""
           },
           "bgcolor": "#E5ECF6",
           "radialaxis": {
            "gridcolor": "white",
            "linecolor": "white",
            "ticks": ""
           }
          },
          "scene": {
           "xaxis": {
            "backgroundcolor": "#E5ECF6",
            "gridcolor": "white",
            "gridwidth": 2,
            "linecolor": "white",
            "showbackground": true,
            "ticks": "",
            "zerolinecolor": "white"
           },
           "yaxis": {
            "backgroundcolor": "#E5ECF6",
            "gridcolor": "white",
            "gridwidth": 2,
            "linecolor": "white",
            "showbackground": true,
            "ticks": "",
            "zerolinecolor": "white"
           },
           "zaxis": {
            "backgroundcolor": "#E5ECF6",
            "gridcolor": "white",
            "gridwidth": 2,
            "linecolor": "white",
            "showbackground": true,
            "ticks": "",
            "zerolinecolor": "white"
           }
          },
          "shapedefaults": {
           "line": {
            "color": "#2a3f5f"
           }
          },
          "ternary": {
           "aaxis": {
            "gridcolor": "white",
            "linecolor": "white",
            "ticks": ""
           },
           "baxis": {
            "gridcolor": "white",
            "linecolor": "white",
            "ticks": ""
           },
           "bgcolor": "#E5ECF6",
           "caxis": {
            "gridcolor": "white",
            "linecolor": "white",
            "ticks": ""
           }
          },
          "title": {
           "x": 0.05
          },
          "xaxis": {
           "automargin": true,
           "gridcolor": "white",
           "linecolor": "white",
           "ticks": "",
           "title": {
            "standoff": 15
           },
           "zerolinecolor": "white",
           "zerolinewidth": 2
          },
          "yaxis": {
           "automargin": true,
           "gridcolor": "white",
           "linecolor": "white",
           "ticks": "",
           "title": {
            "standoff": 15
           },
           "zerolinecolor": "white",
           "zerolinewidth": 2
          }
         }
        },
        "title": {
         "text": "<b>Relación entre los servicios básicos y la cancelación del servicio</b>",
         "x": 0.5
        },
        "width": 800,
        "xaxis": {
         "anchor": "y",
         "domain": [
          0,
          1
         ],
         "title": {
          "text": ""
         }
        },
        "yaxis": {
         "anchor": "x",
         "domain": [
          0,
          1
         ],
         "range": [
          0,
          100
         ],
         "title": {
          "text": "<b>Porcentaje</b>"
         }
        }
       }
      }
     },
     "metadata": {},
     "output_type": "display_data"
    }
   ],
   "source": [
    "# Exploramos las características de los servicios básicos contratados.\n",
    "services_usage_churn_rate = round(full_data[['basic_services', 'churn']].value_counts(normalize=True) * 100, 2).reset_index(name='percentage')\n",
    "services_usage_churn_rate['churn'] = services_usage_churn_rate['churn'].map({0: 'No', 1: 'Sí'})\n",
    "services_usage_churn_rate['basic_services'] = services_usage_churn_rate['basic_services'].map(\n",
    "    {'both': 'Ambos servicios', 'phone': 'Solo teléfono', 'internet': 'Solo internet'})   \n",
    "\n",
    "fig = px.bar(services_usage_churn_rate, \n",
    "             x='basic_services', \n",
    "             y='percentage',\n",
    "             color='churn',\n",
    "             labels={'churn': 'Canceló'},\n",
    "             width=800,\n",
    "             height=400,\n",
    "             color_discrete_map={'Sí': 'orange', 'No': 'steelblue'})\n",
    "\n",
    "fig.update_layout(xaxis_title='',\n",
    "    yaxis_title='<b>Porcentaje</b>',\n",
    "    title={'text': '<b>Relación entre los servicios básicos y la cancelación del servicio</b>', 'x': 0.5},\n",
    "    yaxis_range=[0,100],\n",
    "    barmode='stack',\n",
    "    margin=dict(b=20))\n",
    "fig.show()"
   ]
  },
  {
   "cell_type": "markdown",
   "id": "97bd187f",
   "metadata": {},
   "source": [
    "En esta gráfica podemos notar que la gran mayoría de los clientes tiene contratados ambos servicios, es decir teléfono e internet y en este mismo grupo es donde tenemos la tasa de cancelación más alta. También podemos notar que hay menos clientes que solo contratan internet, comparados con aquellos que solo contratan servicio de telefonía y en ambos casos las tasas de cancelación son relativamente bajas.\n",
    "\n",
    "Pasaremos ahora a explorar la relación entre los servicios adicionales y la tasa de cancelación. Comenzaremos por averiguar cómo es la proporción de clientes que usan los servicios adicionales tanto de internet como el servicio de múltiples líneas para el caso de telefonía."
   ]
  },
  {
   "cell_type": "code",
   "execution_count": 25,
   "id": "d24fc165",
   "metadata": {},
   "outputs": [
    {
     "data": {
      "image/png": "[encoded data removed]",
      "text/plain": [
       "<Figure size 1500x500 with 1 Axes>"
      ]
     },
     "metadata": {},
     "output_type": "display_data"
    }
   ],
   "source": [
    "# Proporción de clientes que usan cada uno de los servicios adicionales\n",
    "additional_services_usage_count = round(full_data[additional_services].apply(lambda x: x.value_counts(normalize=True)) * 100, 2)\n",
    "ax = additional_services_usage_count.T.plot(kind='bar', color=['steelblue', 'orange', 'lightgray'], figsize=(15, 5))\n",
    "\n",
    "plt.title('Proporción de clientes que usan servicios adicionales', pad=10, fontsize=12, fontweight='bold')\n",
    "plt.xlabel('')\n",
    "plt.ylabel('Porcentaje', fontweight='bold')\n",
    "plt.ylim(0, 100)\n",
    "plt.legend(title='Usa el servicio', labels=['No', 'Sí', 'Sin suscripción'], loc='upper right')\n",
    "plt.xticks([0, 1, 2, 3, 4, 5, 6], ['Online\\nsecurity', 'Online\\nbackup', 'Device\\nprotection', 'Tech\\nsupport', 'Streaming TV', 'Streaming\\nmovies', 'Multiple\\nlines'], rotation=0)\n",
    "# Agregar etiquetas de valor en cada barra\n",
    "for container in ax.containers:\n",
    "    ax.bar_label(container, fmt='%.1f%%', label_type='edge', padding=2, fontsize=7)\n",
    "plt.tight_layout()\n",
    "plt.show()"
   ]
  },
  {
   "cell_type": "markdown",
   "id": "680fb29e",
   "metadata": {},
   "source": [
    "En el gráfico anterior podemos ver que en todos los servicios es mayor la cantidad de clientes que no utilizan algún servicio adicional, sin embargo, el porcentaje de clientes que sí utilian los servicios adicionales es bastante considerable. En cuanto a los servicios de streaming tanto de televisión como de películas, es casi parejo en cuanto al porcentaje de clientes que lo utilizan y los que no. Es importante notar que los servicios de seguridad en línea y soporte técnico, son los que tienen menor utilización. Por último, podemos ver que la proporción de clientes que sí utliza múltiples líneas de teléfono es ligeramente menor al porcentaje de clientes que no las utilizan.\n",
    "\n",
    "Pasemos ahora a explorar la tasa de cancelación en cada uno de estos servicios."
   ]
  },
  {
   "cell_type": "code",
   "execution_count": 26,
   "id": "c2953e2a",
   "metadata": {},
   "outputs": [
    {
     "data": {
      "image/png": "[encoded data removed]",
      "text/plain": [
       "<Figure size 2500x500 with 7 Axes>"
      ]
     },
     "metadata": {},
     "output_type": "display_data"
    }
   ],
   "source": [
    "# Exploramos la relación entre los servicios adicionales y la cancelación del servicio\n",
    "\n",
    "fig, axs = plt.subplots(1, 7, figsize=(25, 5), sharey=True)\n",
    "plt.suptitle('Relación entre los servicios adicionales y la cancelación del servicio', fontsize=18, fontweight='bold')\n",
    "plot_cat(full_data, 'online_security', 'Online security', ['No', 'Sí', 'Sin suscripción'], axs[0])\n",
    "plot_cat(full_data, 'online_backup', 'Online backup', ['No', 'Sí', 'Sin suscripción'], axs[1])\n",
    "plot_cat(full_data, 'device_protection', 'Device protection', ['No', 'Sí', 'Sin suscripción'], axs[2])\n",
    "plot_cat(full_data, 'tech_support', 'Tech support', ['No', 'Sí', 'Sin suscripción'], axs[3])\n",
    "plot_cat(full_data, 'streaming_tv', 'Streaming TV', ['No', 'Sí', 'Sin suscripción'], axs[4])\n",
    "plot_cat(full_data, 'streaming_movies', 'Streaming Movies', ['No', 'Sí', 'Sin suscripción'], axs[5])\n",
    "plot_cat(full_data, 'multiple_lines', 'Multiple Lines', ['No', 'Sí', 'Sin suscripción'], axs[6])\n",
    "plt.ylim(0, 40)\n",
    "plt.legend(title='  Canceló  ', labels=['No', 'Sí'], bbox_to_anchor=(1.02, 1), loc='upper left', borderaxespad=0)\n",
    "plt.tight_layout()\n",
    "plt.show()"
   ]
  },
  {
   "cell_type": "markdown",
   "id": "71f07f36",
   "metadata": {},
   "source": [
    "En estas gráficos podemos notar varios aspectos interesantes. En la primer gráfico podemos ver que los clientes que utilizan el servicio de seguridad en línea tienen una tasa de cancelación mucho más baja que aquellos que no lo utilizan. Contrario a lo que vemos en la segunda gráfica que nos muestra que aquellos clientes que utilizan el servicio de respaldo en línea, tienden a cancelar el servicio en mayor proporción que los clientes que no lo utilizan. En cuanto a la protección del dispositivo, observamos también una tasa de cancelación más baja en los clientes que sí utilizan el servicio. En cuanto al servicio de soporte técnico es muy interesante notar la tasa de cancelación tan baja en comparación con aquellos que no utilizan este servicio, por lo que podríamos sospechar que este servicio es un buen apalancador para retener a los clientes. En cuanto a los servicios de streaming, tanto de televisión como de películas, la tasa de cancelación es muy similar en los clientes que lo utilizan y los que no, y por último, en el servicio de telefonía, la tasa de cancelación es prácticamente la misma aunque hay un porcentaje ligeramente mayor de clientes que no utilizan este servicio.\n",
    "\n",
    "Ahora exploraremos la tasa de cancelación por tipo de conexión a internet, recordando que la compañía ofrece dos tipos: DSL y Fibra óptica."
   ]
  },
  {
   "cell_type": "code",
   "execution_count": 27,
   "id": "e1da8f75",
   "metadata": {},
   "outputs": [
    {
     "data": {
      "application/vnd.plotly.v1+json": {
       "config": {
        "plotlyServerURL": "https://plot.ly"
       },
       "data": [
        {
         "hovertemplate": "Canceló=No<br>internet_service=%{x}<br>percentage=%{y}<extra></extra>",
         "legendgroup": "No",
         "marker": {
          "color": "steelblue",
          "pattern": {
           "shape": ""
          }
         },
         "name": "No",
         "orientation": "v",
         "showlegend": true,
         "textposition": "auto",
         "type": "bar",
         "x": [
          "DSL",
          "Fiber optic",
          "Sin suscripción"
         ],
         "xaxis": "x",
         "y": {
          "bdata": "XI/C9SjcO0AK16NwPYo5QI/C9ShcDzRA",
          "dtype": "f8"
         },
         "yaxis": "y"
        },
        {
         "hovertemplate": "Canceló=Sí<br>internet_service=%{x}<br>percentage=%{y}<extra></extra>",
         "legendgroup": "Sí",
         "marker": {
          "color": "orange",
          "pattern": {
           "shape": ""
          }
         },
         "name": "Sí",
         "orientation": "v",
         "showlegend": true,
         "textposition": "auto",
         "type": "bar",
         "x": [
          "Fiber optic",
          "DSL",
          "Sin suscripción"
         ],
         "xaxis": "x",
         "y": {
          "bdata": "7FG4HoVrMkAUrkfhehQaQJqZmZmZmfk/",
          "dtype": "f8"
         },
         "yaxis": "y"
        }
       ],
       "layout": {
        "barmode": "stack",
        "height": 400,
        "legend": {
         "title": {
          "text": "Canceló"
         },
         "tracegroupgap": 0
        },
        "margin": {
         "b": 20,
         "t": 60
        },
        "template": {
         "data": {
          "bar": [
           {
            "error_x": {
             "color": "#2a3f5f"
            },
            "error_y": {
             "color": "#2a3f5f"
            },
            "marker": {
             "line": {
              "color": "#E5ECF6",
              "width": 0.5
             },
             "pattern": {
              "fillmode": "overlay",
              "size": 10,
              "solidity": 0.2
             }
            },
            "type": "bar"
           }
          ],
          "barpolar": [
           {
            "marker": {
             "line": {
              "color": "#E5ECF6",
              "width": 0.5
             },
             "pattern": {
              "fillmode": "overlay",
              "size": 10,
              "solidity": 0.2
             }
            },
            "type": "barpolar"
           }
          ],
          "carpet": [
           {
            "aaxis": {
             "endlinecolor": "#2a3f5f",
             "gridcolor": "white",
             "linecolor": "white",
             "minorgridcolor": "white",
             "startlinecolor": "#2a3f5f"
            },
            "baxis": {
             "endlinecolor": "#2a3f5f",
             "gridcolor": "white",
             "linecolor": "white",
             "minorgridcolor": "white",
             "startlinecolor": "#2a3f5f"
            },
            "type": "carpet"
           }
          ],
          "choropleth": [
           {
            "colorbar": {
             "outlinewidth": 0,
             "ticks": ""
            },
            "type": "choropleth"
           }
          ],
          "contour": [
           {
            "colorbar": {
             "outlinewidth": 0,
             "ticks": ""
            },
            "colorscale": [
             [
              0,
              "#0d0887"
             ],
             [
              0.1111111111111111,
              "#46039f"
             ],
             [
              0.2222222222222222,
              "#7201a8"
             ],
             [
              0.3333333333333333,
              "#9c179e"
             ],
             [
              0.4444444444444444,
              "#bd3786"
             ],
             [
              0.5555555555555556,
              "#d8576b"
             ],
             [
              0.6666666666666666,
              "#ed7953"
             ],
             [
              0.7777777777777778,
              "#fb9f3a"
             ],
             [
              0.8888888888888888,
              "#fdca26"
             ],
             [
              1,
              "#f0f921"
             ]
            ],
            "type": "contour"
           }
          ],
          "contourcarpet": [
           {
            "colorbar": {
             "outlinewidth": 0,
             "ticks": ""
            },
            "type": "contourcarpet"
           }
          ],
          "heatmap": [
           {
            "colorbar": {
             "outlinewidth": 0,
             "ticks": ""
            },
            "colorscale": [
             [
              0,
              "#0d0887"
             ],
             [
              0.1111111111111111,
              "#46039f"
             ],
             [
              0.2222222222222222,
              "#7201a8"
             ],
             [
              0.3333333333333333,
              "#9c179e"
             ],
             [
              0.4444444444444444,
              "#bd3786"
             ],
             [
              0.5555555555555556,
              "#d8576b"
             ],
             [
              0.6666666666666666,
              "#ed7953"
             ],
             [
              0.7777777777777778,
              "#fb9f3a"
             ],
             [
              0.8888888888888888,
              "#fdca26"
             ],
             [
              1,
              "#f0f921"
             ]
            ],
            "type": "heatmap"
           }
          ],
          "histogram": [
           {
            "marker": {
             "pattern": {
              "fillmode": "overlay",
              "size": 10,
              "solidity": 0.2
             }
            },
            "type": "histogram"
           }
          ],
          "histogram2d": [
           {
            "colorbar": {
             "outlinewidth": 0,
             "ticks": ""
            },
            "colorscale": [
             [
              0,
              "#0d0887"
             ],
             [
              0.1111111111111111,
              "#46039f"
             ],
             [
              0.2222222222222222,
              "#7201a8"
             ],
             [
              0.3333333333333333,
              "#9c179e"
             ],
             [
              0.4444444444444444,
              "#bd3786"
             ],
             [
              0.5555555555555556,
              "#d8576b"
             ],
             [
              0.6666666666666666,
              "#ed7953"
             ],
             [
              0.7777777777777778,
              "#fb9f3a"
             ],
             [
              0.8888888888888888,
              "#fdca26"
             ],
             [
              1,
              "#f0f921"
             ]
            ],
            "type": "histogram2d"
           }
          ],
          "histogram2dcontour": [
           {
            "colorbar": {
             "outlinewidth": 0,
             "ticks": ""
            },
            "colorscale": [
             [
              0,
              "#0d0887"
             ],
             [
              0.1111111111111111,
              "#46039f"
             ],
             [
              0.2222222222222222,
              "#7201a8"
             ],
             [
              0.3333333333333333,
              "#9c179e"
             ],
             [
              0.4444444444444444,
              "#bd3786"
             ],
             [
              0.5555555555555556,
              "#d8576b"
             ],
             [
              0.6666666666666666,
              "#ed7953"
             ],
             [
              0.7777777777777778,
              "#fb9f3a"
             ],
             [
              0.8888888888888888,
              "#fdca26"
             ],
             [
              1,
              "#f0f921"
             ]
            ],
            "type": "histogram2dcontour"
           }
          ],
          "mesh3d": [
           {
            "colorbar": {
             "outlinewidth": 0,
             "ticks": ""
            },
            "type": "mesh3d"
           }
          ],
          "parcoords": [
           {
            "line": {
             "colorbar": {
              "outlinewidth": 0,
              "ticks": ""
             }
            },
            "type": "parcoords"
           }
          ],
          "pie": [
           {
            "automargin": true,
            "type": "pie"
           }
          ],
          "scatter": [
           {
            "fillpattern": {
             "fillmode": "overlay",
             "size": 10,
             "solidity": 0.2
            },
            "type": "scatter"
           }
          ],
          "scatter3d": [
           {
            "line": {
             "colorbar": {
              "outlinewidth": 0,
              "ticks": ""
             }
            },
            "marker": {
             "colorbar": {
              "outlinewidth": 0,
              "ticks": ""
             }
            },
            "type": "scatter3d"
           }
          ],
          "scattercarpet": [
           {
            "marker": {
             "colorbar": {
              "outlinewidth": 0,
              "ticks": ""
             }
            },
            "type": "scattercarpet"
           }
          ],
          "scattergeo": [
           {
            "marker": {
             "colorbar": {
              "outlinewidth": 0,
              "ticks": ""
             }
            },
            "type": "scattergeo"
           }
          ],
          "scattergl": [
           {
            "marker": {
             "colorbar": {
              "outlinewidth": 0,
              "ticks": ""
             }
            },
            "type": "scattergl"
           }
          ],
          "scattermap": [
           {
            "marker": {
             "colorbar": {
              "outlinewidth": 0,
              "ticks": ""
             }
            },
            "type": "scattermap"
           }
          ],
          "scattermapbox": [
           {
            "marker": {
             "colorbar": {
              "outlinewidth": 0,
              "ticks": ""
             }
            },
            "type": "scattermapbox"
           }
          ],
          "scatterpolar": [
           {
            "marker": {
             "colorbar": {
              "outlinewidth": 0,
              "ticks": ""
             }
            },
            "type": "scatterpolar"
           }
          ],
          "scatterpolargl": [
           {
            "marker": {
             "colorbar": {
              "outlinewidth": 0,
              "ticks": ""
             }
            },
            "type": "scatterpolargl"
           }
          ],
          "scatterternary": [
           {
            "marker": {
             "colorbar": {
              "outlinewidth": 0,
              "ticks": ""
             }
            },
            "type": "scatterternary"
           }
          ],
          "surface": [
           {
            "colorbar": {
             "outlinewidth": 0,
             "ticks": ""
            },
            "colorscale": [
             [
              0,
              "#0d0887"
             ],
             [
              0.1111111111111111,
              "#46039f"
             ],
             [
              0.2222222222222222,
              "#7201a8"
             ],
             [
              0.3333333333333333,
              "#9c179e"
             ],
             [
              0.4444444444444444,
              "#bd3786"
             ],
             [
              0.5555555555555556,
              "#d8576b"
             ],
             [
              0.6666666666666666,
              "#ed7953"
             ],
             [
              0.7777777777777778,
              "#fb9f3a"
             ],
             [
              0.8888888888888888,
              "#fdca26"
             ],
             [
              1,
              "#f0f921"
             ]
            ],
            "type": "surface"
           }
          ],
          "table": [
           {
            "cells": {
             "fill": {
              "color": "#EBF0F8"
             },
             "line": {
              "color": "white"
             }
            },
            "header": {
             "fill": {
              "color": "#C8D4E3"
             },
             "line": {
              "color": "white"
             }
            },
            "type": "table"
           }
          ]
         },
         "layout": {
          "annotationdefaults": {
           "arrowcolor": "#2a3f5f",
           "arrowhead": 0,
           "arrowwidth": 1
          },
          "autotypenumbers": "strict",
          "coloraxis": {
           "colorbar": {
            "outlinewidth": 0,
            "ticks": ""
           }
          },
          "colorscale": {
           "diverging": [
            [
             0,
             "#8e0152"
            ],
            [
             0.1,
             "#c51b7d"
            ],
            [
             0.2,
             "#de77ae"
            ],
            [
             0.3,
             "#f1b6da"
            ],
            [
             0.4,
             "#fde0ef"
            ],
            [
             0.5,
             "#f7f7f7"
            ],
            [
             0.6,
             "#e6f5d0"
            ],
            [
             0.7,
             "#b8e186"
            ],
            [
             0.8,
             "#7fbc41"
            ],
            [
             0.9,
             "#4d9221"
            ],
            [
             1,
             "#276419"
            ]
           ],
           "sequential": [
            [
             0,
             "#0d0887"
            ],
            [
             0.1111111111111111,
             "#46039f"
            ],
            [
             0.2222222222222222,
             "#7201a8"
            ],
            [
             0.3333333333333333,
             "#9c179e"
            ],
            [
             0.4444444444444444,
             "#bd3786"
            ],
            [
             0.5555555555555556,
             "#d8576b"
            ],
            [
             0.6666666666666666,
             "#ed7953"
            ],
            [
             0.7777777777777778,
             "#fb9f3a"
            ],
            [
             0.8888888888888888,
             "#fdca26"
            ],
            [
             1,
             "#f0f921"
            ]
           ],
           "sequentialminus": [
            [
             0,
             "#0d0887"
            ],
            [
             0.1111111111111111,
             "#46039f"
            ],
            [
             0.2222222222222222,
             "#7201a8"
            ],
            [
             0.3333333333333333,
             "#9c179e"
            ],
            [
             0.4444444444444444,
             "#bd3786"
            ],
            [
             0.5555555555555556,
             "#d8576b"
            ],
            [
             0.6666666666666666,
             "#ed7953"
            ],
            [
             0.7777777777777778,
             "#fb9f3a"
            ],
            [
             0.8888888888888888,
             "#fdca26"
            ],
            [
             1,
             "#f0f921"
            ]
           ]
          },
          "colorway": [
           "#636efa",
           "#EF553B",
           "#00cc96",
           "#ab63fa",
           "#FFA15A",
           "#19d3f3",
           "#FF6692",
           "#B6E880",
           "#FF97FF",
           "#FECB52"
          ],
          "font": {
           "color": "#2a3f5f"
          },
          "geo": {
           "bgcolor": "white",
           "lakecolor": "white",
           "landcolor": "#E5ECF6",
           "showlakes": true,
           "showland": true,
           "subunitcolor": "white"
          },
          "hoverlabel": {
           "align": "left"
          },
          "hovermode": "closest",
          "mapbox": {
           "style": "light"
          },
          "paper_bgcolor": "white",
          "plot_bgcolor": "#E5ECF6",
          "polar": {
           "angularaxis": {
            "gridcolor": "white",
            "linecolor": "white",
            "ticks": ""
           },
           "bgcolor": "#E5ECF6",
           "radialaxis": {
            "gridcolor": "white",
            "linecolor": "white",
            "ticks": ""
           }
          },
          "scene": {
           "xaxis": {
            "backgroundcolor": "#E5ECF6",
            "gridcolor": "white",
            "gridwidth": 2,
            "linecolor": "white",
            "showbackground": true,
            "ticks": "",
            "zerolinecolor": "white"
           },
           "yaxis": {
            "backgroundcolor": "#E5ECF6",
            "gridcolor": "white",
            "gridwidth": 2,
            "linecolor": "white",
            "showbackground": true,
            "ticks": "",
            "zerolinecolor": "white"
           },
           "zaxis": {
            "backgroundcolor": "#E5ECF6",
            "gridcolor": "white",
            "gridwidth": 2,
            "linecolor": "white",
            "showbackground": true,
            "ticks": "",
            "zerolinecolor": "white"
           }
          },
          "shapedefaults": {
           "line": {
            "color": "#2a3f5f"
           }
          },
          "ternary": {
           "aaxis": {
            "gridcolor": "white",
            "linecolor": "white",
            "ticks": ""
           },
           "baxis": {
            "gridcolor": "white",
            "linecolor": "white",
            "ticks": ""
           },
           "bgcolor": "#E5ECF6",
           "caxis": {
            "gridcolor": "white",
            "linecolor": "white",
            "ticks": ""
           }
          },
          "title": {
           "x": 0.05
          },
          "xaxis": {
           "automargin": true,
           "gridcolor": "white",
           "linecolor": "white",
           "ticks": "",
           "title": {
            "standoff": 15
           },
           "zerolinecolor": "white",
           "zerolinewidth": 2
          },
          "yaxis": {
           "automargin": true,
           "gridcolor": "white",
           "linecolor": "white",
           "ticks": "",
           "title": {
            "standoff": 15
           },
           "zerolinecolor": "white",
           "zerolinewidth": 2
          }
         }
        },
        "title": {
         "text": "<b>Relación entre el tipo de servicio de internet y la cancelación del servicio</b>",
         "x": 0.5,
         "y": 0.93
        },
        "width": 800,
        "xaxis": {
         "anchor": "y",
         "domain": [
          0,
          1
         ],
         "title": {
          "text": ""
         }
        },
        "yaxis": {
         "anchor": "x",
         "domain": [
          0,
          1
         ],
         "range": [
          0,
          50
         ],
         "title": {
          "text": "<b>Porcentaje</b>"
         }
        }
       }
      }
     },
     "metadata": {},
     "output_type": "display_data"
    }
   ],
   "source": [
    "# Exploramos la relación entre el tipo de servicio de internet y la cancelación del servicio\n",
    "internet_service_churn_rate = round(full_data[['internet_service', 'churn']].value_counts(normalize=True) * 100, 2).reset_index(name='percentage')\n",
    "internet_service_churn_rate['churn'] = internet_service_churn_rate['churn'].map({0: 'No', 1: 'Sí'})\n",
    "\n",
    "fig = px.bar(internet_service_churn_rate, \n",
    "             x='internet_service', \n",
    "             y='percentage',\n",
    "             color='churn',\n",
    "             labels={'churn': 'Canceló'},\n",
    "             width=800,\n",
    "             height=400,\n",
    "             color_discrete_map={'Sí': 'orange', 'No': 'steelblue'})\n",
    "\n",
    "fig.update_layout(xaxis_title='',\n",
    "    yaxis_title='<b>Porcentaje</b>',\n",
    "    title={'text': '<b>Relación entre el tipo de servicio de internet y la cancelación del servicio</b>', 'x': 0.5, 'y': 0.93},\n",
    "    yaxis_range=[0,50],\n",
    "    barmode='stack',\n",
    "    margin=dict(b=20))\n",
    "fig.show()"
   ]
  },
  {
   "cell_type": "markdown",
   "id": "f2ea0cd7",
   "metadata": {},
   "source": [
    "Sorpresivamente vemos una tasa de cancelación considerablemente mayor en los clientes que utilizan fibra óptica con respecto a los que utilizan conexión DSL. La conexión por fibra óptica es una tecnología más reciente que la conexión por DSL y por tanto también es más rápida. Podríamos sospechar que los clientes han experimentado algunos problemas con este tipo de conexión y por ello hay más cancelaciones. Para revisar esta suposición podemos comparar la tasa de cancelación entre los que utilizan fibra óptica y además tienen el servicio de soporte técnico."
   ]
  },
  {
   "cell_type": "code",
   "execution_count": 28,
   "id": "428f0263",
   "metadata": {},
   "outputs": [
    {
     "data": {
      "image/png": "[encoded data removed]",
      "text/plain": [
       "<Figure size 1500x500 with 2 Axes>"
      ]
     },
     "metadata": {},
     "output_type": "display_data"
    }
   ],
   "source": [
    "# Comparamos la relación de cancelación con los clientes que sí tenían tech support\n",
    "fig, axs = plt.subplots(1, 2, figsize=(15, 5), sharey=True)\n",
    "plt.suptitle('Comparación de cancelación en relación al servicio de soporte técnico y tipo de conexión', fontsize=18, fontweight='bold')\n",
    "# Segmentamos los clientes que no usan soporte técnico\n",
    "tech_support= full_data[full_data['tech_support'] == 'No']\n",
    "plot_cat(tech_support, 'internet_service', 'Tipo de servicio de internet (sin tech support)', ['Fibra óptica', 'DSL'], axs[0])\n",
    "# Segmentamos los clientes que usan soporte técnico\n",
    "tech_support= full_data[full_data['tech_support'] == 'Yes']\n",
    "plot_cat(tech_support, 'internet_service', 'Tipo de servicio de internet (con tech support)', ['DSL', 'Fibra óptica'], axs[1])\n",
    "plt.ylim(0, 60)\n",
    "plt.legend(title='  Canceló  ', labels=['No', 'Sí'], bbox_to_anchor=(1.02, 1), loc='upper left', borderaxespad=0)\n",
    "plt.tight_layout()\n",
    "plt.show()"
   ]
  },
  {
   "cell_type": "markdown",
   "id": "adaab436",
   "metadata": {},
   "source": [
    "En el gráfico de la derecha podemos confirmar que los clientes que utilizan el servicio de soporte técnico junto con el tipo de conexión por fibra óptica tienen una taza de cancelación mucho más baja que aquellos que no lo utilizan. Por ende, la compañía podría apalancar este servicio para retener a los clientes.\n",
    "\n",
    "Vamos a explorar ahora las características númericas en cuanto a los cargos mensuales y totales."
   ]
  },
  {
   "cell_type": "markdown",
   "id": "9849e166",
   "metadata": {},
   "source": [
    "##### 4.2.1.4 Exploración de características numéricas (cargos mensuales y totales) y la deserción de los clientes"
   ]
  },
  {
   "cell_type": "code",
   "execution_count": 29,
   "id": "2a00dbf8",
   "metadata": {},
   "outputs": [
    {
     "data": {
      "application/vnd.plotly.v1+json": {
       "config": {
        "plotlyServerURL": "https://plot.ly"
       },
       "data": [
        {
         "bingroup": "x",
         "hovertemplate": "Canceló=0<br>Cargos mensuales=%{x}<br>count=%{y}<extra></extra>",
         "legendgroup": "0",
         "marker": {
          "color": "steelblue",
          "pattern": {
           "shape": ""
          }
         },
         "name": "No",
         "nbinsx": 200,
         "orientation": "v",
         "showlegend": true,
         "type": "histogram",
         "x": {
          "bdata": "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",
          "dtype": "f8"
         },
         "xaxis": "x",
         "yaxis": "y"
        },
        {
         "bingroup": "x",
         "hovertemplate": "Canceló=1<br>Cargos mensuales=%{x}<br>count=%{y}<extra></extra>",
         "legendgroup": "1",
         "marker": {
          "color": "orange",
          "pattern": {
           "shape": ""
          }
         },
         "name": "Sí",
         "nbinsx": 200,
         "orientation": "v",
         "showlegend": true,
         "type": "histogram",
         "x": {
          "bdata": "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",
          "dtype": "f8"
         },
         "xaxis": "x",
         "yaxis": "y"
        }
       ],
       "layout": {
        "barmode": "stack",
        "height": 400,
        "legend": {
         "title": {
          "text": "Canceló"
         },
         "tracegroupgap": 0
        },
        "margin": {
         "b": 20,
         "t": 60
        },
        "template": {
         "data": {
          "bar": [
           {
            "error_x": {
             "color": "#2a3f5f"
            },
            "error_y": {
             "color": "#2a3f5f"
            },
            "marker": {
             "line": {
              "color": "#E5ECF6",
              "width": 0.5
             },
             "pattern": {
              "fillmode": "overlay",
              "size": 10,
              "solidity": 0.2
             }
            },
            "type": "bar"
           }
          ],
          "barpolar": [
           {
            "marker": {
             "line": {
              "color": "#E5ECF6",
              "width": 0.5
             },
             "pattern": {
              "fillmode": "overlay",
              "size": 10,
              "solidity": 0.2
             }
            },
            "type": "barpolar"
           }
          ],
          "carpet": [
           {
            "aaxis": {
             "endlinecolor": "#2a3f5f",
             "gridcolor": "white",
             "linecolor": "white",
             "minorgridcolor": "white",
             "startlinecolor": "#2a3f5f"
            },
            "baxis": {
             "endlinecolor": "#2a3f5f",
             "gridcolor": "white",
             "linecolor": "white",
             "minorgridcolor": "white",
             "startlinecolor": "#2a3f5f"
            },
            "type": "carpet"
           }
          ],
          "choropleth": [
           {
            "colorbar": {
             "outlinewidth": 0,
             "ticks": ""
            },
            "type": "choropleth"
           }
          ],
          "contour": [
           {
            "colorbar": {
             "outlinewidth": 0,
             "ticks": ""
            },
            "colorscale": [
             [
              0,
              "#0d0887"
             ],
             [
              0.1111111111111111,
              "#46039f"
             ],
             [
              0.2222222222222222,
              "#7201a8"
             ],
             [
              0.3333333333333333,
              "#9c179e"
             ],
             [
              0.4444444444444444,
              "#bd3786"
             ],
             [
              0.5555555555555556,
              "#d8576b"
             ],
             [
              0.6666666666666666,
              "#ed7953"
             ],
             [
              0.7777777777777778,
              "#fb9f3a"
             ],
             [
              0.8888888888888888,
              "#fdca26"
             ],
             [
              1,
              "#f0f921"
             ]
            ],
            "type": "contour"
           }
          ],
          "contourcarpet": [
           {
            "colorbar": {
             "outlinewidth": 0,
             "ticks": ""
            },
            "type": "contourcarpet"
           }
          ],
          "heatmap": [
           {
            "colorbar": {
             "outlinewidth": 0,
             "ticks": ""
            },
            "colorscale": [
             [
              0,
              "#0d0887"
             ],
             [
              0.1111111111111111,
              "#46039f"
             ],
             [
              0.2222222222222222,
              "#7201a8"
             ],
             [
              0.3333333333333333,
              "#9c179e"
             ],
             [
              0.4444444444444444,
              "#bd3786"
             ],
             [
              0.5555555555555556,
              "#d8576b"
             ],
             [
              0.6666666666666666,
              "#ed7953"
             ],
             [
              0.7777777777777778,
              "#fb9f3a"
             ],
             [
              0.8888888888888888,
              "#fdca26"
             ],
             [
              1,
              "#f0f921"
             ]
            ],
            "type": "heatmap"
           }
          ],
          "histogram": [
           {
            "marker": {
             "pattern": {
              "fillmode": "overlay",
              "size": 10,
              "solidity": 0.2
             }
            },
            "type": "histogram"
           }
          ],
          "histogram2d": [
           {
            "colorbar": {
             "outlinewidth": 0,
             "ticks": ""
            },
            "colorscale": [
             [
              0,
              "#0d0887"
             ],
             [
              0.1111111111111111,
              "#46039f"
             ],
             [
              0.2222222222222222,
              "#7201a8"
             ],
             [
              0.3333333333333333,
              "#9c179e"
             ],
             [
              0.4444444444444444,
              "#bd3786"
             ],
             [
              0.5555555555555556,
              "#d8576b"
             ],
             [
              0.6666666666666666,
              "#ed7953"
             ],
             [
              0.7777777777777778,
              "#fb9f3a"
             ],
             [
              0.8888888888888888,
              "#fdca26"
             ],
             [
              1,
              "#f0f921"
             ]
            ],
            "type": "histogram2d"
           }
          ],
          "histogram2dcontour": [
           {
            "colorbar": {
             "outlinewidth": 0,
             "ticks": ""
            },
            "colorscale": [
             [
              0,
              "#0d0887"
             ],
             [
              0.1111111111111111,
              "#46039f"
             ],
             [
              0.2222222222222222,
              "#7201a8"
             ],
             [
              0.3333333333333333,
              "#9c179e"
             ],
             [
              0.4444444444444444,
              "#bd3786"
             ],
             [
              0.5555555555555556,
              "#d8576b"
             ],
             [
              0.6666666666666666,
              "#ed7953"
             ],
             [
              0.7777777777777778,
              "#fb9f3a"
             ],
             [
              0.8888888888888888,
              "#fdca26"
             ],
             [
              1,
              "#f0f921"
             ]
            ],
            "type": "histogram2dcontour"
           }
          ],
          "mesh3d": [
           {
            "colorbar": {
             "outlinewidth": 0,
             "ticks": ""
            },
            "type": "mesh3d"
           }
          ],
          "parcoords": [
           {
            "line": {
             "colorbar": {
              "outlinewidth": 0,
              "ticks": ""
             }
            },
            "type": "parcoords"
           }
          ],
          "pie": [
           {
            "automargin": true,
            "type": "pie"
           }
          ],
          "scatter": [
           {
            "fillpattern": {
             "fillmode": "overlay",
             "size": 10,
             "solidity": 0.2
            },
            "type": "scatter"
           }
          ],
          "scatter3d": [
           {
            "line": {
             "colorbar": {
              "outlinewidth": 0,
              "ticks": ""
             }
            },
            "marker": {
             "colorbar": {
              "outlinewidth": 0,
              "ticks": ""
             }
            },
            "type": "scatter3d"
           }
          ],
          "scattercarpet": [
           {
            "marker": {
             "colorbar": {
              "outlinewidth": 0,
              "ticks": ""
             }
            },
            "type": "scattercarpet"
           }
          ],
          "scattergeo": [
           {
            "marker": {
             "colorbar": {
              "outlinewidth": 0,
              "ticks": ""
             }
            },
            "type": "scattergeo"
           }
          ],
          "scattergl": [
           {
            "marker": {
             "colorbar": {
              "outlinewidth": 0,
              "ticks": ""
             }
            },
            "type": "scattergl"
           }
          ],
          "scattermap": [
           {
            "marker": {
             "colorbar": {
              "outlinewidth": 0,
              "ticks": ""
             }
            },
            "type": "scattermap"
           }
          ],
          "scattermapbox": [
           {
            "marker": {
             "colorbar": {
              "outlinewidth": 0,
              "ticks": ""
             }
            },
            "type": "scattermapbox"
           }
          ],
          "scatterpolar": [
           {
            "marker": {
             "colorbar": {
              "outlinewidth": 0,
              "ticks": ""
             }
            },
            "type": "scatterpolar"
           }
          ],
          "scatterpolargl": [
           {
            "marker": {
             "colorbar": {
              "outlinewidth": 0,
              "ticks": ""
             }
            },
            "type": "scatterpolargl"
           }
          ],
          "scatterternary": [
           {
            "marker": {
             "colorbar": {
              "outlinewidth": 0,
              "ticks": ""
             }
            },
            "type": "scatterternary"
           }
          ],
          "surface": [
           {
            "colorbar": {
             "outlinewidth": 0,
             "ticks": ""
            },
            "colorscale": [
             [
              0,
              "#0d0887"
             ],
             [
              0.1111111111111111,
              "#46039f"
             ],
             [
              0.2222222222222222,
              "#7201a8"
             ],
             [
              0.3333333333333333,
              "#9c179e"
             ],
             [
              0.4444444444444444,
              "#bd3786"
             ],
             [
              0.5555555555555556,
              "#d8576b"
             ],
             [
              0.6666666666666666,
              "#ed7953"
             ],
             [
              0.7777777777777778,
              "#fb9f3a"
             ],
             [
              0.8888888888888888,
              "#fdca26"
             ],
             [
              1,
              "#f0f921"
             ]
            ],
            "type": "surface"
           }
          ],
          "table": [
           {
            "cells": {
             "fill": {
              "color": "#EBF0F8"
             },
             "line": {
              "color": "white"
             }
            },
            "header": {
             "fill": {
              "color": "#C8D4E3"
             },
             "line": {
              "color": "white"
             }
            },
            "type": "table"
           }
          ]
         },
         "layout": {
          "annotationdefaults": {
           "arrowcolor": "#2a3f5f",
           "arrowhead": 0,
           "arrowwidth": 1
          },
          "autotypenumbers": "strict",
          "coloraxis": {
           "colorbar": {
            "outlinewidth": 0,
            "ticks": ""
           }
          },
          "colorscale": {
           "diverging": [
            [
             0,
             "#8e0152"
            ],
            [
             0.1,
             "#c51b7d"
            ],
            [
             0.2,
             "#de77ae"
            ],
            [
             0.3,
             "#f1b6da"
            ],
            [
             0.4,
             "#fde0ef"
            ],
            [
             0.5,
             "#f7f7f7"
            ],
            [
             0.6,
             "#e6f5d0"
            ],
            [
             0.7,
             "#b8e186"
            ],
            [
             0.8,
             "#7fbc41"
            ],
            [
             0.9,
             "#4d9221"
            ],
            [
             1,
             "#276419"
            ]
           ],
           "sequential": [
            [
             0,
             "#0d0887"
            ],
            [
             0.1111111111111111,
             "#46039f"
            ],
            [
             0.2222222222222222,
             "#7201a8"
            ],
            [
             0.3333333333333333,
             "#9c179e"
            ],
            [
             0.4444444444444444,
             "#bd3786"
            ],
            [
             0.5555555555555556,
             "#d8576b"
            ],
            [
             0.6666666666666666,
             "#ed7953"
            ],
            [
             0.7777777777777778,
             "#fb9f3a"
            ],
            [
             0.8888888888888888,
             "#fdca26"
            ],
            [
             1,
             "#f0f921"
            ]
           ],
           "sequentialminus": [
            [
             0,
             "#0d0887"
            ],
            [
             0.1111111111111111,
             "#46039f"
            ],
            [
             0.2222222222222222,
             "#7201a8"
            ],
            [
             0.3333333333333333,
             "#9c179e"
            ],
            [
             0.4444444444444444,
             "#bd3786"
            ],
            [
             0.5555555555555556,
             "#d8576b"
            ],
            [
             0.6666666666666666,
             "#ed7953"
            ],
            [
             0.7777777777777778,
             "#fb9f3a"
            ],
            [
             0.8888888888888888,
             "#fdca26"
            ],
            [
             1,
             "#f0f921"
            ]
           ]
          },
          "colorway": [
           "#636efa",
           "#EF553B",
           "#00cc96",
           "#ab63fa",
           "#FFA15A",
           "#19d3f3",
           "#FF6692",
           "#B6E880",
           "#FF97FF",
           "#FECB52"
          ],
          "font": {
           "color": "#2a3f5f"
          },
          "geo": {
           "bgcolor": "white",
           "lakecolor": "white",
           "landcolor": "#E5ECF6",
           "showlakes": true,
           "showland": true,
           "subunitcolor": "white"
          },
          "hoverlabel": {
           "align": "left"
          },
          "hovermode": "closest",
          "mapbox": {
           "style": "light"
          },
          "paper_bgcolor": "white",
          "plot_bgcolor": "#E5ECF6",
          "polar": {
           "angularaxis": {
            "gridcolor": "white",
            "linecolor": "white",
            "ticks": ""
           },
           "bgcolor": "#E5ECF6",
           "radialaxis": {
            "gridcolor": "white",
            "linecolor": "white",
            "ticks": ""
           }
          },
          "scene": {
           "xaxis": {
            "backgroundcolor": "#E5ECF6",
            "gridcolor": "white",
            "gridwidth": 2,
            "linecolor": "white",
            "showbackground": true,
            "ticks": "",
            "zerolinecolor": "white"
           },
           "yaxis": {
            "backgroundcolor": "#E5ECF6",
            "gridcolor": "white",
            "gridwidth": 2,
            "linecolor": "white",
            "showbackground": true,
            "ticks": "",
            "zerolinecolor": "white"
           },
           "zaxis": {
            "backgroundcolor": "#E5ECF6",
            "gridcolor": "white",
            "gridwidth": 2,
            "linecolor": "white",
            "showbackground": true,
            "ticks": "",
            "zerolinecolor": "white"
           }
          },
          "shapedefaults": {
           "line": {
            "color": "#2a3f5f"
           }
          },
          "ternary": {
           "aaxis": {
            "gridcolor": "white",
            "linecolor": "white",
            "ticks": ""
           },
           "baxis": {
            "gridcolor": "white",
            "linecolor": "white",
            "ticks": ""
           },
           "bgcolor": "#E5ECF6",
           "caxis": {
            "gridcolor": "white",
            "linecolor": "white",
            "ticks": ""
           }
          },
          "title": {
           "x": 0.05
          },
          "xaxis": {
           "automargin": true,
           "gridcolor": "white",
           "linecolor": "white",
           "ticks": "",
           "title": {
            "standoff": 15
           },
           "zerolinecolor": "white",
           "zerolinewidth": 2
          },
          "yaxis": {
           "automargin": true,
           "gridcolor": "white",
           "linecolor": "white",
           "ticks": "",
           "title": {
            "standoff": 15
           },
           "zerolinecolor": "white",
           "zerolinewidth": 2
          }
         }
        },
        "title": {
         "text": "<b>Distribución de cargos mensuales por tasa de cancelación</b>",
         "x": 0.5,
         "y": 0.93
        },
        "width": 800,
        "xaxis": {
         "anchor": "y",
         "domain": [
          0,
          1
         ],
         "title": {
          "text": "<b>Monto del cargo mensual</b>"
         }
        },
        "yaxis": {
         "anchor": "x",
         "domain": [
          0,
          1
         ],
         "title": {
          "text": "<b>Frecuencia</b>"
         }
        }
       }
      }
     },
     "metadata": {},
     "output_type": "display_data"
    }
   ],
   "source": [
    "# Distribución de cargos mensuales por tasa de cancelación\n",
    "fig = px.histogram(full_data,\n",
    "                   nbins=200,\n",
    "                   x='monthly_charges', \n",
    "                   color='churn', \n",
    "                   labels={'monthly_charges': 'Cargos mensuales', 'churn': 'Canceló'},\n",
    "                   width=800,\n",
    "                   height=400,\n",
    "                   color_discrete_map={1: 'orange', 0: 'steelblue'})\n",
    "fig.for_each_trace(lambda x: x.update(name='Sí' if x.name == '1' else 'No'))\n",
    "fig.update_layout(\n",
    "    xaxis_title='<b>Monto del cargo mensual</b>', \n",
    "    yaxis_title='<b>Frecuencia</b>',\n",
    "    title={'text': '<b>Distribución de cargos mensuales por tasa de cancelación</b>', 'x': 0.5, 'y': 0.93},\n",
    "    barmode='stack',\n",
    "    margin=dict(b=20))\n",
    "fig.show()\n"
   ]
  },
  {
   "cell_type": "markdown",
   "id": "b0ee8359",
   "metadata": {},
   "source": [
    "En la gráfica podemos ver claramente que las tasas de cancelación son más elevadas conforme el monto del cargo mensual se eleva en el rango aproximado de 69 a 106. Esto podría deberse a los servicios adicionales que tienen contratados los clientes. Exploraremos la media de cargos mensuales para ver si hay alguna diferencia significativa.\n"
   ]
  },
  {
   "cell_type": "code",
   "execution_count": 30,
   "id": "f79a4365",
   "metadata": {},
   "outputs": [
    {
     "data": {
      "image/png": "[encoded data removed]",
      "text/plain": [
       "<Figure size 800x500 with 1 Axes>"
      ]
     },
     "metadata": {},
     "output_type": "display_data"
    }
   ],
   "source": [
    "# Relación de clientes que cancelaron su contrato con respecto a la media de cargos mensuales por servicio básico\n",
    "\n",
    "churn_rate_per_service = full_data.pivot_table(index='basic_services', columns='churn', values='monthly_charges', aggfunc='mean')\n",
    "churn_rate_per_service.plot(kind='bar', rot=0, color=['steelblue', 'orange'], figsize=(8, 5))\n",
    "\n",
    "plt.xticks([0, 1, 2], ['Ambos servicios', 'Solo internet', 'Solo teléfono'], rotation=0)\n",
    "plt.title('Aparentemente, no hay una diferencia significativa entre la media de\\ncargos mensuales de los clientes que cancelaron y los que no', pad=10)\n",
    "plt.xlabel('')\n",
    "plt.ylabel('Media de cargos mensuales')\n",
    "plt.ylim(0, 100)\n",
    "plt.legend(title='Canceló', labels=['No', 'Sí'], loc='upper right')\n",
    "for container in plt.gca().containers:\n",
    "    plt.gca().bar_label(container, fmt='%.2f', padding=3)\n",
    "plt.tight_layout()\n",
    "plt.show()\n"
   ]
  },
  {
   "cell_type": "code",
   "execution_count": 31,
   "id": "45930a30",
   "metadata": {},
   "outputs": [
    {
     "data": {
      "application/vnd.plotly.v1+json": {
       "config": {
        "plotlyServerURL": "https://plot.ly"
       },
       "data": [
        {
         "bingroup": "x",
         "hovertemplate": "Canceló=0<br>Cargos totales=%{x}<br>count=%{y}<extra></extra>",
         "legendgroup": "0",
         "marker": {
          "color": "steelblue",
          "pattern": {
           "shape": ""
          }
         },
         "name": "No",
         "nbinsx": 80,
         "orientation": "v",
         "showlegend": true,
         "type": "histogram",
         "x": {
          "bdata": "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",
          "dtype": "f8"
         },
         "xaxis": "x",
         "yaxis": "y"
        },
        {
         "bingroup": "x",
         "hovertemplate": "Canceló=1<br>Cargos totales=%{x}<br>count=%{y}<extra></extra>",
         "legendgroup": "1",
         "marker": {
          "color": "orange",
          "pattern": {
           "shape": ""
          }
         },
         "name": "Sí",
         "nbinsx": 80,
         "orientation": "v",
         "showlegend": true,
         "type": "histogram",
         "x": {
          "bdata": "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",
          "dtype": "f8"
         },
         "xaxis": "x",
         "yaxis": "y"
        }
       ],
       "layout": {
        "barmode": "stack",
        "height": 400,
        "legend": {
         "title": {
          "text": "Canceló"
         },
         "tracegroupgap": 0
        },
        "margin": {
         "b": 20,
         "t": 60
        },
        "template": {
         "data": {
          "bar": [
           {
            "error_x": {
             "color": "#2a3f5f"
            },
            "error_y": {
             "color": "#2a3f5f"
            },
            "marker": {
             "line": {
              "color": "#E5ECF6",
              "width": 0.5
             },
             "pattern": {
              "fillmode": "overlay",
              "size": 10,
              "solidity": 0.2
             }
            },
            "type": "bar"
           }
          ],
          "barpolar": [
           {
            "marker": {
             "line": {
              "color": "#E5ECF6",
              "width": 0.5
             },
             "pattern": {
              "fillmode": "overlay",
              "size": 10,
              "solidity": 0.2
             }
            },
            "type": "barpolar"
           }
          ],
          "carpet": [
           {
            "aaxis": {
             "endlinecolor": "#2a3f5f",
             "gridcolor": "white",
             "linecolor": "white",
             "minorgridcolor": "white",
             "startlinecolor": "#2a3f5f"
            },
            "baxis": {
             "endlinecolor": "#2a3f5f",
             "gridcolor": "white",
             "linecolor": "white",
             "minorgridcolor": "white",
             "startlinecolor": "#2a3f5f"
            },
            "type": "carpet"
           }
          ],
          "choropleth": [
           {
            "colorbar": {
             "outlinewidth": 0,
             "ticks": ""
            },
            "type": "choropleth"
           }
          ],
          "contour": [
           {
            "colorbar": {
             "outlinewidth": 0,
             "ticks": ""
            },
            "colorscale": [
             [
              0,
              "#0d0887"
             ],
             [
              0.1111111111111111,
              "#46039f"
             ],
             [
              0.2222222222222222,
              "#7201a8"
             ],
             [
              0.3333333333333333,
              "#9c179e"
             ],
             [
              0.4444444444444444,
              "#bd3786"
             ],
             [
              0.5555555555555556,
              "#d8576b"
             ],
             [
              0.6666666666666666,
              "#ed7953"
             ],
             [
              0.7777777777777778,
              "#fb9f3a"
             ],
             [
              0.8888888888888888,
              "#fdca26"
             ],
             [
              1,
              "#f0f921"
             ]
            ],
            "type": "contour"
           }
          ],
          "contourcarpet": [
           {
            "colorbar": {
             "outlinewidth": 0,
             "ticks": ""
            },
            "type": "contourcarpet"
           }
          ],
          "heatmap": [
           {
            "colorbar": {
             "outlinewidth": 0,
             "ticks": ""
            },
            "colorscale": [
             [
              0,
              "#0d0887"
             ],
             [
              0.1111111111111111,
              "#46039f"
             ],
             [
              0.2222222222222222,
              "#7201a8"
             ],
             [
              0.3333333333333333,
              "#9c179e"
             ],
             [
              0.4444444444444444,
              "#bd3786"
             ],
             [
              0.5555555555555556,
              "#d8576b"
             ],
             [
              0.6666666666666666,
              "#ed7953"
             ],
             [
              0.7777777777777778,
              "#fb9f3a"
             ],
             [
              0.8888888888888888,
              "#fdca26"
             ],
             [
              1,
              "#f0f921"
             ]
            ],
            "type": "heatmap"
           }
          ],
          "histogram": [
           {
            "marker": {
             "pattern": {
              "fillmode": "overlay",
              "size": 10,
              "solidity": 0.2
             }
            },
            "type": "histogram"
           }
          ],
          "histogram2d": [
           {
            "colorbar": {
             "outlinewidth": 0,
             "ticks": ""
            },
            "colorscale": [
             [
              0,
              "#0d0887"
             ],
             [
              0.1111111111111111,
              "#46039f"
             ],
             [
              0.2222222222222222,
              "#7201a8"
             ],
             [
              0.3333333333333333,
              "#9c179e"
             ],
             [
              0.4444444444444444,
              "#bd3786"
             ],
             [
              0.5555555555555556,
              "#d8576b"
             ],
             [
              0.6666666666666666,
              "#ed7953"
             ],
             [
              0.7777777777777778,
              "#fb9f3a"
             ],
             [
              0.8888888888888888,
              "#fdca26"
             ],
             [
              1,
              "#f0f921"
             ]
            ],
            "type": "histogram2d"
           }
          ],
          "histogram2dcontour": [
           {
            "colorbar": {
             "outlinewidth": 0,
             "ticks": ""
            },
            "colorscale": [
             [
              0,
              "#0d0887"
             ],
             [
              0.1111111111111111,
              "#46039f"
             ],
             [
              0.2222222222222222,
              "#7201a8"
             ],
             [
              0.3333333333333333,
              "#9c179e"
             ],
             [
              0.4444444444444444,
              "#bd3786"
             ],
             [
              0.5555555555555556,
              "#d8576b"
             ],
             [
              0.6666666666666666,
              "#ed7953"
             ],
             [
              0.7777777777777778,
              "#fb9f3a"
             ],
             [
              0.8888888888888888,
              "#fdca26"
             ],
             [
              1,
              "#f0f921"
             ]
            ],
            "type": "histogram2dcontour"
           }
          ],
          "mesh3d": [
           {
            "colorbar": {
             "outlinewidth": 0,
             "ticks": ""
            },
            "type": "mesh3d"
           }
          ],
          "parcoords": [
           {
            "line": {
             "colorbar": {
              "outlinewidth": 0,
              "ticks": ""
             }
            },
            "type": "parcoords"
           }
          ],
          "pie": [
           {
            "automargin": true,
            "type": "pie"
           }
          ],
          "scatter": [
           {
            "fillpattern": {
             "fillmode": "overlay",
             "size": 10,
             "solidity": 0.2
            },
            "type": "scatter"
           }
          ],
          "scatter3d": [
           {
            "line": {
             "colorbar": {
              "outlinewidth": 0,
              "ticks": ""
             }
            },
            "marker": {
             "colorbar": {
              "outlinewidth": 0,
              "ticks": ""
             }
            },
            "type": "scatter3d"
           }
          ],
          "scattercarpet": [
           {
            "marker": {
             "colorbar": {
              "outlinewidth": 0,
              "ticks": ""
             }
            },
            "type": "scattercarpet"
           }
          ],
          "scattergeo": [
           {
            "marker": {
             "colorbar": {
              "outlinewidth": 0,
              "ticks": ""
             }
            },
            "type": "scattergeo"
           }
          ],
          "scattergl": [
           {
            "marker": {
             "colorbar": {
              "outlinewidth": 0,
              "ticks": ""
             }
            },
            "type": "scattergl"
           }
          ],
          "scattermap": [
           {
            "marker": {
             "colorbar": {
              "outlinewidth": 0,
              "ticks": ""
             }
            },
            "type": "scattermap"
           }
          ],
          "scattermapbox": [
           {
            "marker": {
             "colorbar": {
              "outlinewidth": 0,
              "ticks": ""
             }
            },
            "type": "scattermapbox"
           }
          ],
          "scatterpolar": [
           {
            "marker": {
             "colorbar": {
              "outlinewidth": 0,
              "ticks": ""
             }
            },
            "type": "scatterpolar"
           }
          ],
          "scatterpolargl": [
           {
            "marker": {
             "colorbar": {
              "outlinewidth": 0,
              "ticks": ""
             }
            },
            "type": "scatterpolargl"
           }
          ],
          "scatterternary": [
           {
            "marker": {
             "colorbar": {
              "outlinewidth": 0,
              "ticks": ""
             }
            },
            "type": "scatterternary"
           }
          ],
          "surface": [
           {
            "colorbar": {
             "outlinewidth": 0,
             "ticks": ""
            },
            "colorscale": [
             [
              0,
              "#0d0887"
             ],
             [
              0.1111111111111111,
              "#46039f"
             ],
             [
              0.2222222222222222,
              "#7201a8"
             ],
             [
              0.3333333333333333,
              "#9c179e"
             ],
             [
              0.4444444444444444,
              "#bd3786"
             ],
             [
              0.5555555555555556,
              "#d8576b"
             ],
             [
              0.6666666666666666,
              "#ed7953"
             ],
             [
              0.7777777777777778,
              "#fb9f3a"
             ],
             [
              0.8888888888888888,
              "#fdca26"
             ],
             [
              1,
              "#f0f921"
             ]
            ],
            "type": "surface"
           }
          ],
          "table": [
           {
            "cells": {
             "fill": {
              "color": "#EBF0F8"
             },
             "line": {
              "color": "white"
             }
            },
            "header": {
             "fill": {
              "color": "#C8D4E3"
             },
             "line": {
              "color": "white"
             }
            },
            "type": "table"
           }
          ]
         },
         "layout": {
          "annotationdefaults": {
           "arrowcolor": "#2a3f5f",
           "arrowhead": 0,
           "arrowwidth": 1
          },
          "autotypenumbers": "strict",
          "coloraxis": {
           "colorbar": {
            "outlinewidth": 0,
            "ticks": ""
           }
          },
          "colorscale": {
           "diverging": [
            [
             0,
             "#8e0152"
            ],
            [
             0.1,
             "#c51b7d"
            ],
            [
             0.2,
             "#de77ae"
            ],
            [
             0.3,
             "#f1b6da"
            ],
            [
             0.4,
             "#fde0ef"
            ],
            [
             0.5,
             "#f7f7f7"
            ],
            [
             0.6,
             "#e6f5d0"
            ],
            [
             0.7,
             "#b8e186"
            ],
            [
             0.8,
             "#7fbc41"
            ],
            [
             0.9,
             "#4d9221"
            ],
            [
             1,
             "#276419"
            ]
           ],
           "sequential": [
            [
             0,
             "#0d0887"
            ],
            [
             0.1111111111111111,
             "#46039f"
            ],
            [
             0.2222222222222222,
             "#7201a8"
            ],
            [
             0.3333333333333333,
             "#9c179e"
            ],
            [
             0.4444444444444444,
             "#bd3786"
            ],
            [
             0.5555555555555556,
             "#d8576b"
            ],
            [
             0.6666666666666666,
             "#ed7953"
            ],
            [
             0.7777777777777778,
             "#fb9f3a"
            ],
            [
             0.8888888888888888,
             "#fdca26"
            ],
            [
             1,
             "#f0f921"
            ]
           ],
           "sequentialminus": [
            [
             0,
             "#0d0887"
            ],
            [
             0.1111111111111111,
             "#46039f"
            ],
            [
             0.2222222222222222,
             "#7201a8"
            ],
            [
             0.3333333333333333,
             "#9c179e"
            ],
            [
             0.4444444444444444,
             "#bd3786"
            ],
            [
             0.5555555555555556,
             "#d8576b"
            ],
            [
             0.6666666666666666,
             "#ed7953"
            ],
            [
             0.7777777777777778,
             "#fb9f3a"
            ],
            [
             0.8888888888888888,
             "#fdca26"
            ],
            [
             1,
             "#f0f921"
            ]
           ]
          },
          "colorway": [
           "#636efa",
           "#EF553B",
           "#00cc96",
           "#ab63fa",
           "#FFA15A",
           "#19d3f3",
           "#FF6692",
           "#B6E880",
           "#FF97FF",
           "#FECB52"
          ],
          "font": {
           "color": "#2a3f5f"
          },
          "geo": {
           "bgcolor": "white",
           "lakecolor": "white",
           "landcolor": "#E5ECF6",
           "showlakes": true,
           "showland": true,
           "subunitcolor": "white"
          },
          "hoverlabel": {
           "align": "left"
          },
          "hovermode": "closest",
          "mapbox": {
           "style": "light"
          },
          "paper_bgcolor": "white",
          "plot_bgcolor": "#E5ECF6",
          "polar": {
           "angularaxis": {
            "gridcolor": "white",
            "linecolor": "white",
            "ticks": ""
           },
           "bgcolor": "#E5ECF6",
           "radialaxis": {
            "gridcolor": "white",
            "linecolor": "white",
            "ticks": ""
           }
          },
          "scene": {
           "xaxis": {
            "backgroundcolor": "#E5ECF6",
            "gridcolor": "white",
            "gridwidth": 2,
            "linecolor": "white",
            "showbackground": true,
            "ticks": "",
            "zerolinecolor": "white"
           },
           "yaxis": {
            "backgroundcolor": "#E5ECF6",
            "gridcolor": "white",
            "gridwidth": 2,
            "linecolor": "white",
            "showbackground": true,
            "ticks": "",
            "zerolinecolor": "white"
           },
           "zaxis": {
            "backgroundcolor": "#E5ECF6",
            "gridcolor": "white",
            "gridwidth": 2,
            "linecolor": "white",
            "showbackground": true,
            "ticks": "",
            "zerolinecolor": "white"
           }
          },
          "shapedefaults": {
           "line": {
            "color": "#2a3f5f"
           }
          },
          "ternary": {
           "aaxis": {
            "gridcolor": "white",
            "linecolor": "white",
            "ticks": ""
           },
           "baxis": {
            "gridcolor": "white",
            "linecolor": "white",
            "ticks": ""
           },
           "bgcolor": "#E5ECF6",
           "caxis": {
            "gridcolor": "white",
            "linecolor": "white",
            "ticks": ""
           }
          },
          "title": {
           "x": 0.05
          },
          "xaxis": {
           "automargin": true,
           "gridcolor": "white",
           "linecolor": "white",
           "ticks": "",
           "title": {
            "standoff": 15
           },
           "zerolinecolor": "white",
           "zerolinewidth": 2
          },
          "yaxis": {
           "automargin": true,
           "gridcolor": "white",
           "linecolor": "white",
           "ticks": "",
           "title": {
            "standoff": 15
           },
           "zerolinecolor": "white",
           "zerolinewidth": 2
          }
         }
        },
        "title": {
         "text": "<b>Distribución de cargos totales por tasa de cancelación</b>",
         "x": 0.5,
         "y": 0.93
        },
        "width": 800,
        "xaxis": {
         "anchor": "y",
         "domain": [
          0,
          1
         ],
         "title": {
          "text": "Cargos totales"
         }
        },
        "yaxis": {
         "anchor": "x",
         "domain": [
          0,
          1
         ],
         "title": {
          "text": "Frecuencia"
         }
        }
       }
      }
     },
     "metadata": {},
     "output_type": "display_data"
    }
   ],
   "source": [
    "# Distribución de cargos totales por tasa de cancelación\n",
    "fig = px.histogram(full_data, \n",
    "                   x='total_charges',\n",
    "                   nbins=80,\n",
    "                   color='churn', \n",
    "                   labels={'total_charges': 'Cargos totales', 'churn': 'Canceló'},\n",
    "                   width=800,\n",
    "                   height=400,\n",
    "                   color_discrete_map={1: 'orange', 0: 'steelblue'})\n",
    "fig.for_each_trace(lambda x: x.update(name='Sí' if x.name == '1' else 'No'))\n",
    "fig.update_layout(\n",
    "    xaxis_title='Cargos totales', \n",
    "    yaxis_title='Frecuencia',\n",
    "    title={'text': '<b>Distribución de cargos totales por tasa de cancelación</b>', 'x': 0.5, 'y': 0.93},\n",
    "    barmode='stack',\n",
    "    margin=dict(b=20))\n",
    "fig.show()"
   ]
  },
  {
   "cell_type": "markdown",
   "id": "1f982b68",
   "metadata": {},
   "source": [
    "**Este gráfico no se genera bien en la plataforma. En mi computadora se ve perfectamente bien, como el de los cargos mensuales**.\n",
    "\n",
    "Es interesante notar que los cargos totales más bajos son los que tienen la tasa de cancelación más alta. Dado que los cargos totales se calculan desde la fecha de inicio de utilización del servicio, podemos inferir que los clientes que cancelaron son clientes relativamente nuevos. Mientras que los clientes que tienen más años con el servicio se mantienen más estables y leales. Exploraremos la antigüedad de los clientes tomando en cuenta la fecha de inicio de contratación de los servicios."
   ]
  },
  {
   "cell_type": "code",
   "execution_count": 32,
   "id": "06b925e8",
   "metadata": {},
   "outputs": [
    {
     "data": {
      "application/vnd.plotly.v1+json": {
       "config": {
        "plotlyServerURL": "https://plot.ly"
       },
       "data": [
        {
         "bingroup": "x",
         "hovertemplate": "Canceló=0<br>Antigüedad (días)=%{x}<br>count=%{y}<extra></extra>",
         "legendgroup": "0",
         "marker": {
          "color": "steelblue",
          "pattern": {
           "shape": ""
          }
         },
         "name": "No",
         "nbinsx": 40,
         "orientation": "v",
         "showlegend": true,
         "type": "histogram",
         "x": {
          "bdata": "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",
          "dtype": "i2"
         },
         "xaxis": "x",
         "yaxis": "y"
        },
        {
         "bingroup": "x",
         "hovertemplate": "Canceló=1<br>Antigüedad (días)=%{x}<br>count=%{y}<extra></extra>",
         "legendgroup": "1",
         "marker": {
          "color": "orange",
          "pattern": {
           "shape": ""
          }
         },
         "name": "Sí",
         "nbinsx": 40,
         "orientation": "v",
         "showlegend": true,
         "type": "histogram",
         "x": {
          "bdata": "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",
          "dtype": "i2"
         },
         "xaxis": "x",
         "yaxis": "y"
        }
       ],
       "layout": {
        "barmode": "stack",
        "height": 400,
        "legend": {
         "title": {
          "text": "Canceló"
         },
         "tracegroupgap": 0
        },
        "margin": {
         "b": 20,
         "t": 60
        },
        "template": {
         "data": {
          "bar": [
           {
            "error_x": {
             "color": "#2a3f5f"
            },
            "error_y": {
             "color": "#2a3f5f"
            },
            "marker": {
             "line": {
              "color": "#E5ECF6",
              "width": 0.5
             },
             "pattern": {
              "fillmode": "overlay",
              "size": 10,
              "solidity": 0.2
             }
            },
            "type": "bar"
           }
          ],
          "barpolar": [
           {
            "marker": {
             "line": {
              "color": "#E5ECF6",
              "width": 0.5
             },
             "pattern": {
              "fillmode": "overlay",
              "size": 10,
              "solidity": 0.2
             }
            },
            "type": "barpolar"
           }
          ],
          "carpet": [
           {
            "aaxis": {
             "endlinecolor": "#2a3f5f",
             "gridcolor": "white",
             "linecolor": "white",
             "minorgridcolor": "white",
             "startlinecolor": "#2a3f5f"
            },
            "baxis": {
             "endlinecolor": "#2a3f5f",
             "gridcolor": "white",
             "linecolor": "white",
             "minorgridcolor": "white",
             "startlinecolor": "#2a3f5f"
            },
            "type": "carpet"
           }
          ],
          "choropleth": [
           {
            "colorbar": {
             "outlinewidth": 0,
             "ticks": ""
            },
            "type": "choropleth"
           }
          ],
          "contour": [
           {
            "colorbar": {
             "outlinewidth": 0,
             "ticks": ""
            },
            "colorscale": [
             [
              0,
              "#0d0887"
             ],
             [
              0.1111111111111111,
              "#46039f"
             ],
             [
              0.2222222222222222,
              "#7201a8"
             ],
             [
              0.3333333333333333,
              "#9c179e"
             ],
             [
              0.4444444444444444,
              "#bd3786"
             ],
             [
              0.5555555555555556,
              "#d8576b"
             ],
             [
              0.6666666666666666,
              "#ed7953"
             ],
             [
              0.7777777777777778,
              "#fb9f3a"
             ],
             [
              0.8888888888888888,
              "#fdca26"
             ],
             [
              1,
              "#f0f921"
             ]
            ],
            "type": "contour"
           }
          ],
          "contourcarpet": [
           {
            "colorbar": {
             "outlinewidth": 0,
             "ticks": ""
            },
            "type": "contourcarpet"
           }
          ],
          "heatmap": [
           {
            "colorbar": {
             "outlinewidth": 0,
             "ticks": ""
            },
            "colorscale": [
             [
              0,
              "#0d0887"
             ],
             [
              0.1111111111111111,
              "#46039f"
             ],
             [
              0.2222222222222222,
              "#7201a8"
             ],
             [
              0.3333333333333333,
              "#9c179e"
             ],
             [
              0.4444444444444444,
              "#bd3786"
             ],
             [
              0.5555555555555556,
              "#d8576b"
             ],
             [
              0.6666666666666666,
              "#ed7953"
             ],
             [
              0.7777777777777778,
              "#fb9f3a"
             ],
             [
              0.8888888888888888,
              "#fdca26"
             ],
             [
              1,
              "#f0f921"
             ]
            ],
            "type": "heatmap"
           }
          ],
          "histogram": [
           {
            "marker": {
             "pattern": {
              "fillmode": "overlay",
              "size": 10,
              "solidity": 0.2
             }
            },
            "type": "histogram"
           }
          ],
          "histogram2d": [
           {
            "colorbar": {
             "outlinewidth": 0,
             "ticks": ""
            },
            "colorscale": [
             [
              0,
              "#0d0887"
             ],
             [
              0.1111111111111111,
              "#46039f"
             ],
             [
              0.2222222222222222,
              "#7201a8"
             ],
             [
              0.3333333333333333,
              "#9c179e"
             ],
             [
              0.4444444444444444,
              "#bd3786"
             ],
             [
              0.5555555555555556,
              "#d8576b"
             ],
             [
              0.6666666666666666,
              "#ed7953"
             ],
             [
              0.7777777777777778,
              "#fb9f3a"
             ],
             [
              0.8888888888888888,
              "#fdca26"
             ],
             [
              1,
              "#f0f921"
             ]
            ],
            "type": "histogram2d"
           }
          ],
          "histogram2dcontour": [
           {
            "colorbar": {
             "outlinewidth": 0,
             "ticks": ""
            },
            "colorscale": [
             [
              0,
              "#0d0887"
             ],
             [
              0.1111111111111111,
              "#46039f"
             ],
             [
              0.2222222222222222,
              "#7201a8"
             ],
             [
              0.3333333333333333,
              "#9c179e"
             ],
             [
              0.4444444444444444,
              "#bd3786"
             ],
             [
              0.5555555555555556,
              "#d8576b"
             ],
             [
              0.6666666666666666,
              "#ed7953"
             ],
             [
              0.7777777777777778,
              "#fb9f3a"
             ],
             [
              0.8888888888888888,
              "#fdca26"
             ],
             [
              1,
              "#f0f921"
             ]
            ],
            "type": "histogram2dcontour"
           }
          ],
          "mesh3d": [
           {
            "colorbar": {
             "outlinewidth": 0,
             "ticks": ""
            },
            "type": "mesh3d"
           }
          ],
          "parcoords": [
           {
            "line": {
             "colorbar": {
              "outlinewidth": 0,
              "ticks": ""
             }
            },
            "type": "parcoords"
           }
          ],
          "pie": [
           {
            "automargin": true,
            "type": "pie"
           }
          ],
          "scatter": [
           {
            "fillpattern": {
             "fillmode": "overlay",
             "size": 10,
             "solidity": 0.2
            },
            "type": "scatter"
           }
          ],
          "scatter3d": [
           {
            "line": {
             "colorbar": {
              "outlinewidth": 0,
              "ticks": ""
             }
            },
            "marker": {
             "colorbar": {
              "outlinewidth": 0,
              "ticks": ""
             }
            },
            "type": "scatter3d"
           }
          ],
          "scattercarpet": [
           {
            "marker": {
             "colorbar": {
              "outlinewidth": 0,
              "ticks": ""
             }
            },
            "type": "scattercarpet"
           }
          ],
          "scattergeo": [
           {
            "marker": {
             "colorbar": {
              "outlinewidth": 0,
              "ticks": ""
             }
            },
            "type": "scattergeo"
           }
          ],
          "scattergl": [
           {
            "marker": {
             "colorbar": {
              "outlinewidth": 0,
              "ticks": ""
             }
            },
            "type": "scattergl"
           }
          ],
          "scattermap": [
           {
            "marker": {
             "colorbar": {
              "outlinewidth": 0,
              "ticks": ""
             }
            },
            "type": "scattermap"
           }
          ],
          "scattermapbox": [
           {
            "marker": {
             "colorbar": {
              "outlinewidth": 0,
              "ticks": ""
             }
            },
            "type": "scattermapbox"
           }
          ],
          "scatterpolar": [
           {
            "marker": {
             "colorbar": {
              "outlinewidth": 0,
              "ticks": ""
             }
            },
            "type": "scatterpolar"
           }
          ],
          "scatterpolargl": [
           {
            "marker": {
             "colorbar": {
              "outlinewidth": 0,
              "ticks": ""
             }
            },
            "type": "scatterpolargl"
           }
          ],
          "scatterternary": [
           {
            "marker": {
             "colorbar": {
              "outlinewidth": 0,
              "ticks": ""
             }
            },
            "type": "scatterternary"
           }
          ],
          "surface": [
           {
            "colorbar": {
             "outlinewidth": 0,
             "ticks": ""
            },
            "colorscale": [
             [
              0,
              "#0d0887"
             ],
             [
              0.1111111111111111,
              "#46039f"
             ],
             [
              0.2222222222222222,
              "#7201a8"
             ],
             [
              0.3333333333333333,
              "#9c179e"
             ],
             [
              0.4444444444444444,
              "#bd3786"
             ],
             [
              0.5555555555555556,
              "#d8576b"
             ],
             [
              0.6666666666666666,
              "#ed7953"
             ],
             [
              0.7777777777777778,
              "#fb9f3a"
             ],
             [
              0.8888888888888888,
              "#fdca26"
             ],
             [
              1,
              "#f0f921"
             ]
            ],
            "type": "surface"
           }
          ],
          "table": [
           {
            "cells": {
             "fill": {
              "color": "#EBF0F8"
             },
             "line": {
              "color": "white"
             }
            },
            "header": {
             "fill": {
              "color": "#C8D4E3"
             },
             "line": {
              "color": "white"
             }
            },
            "type": "table"
           }
          ]
         },
         "layout": {
          "annotationdefaults": {
           "arrowcolor": "#2a3f5f",
           "arrowhead": 0,
           "arrowwidth": 1
          },
          "autotypenumbers": "strict",
          "coloraxis": {
           "colorbar": {
            "outlinewidth": 0,
            "ticks": ""
           }
          },
          "colorscale": {
           "diverging": [
            [
             0,
             "#8e0152"
            ],
            [
             0.1,
             "#c51b7d"
            ],
            [
             0.2,
             "#de77ae"
            ],
            [
             0.3,
             "#f1b6da"
            ],
            [
             0.4,
             "#fde0ef"
            ],
            [
             0.5,
             "#f7f7f7"
            ],
            [
             0.6,
             "#e6f5d0"
            ],
            [
             0.7,
             "#b8e186"
            ],
            [
             0.8,
             "#7fbc41"
            ],
            [
             0.9,
             "#4d9221"
            ],
            [
             1,
             "#276419"
            ]
           ],
           "sequential": [
            [
             0,
             "#0d0887"
            ],
            [
             0.1111111111111111,
             "#46039f"
            ],
            [
             0.2222222222222222,
             "#7201a8"
            ],
            [
             0.3333333333333333,
             "#9c179e"
            ],
            [
             0.4444444444444444,
             "#bd3786"
            ],
            [
             0.5555555555555556,
             "#d8576b"
            ],
            [
             0.6666666666666666,
             "#ed7953"
            ],
            [
             0.7777777777777778,
             "#fb9f3a"
            ],
            [
             0.8888888888888888,
             "#fdca26"
            ],
            [
             1,
             "#f0f921"
            ]
           ],
           "sequentialminus": [
            [
             0,
             "#0d0887"
            ],
            [
             0.1111111111111111,
             "#46039f"
            ],
            [
             0.2222222222222222,
             "#7201a8"
            ],
            [
             0.3333333333333333,
             "#9c179e"
            ],
            [
             0.4444444444444444,
             "#bd3786"
            ],
            [
             0.5555555555555556,
             "#d8576b"
            ],
            [
             0.6666666666666666,
             "#ed7953"
            ],
            [
             0.7777777777777778,
             "#fb9f3a"
            ],
            [
             0.8888888888888888,
             "#fdca26"
            ],
            [
             1,
             "#f0f921"
            ]
           ]
          },
          "colorway": [
           "#636efa",
           "#EF553B",
           "#00cc96",
           "#ab63fa",
           "#FFA15A",
           "#19d3f3",
           "#FF6692",
           "#B6E880",
           "#FF97FF",
           "#FECB52"
          ],
          "font": {
           "color": "#2a3f5f"
          },
          "geo": {
           "bgcolor": "white",
           "lakecolor": "white",
           "landcolor": "#E5ECF6",
           "showlakes": true,
           "showland": true,
           "subunitcolor": "white"
          },
          "hoverlabel": {
           "align": "left"
          },
          "hovermode": "closest",
          "mapbox": {
           "style": "light"
          },
          "paper_bgcolor": "white",
          "plot_bgcolor": "#E5ECF6",
          "polar": {
           "angularaxis": {
            "gridcolor": "white",
            "linecolor": "white",
            "ticks": ""
           },
           "bgcolor": "#E5ECF6",
           "radialaxis": {
            "gridcolor": "white",
            "linecolor": "white",
            "ticks": ""
           }
          },
          "scene": {
           "xaxis": {
            "backgroundcolor": "#E5ECF6",
            "gridcolor": "white",
            "gridwidth": 2,
            "linecolor": "white",
            "showbackground": true,
            "ticks": "",
            "zerolinecolor": "white"
           },
           "yaxis": {
            "backgroundcolor": "#E5ECF6",
            "gridcolor": "white",
            "gridwidth": 2,
            "linecolor": "white",
            "showbackground": true,
            "ticks": "",
            "zerolinecolor": "white"
           },
           "zaxis": {
            "backgroundcolor": "#E5ECF6",
            "gridcolor": "white",
            "gridwidth": 2,
            "linecolor": "white",
            "showbackground": true,
            "ticks": "",
            "zerolinecolor": "white"
           }
          },
          "shapedefaults": {
           "line": {
            "color": "#2a3f5f"
           }
          },
          "ternary": {
           "aaxis": {
            "gridcolor": "white",
            "linecolor": "white",
            "ticks": ""
           },
           "baxis": {
            "gridcolor": "white",
            "linecolor": "white",
            "ticks": ""
           },
           "bgcolor": "#E5ECF6",
           "caxis": {
            "gridcolor": "white",
            "linecolor": "white",
            "ticks": ""
           }
          },
          "title": {
           "x": 0.05
          },
          "xaxis": {
           "automargin": true,
           "gridcolor": "white",
           "linecolor": "white",
           "ticks": "",
           "title": {
            "standoff": 15
           },
           "zerolinecolor": "white",
           "zerolinewidth": 2
          },
          "yaxis": {
           "automargin": true,
           "gridcolor": "white",
           "linecolor": "white",
           "ticks": "",
           "title": {
            "standoff": 15
           },
           "zerolinecolor": "white",
           "zerolinewidth": 2
          }
         }
        },
        "title": {
         "text": "<b>Distribución de la antigüedad de los clientes por tasa de cancelación</b>",
         "x": 0.5,
         "y": 0.93
        },
        "width": 800,
        "xaxis": {
         "anchor": "y",
         "domain": [
          0,
          1
         ],
         "title": {
          "text": "Antigüedad (días)"
         }
        },
        "yaxis": {
         "anchor": "x",
         "domain": [
          0,
          1
         ],
         "title": {
          "text": "Frecuencia"
         }
        }
       }
      }
     },
     "metadata": {},
     "output_type": "display_data"
    }
   ],
   "source": [
    "# Creamos una nueva columna que indique la antigüedad del cliente. \n",
    "# Debemos restar la fecha de inicio del contrato a la fecha de cancelación para los clientes que cancelaron y para los clientes\n",
    "# que no cancelaron, restamos la fecha de inicio del contrato a la fecha más reciente de la base de datos, la cual es 2020-02-01\n",
    "\n",
    "full_data['tenure'] = np.where(full_data['churn'] == 1,\n",
    "                              (full_data['end_date'] - full_data['begin_date']).dt.days,\n",
    "                              (pd.to_datetime('2020-02-01') - full_data['begin_date']).dt.days)\n",
    "full_data['tenure'] = full_data['tenure'].astype('int16')\n",
    "\n",
    "# Distribución de la antigüedad de los clientes por tasa de cancelación\n",
    "fig = px.histogram(full_data, \n",
    "                   x='tenure', \n",
    "                   color='churn',\n",
    "                   nbins=40, \n",
    "                   labels={'tenure': 'Antigüedad (días)', 'churn': 'Canceló'},\n",
    "                   width=800,\n",
    "                   height=400,\n",
    "                   color_discrete_map={1: 'orange', 0: 'steelblue'})\n",
    "fig.for_each_trace(lambda x: x.update(name='Sí' if x.name == '1' else 'No'))\n",
    "fig.update_layout(\n",
    "    xaxis_title='Antigüedad (días)', \n",
    "    yaxis_title='Frecuencia',\n",
    "    title={'text': '<b>Distribución de la antigüedad de los clientes por tasa de cancelación</b>', 'x': 0.5, 'y': 0.93},\n",
    "    barmode='stack',\n",
    "    margin=dict(b=20))\n",
    "fig.show()\n"
   ]
  },
  {
   "cell_type": "code",
   "execution_count": 33,
   "id": "9617df42",
   "metadata": {},
   "outputs": [
    {
     "data": {
      "text/html": [
       "<div>\n",
       "<style scoped>\n",
       "    .dataframe tbody tr th:only-of-type {\n",
       "        vertical-align: middle;\n",
       "    }\n",
       "\n",
       "    .dataframe tbody tr th {\n",
       "        vertical-align: top;\n",
       "    }\n",
       "\n",
       "    .dataframe thead th {\n",
       "        text-align: right;\n",
       "    }\n",
       "</style>\n",
       "<table border=\"1\" class=\"dataframe\">\n",
       "  <thead>\n",
       "    <tr style=\"text-align: right;\">\n",
       "      <th></th>\n",
       "      <th>end_date</th>\n",
       "      <th>min_tenure</th>\n",
       "      <th>max_tenure</th>\n",
       "    </tr>\n",
       "  </thead>\n",
       "  <tbody>\n",
       "    <tr>\n",
       "      <th>0</th>\n",
       "      <td>2019-10-01</td>\n",
       "      <td>30</td>\n",
       "      <td>2191</td>\n",
       "    </tr>\n",
       "    <tr>\n",
       "      <th>1</th>\n",
       "      <td>2019-11-01</td>\n",
       "      <td>31</td>\n",
       "      <td>2161</td>\n",
       "    </tr>\n",
       "    <tr>\n",
       "      <th>2</th>\n",
       "      <td>2019-12-01</td>\n",
       "      <td>30</td>\n",
       "      <td>2160</td>\n",
       "    </tr>\n",
       "    <tr>\n",
       "      <th>3</th>\n",
       "      <td>2020-01-01</td>\n",
       "      <td>31</td>\n",
       "      <td>2191</td>\n",
       "    </tr>\n",
       "  </tbody>\n",
       "</table>\n",
       "</div>"
      ],
      "text/plain": [
       "    end_date  min_tenure  max_tenure\n",
       "0 2019-10-01          30        2191\n",
       "1 2019-11-01          31        2161\n",
       "2 2019-12-01          30        2160\n",
       "3 2020-01-01          31        2191"
      ]
     },
     "metadata": {},
     "output_type": "display_data"
    }
   ],
   "source": [
    "# Exploramos las fechas de cancelación de los servicios\n",
    "\n",
    "cancelled_summary = full_data[full_data['churn'] == 1].groupby('end_date')['tenure'].agg(['min', 'max']).reset_index()\n",
    "cancelled_summary.columns = ['end_date', 'min_tenure', 'max_tenure']\n",
    "display(cancelled_summary)\n"
   ]
  },
  {
   "cell_type": "markdown",
   "id": "e1fa86da",
   "metadata": {},
   "source": [
    "En los gráficos anteriores podemos observar que todas las cancelaciones son de fechas recientes, es decir los últimos 4 meses previos a la fecha de obtención de la información, que es el 1 de febrero de 2020. Podemos notar en la gráfica que en la gran mayoría tiene menos de 100 días, pero también hay un grupo importante de cancelaciones con menos de 400 días."
   ]
  },
  {
   "cell_type": "markdown",
   "id": "514cbab1",
   "metadata": {},
   "source": [
    "### 4.3 Análisis de correlación entre características"
   ]
  },
  {
   "cell_type": "code",
   "execution_count": 34,
   "id": "ea3d0850",
   "metadata": {},
   "outputs": [
    {
     "data": {
      "image/png": "[encoded data removed]",
      "text/plain": [
       "<Figure size 800x800 with 2 Axes>"
      ]
     },
     "metadata": {},
     "output_type": "display_data"
    }
   ],
   "source": [
    "# Exploramos la correlación entre las variables numéricas\n",
    "plt.figure(figsize=(8, 8))\n",
    "sns.heatmap(full_data[['monthly_charges', 'total_charges', 'tenure', 'churn']].corr(), annot=True, fmt='.2f', cmap='coolwarm', center=0)\n",
    "plt.title('Correlación entre variables numéricas', fontsize=16, fontweight='bold')\n",
    "plt.show()"
   ]
  },
  {
   "cell_type": "markdown",
   "id": "daf68fbf",
   "metadata": {},
   "source": [
    "En este gráfico podemos notar una correlación entre los cargos mensuales y los cargos totales, lo cual es completamente normal ya que los cargos totales son la suma de los cargos mensuales a través del periodo en que los usuarios tienen contratado el servicio. También podemos observar que no hay una correlación fuerte entre los cargos mensuales y la antigüedad pero sí hay una correlación fuerte entre los cargos totales y la antigüedad. Por último, vemos que no hay una correlación fuerte entre estas variables numéricas y nuestra variable objetivo."
   ]
  },
  {
   "cell_type": "markdown",
   "id": "86e3c6fd",
   "metadata": {},
   "source": [
    "### 4.4 Detección de valores atípicos"
   ]
  },
  {
   "cell_type": "code",
   "execution_count": 35,
   "id": "2e0f7fe3",
   "metadata": {},
   "outputs": [
    {
     "data": {
      "image/png": "[encoded data removed]",
      "text/plain": [
       "<Figure size 1500x200 with 3 Axes>"
      ]
     },
     "metadata": {},
     "output_type": "display_data"
    }
   ],
   "source": [
    "# Exploramos las características númericas en búsqueda de outliers\n",
    "fig, axs = plt.subplots(1, 3, figsize=(15, 2), sharey=True)\n",
    "plt.suptitle('Distribución de las características numéricas', fontsize=16, fontweight='bold')\n",
    "\n",
    "sns.boxplot(data=full_data, x='monthly_charges', ax=axs[0])\n",
    "axs[0].set_title('Cargos mensuales')\n",
    "axs[0].set_xlabel('')\n",
    "sns.boxplot(data=full_data, x='total_charges', ax=axs[1])\n",
    "axs[1].set_title('Cargos totales')\n",
    "axs[1].set_xlabel('')\n",
    "sns.boxplot(data=full_data, x='tenure', ax=axs[2])\n",
    "axs[2].set_title('Antigüedad')\n",
    "axs[2].set_xlabel('')\n",
    "plt.tight_layout()\n",
    "plt.show()"
   ]
  },
  {
   "cell_type": "markdown",
   "id": "fb2700eb",
   "metadata": {},
   "source": [
    "Podemos observar en los gráficos de caja que no tenemos presencia de valores atípicos. Por lo tanto, procederemos a realizar la evaluación del balance de clases."
   ]
  },
  {
   "cell_type": "markdown",
   "id": "14507143",
   "metadata": {},
   "source": [
    "### 4.5 Evaluación de balance de clases"
   ]
  },
  {
   "cell_type": "code",
   "execution_count": null,
   "id": "a2265387",
   "metadata": {},
   "outputs": [
    {
     "data": {
      "application/vnd.plotly.v1+json": {
       "config": {
        "plotlyServerURL": "https://plot.ly"
       },
       "data": [
        {
         "hovertemplate": "Churn=%{x}<br>Conteo=%{y}<extra></extra>",
         "legendgroup": "0",
         "marker": {
          "color": "steelblue",
          "pattern": {
           "shape": ""
          }
         },
         "name": "0",
         "orientation": "v",
         "showlegend": true,
         "textposition": "auto",
         "type": "bar",
         "x": [
          "0"
         ],
         "xaxis": "x",
         "y": {
          "bdata": "NhQ=",
          "dtype": "i2"
         },
         "yaxis": "y"
        },
        {
         "hovertemplate": "Churn=%{x}<br>Conteo=%{y}<extra></extra>",
         "legendgroup": "1",
         "marker": {
          "color": "orange",
          "pattern": {
           "shape": ""
          }
         },
         "name": "1",
         "orientation": "v",
         "showlegend": true,
         "textposition": "auto",
         "type": "bar",
         "x": [
          "1"
         ],
         "xaxis": "x",
         "y": {
          "bdata": "TQc=",
          "dtype": "i2"
         },
         "yaxis": "y"
        }
       ],
       "layout": {
        "barmode": "relative",
        "height": 400,
        "legend": {
         "title": {
          "text": "Churn"
         },
         "tracegroupgap": 0
        },
        "margin": {
         "b": 20,
         "t": 60
        },
        "template": {
         "data": {
          "bar": [
           {
            "error_x": {
             "color": "#2a3f5f"
            },
            "error_y": {
             "color": "#2a3f5f"
            },
            "marker": {
             "line": {
              "color": "#E5ECF6",
              "width": 0.5
             },
             "pattern": {
              "fillmode": "overlay",
              "size": 10,
              "solidity": 0.2
             }
            },
            "type": "bar"
           }
          ],
          "barpolar": [
           {
            "marker": {
             "line": {
              "color": "#E5ECF6",
              "width": 0.5
             },
             "pattern": {
              "fillmode": "overlay",
              "size": 10,
              "solidity": 0.2
             }
            },
            "type": "barpolar"
           }
          ],
          "carpet": [
           {
            "aaxis": {
             "endlinecolor": "#2a3f5f",
             "gridcolor": "white",
             "linecolor": "white",
             "minorgridcolor": "white",
             "startlinecolor": "#2a3f5f"
            },
            "baxis": {
             "endlinecolor": "#2a3f5f",
             "gridcolor": "white",
             "linecolor": "white",
             "minorgridcolor": "white",
             "startlinecolor": "#2a3f5f"
            },
            "type": "carpet"
           }
          ],
          "choropleth": [
           {
            "colorbar": {
             "outlinewidth": 0,
             "ticks": ""
            },
            "type": "choropleth"
           }
          ],
          "contour": [
           {
            "colorbar": {
             "outlinewidth": 0,
             "ticks": ""
            },
            "colorscale": [
             [
              0,
              "#0d0887"
             ],
             [
              0.1111111111111111,
              "#46039f"
             ],
             [
              0.2222222222222222,
              "#7201a8"
             ],
             [
              0.3333333333333333,
              "#9c179e"
             ],
             [
              0.4444444444444444,
              "#bd3786"
             ],
             [
              0.5555555555555556,
              "#d8576b"
             ],
             [
              0.6666666666666666,
              "#ed7953"
             ],
             [
              0.7777777777777778,
              "#fb9f3a"
             ],
             [
              0.8888888888888888,
              "#fdca26"
             ],
             [
              1,
              "#f0f921"
             ]
            ],
            "type": "contour"
           }
          ],
          "contourcarpet": [
           {
            "colorbar": {
             "outlinewidth": 0,
             "ticks": ""
            },
            "type": "contourcarpet"
           }
          ],
          "heatmap": [
           {
            "colorbar": {
             "outlinewidth": 0,
             "ticks": ""
            },
            "colorscale": [
             [
              0,
              "#0d0887"
             ],
             [
              0.1111111111111111,
              "#46039f"
             ],
             [
              0.2222222222222222,
              "#7201a8"
             ],
             [
              0.3333333333333333,
              "#9c179e"
             ],
             [
              0.4444444444444444,
              "#bd3786"
             ],
             [
              0.5555555555555556,
              "#d8576b"
             ],
             [
              0.6666666666666666,
              "#ed7953"
             ],
             [
              0.7777777777777778,
              "#fb9f3a"
             ],
             [
              0.8888888888888888,
              "#fdca26"
             ],
             [
              1,
              "#f0f921"
             ]
            ],
            "type": "heatmap"
           }
          ],
          "histogram": [
           {
            "marker": {
             "pattern": {
              "fillmode": "overlay",
              "size": 10,
              "solidity": 0.2
             }
            },
            "type": "histogram"
           }
          ],
          "histogram2d": [
           {
            "colorbar": {
             "outlinewidth": 0,
             "ticks": ""
            },
            "colorscale": [
             [
              0,
              "#0d0887"
             ],
             [
              0.1111111111111111,
              "#46039f"
             ],
             [
              0.2222222222222222,
              "#7201a8"
             ],
             [
              0.3333333333333333,
              "#9c179e"
             ],
             [
              0.4444444444444444,
              "#bd3786"
             ],
             [
              0.5555555555555556,
              "#d8576b"
             ],
             [
              0.6666666666666666,
              "#ed7953"
             ],
             [
              0.7777777777777778,
              "#fb9f3a"
             ],
             [
              0.8888888888888888,
              "#fdca26"
             ],
             [
              1,
              "#f0f921"
             ]
            ],
            "type": "histogram2d"
           }
          ],
          "histogram2dcontour": [
           {
            "colorbar": {
             "outlinewidth": 0,
             "ticks": ""
            },
            "colorscale": [
             [
              0,
              "#0d0887"
             ],
             [
              0.1111111111111111,
              "#46039f"
             ],
             [
              0.2222222222222222,
              "#7201a8"
             ],
             [
              0.3333333333333333,
              "#9c179e"
             ],
             [
              0.4444444444444444,
              "#bd3786"
             ],
             [
              0.5555555555555556,
              "#d8576b"
             ],
             [
              0.6666666666666666,
              "#ed7953"
             ],
             [
              0.7777777777777778,
              "#fb9f3a"
             ],
             [
              0.8888888888888888,
              "#fdca26"
             ],
             [
              1,
              "#f0f921"
             ]
            ],
            "type": "histogram2dcontour"
           }
          ],
          "mesh3d": [
           {
            "colorbar": {
             "outlinewidth": 0,
             "ticks": ""
            },
            "type": "mesh3d"
           }
          ],
          "parcoords": [
           {
            "line": {
             "colorbar": {
              "outlinewidth": 0,
              "ticks": ""
             }
            },
            "type": "parcoords"
           }
          ],
          "pie": [
           {
            "automargin": true,
            "type": "pie"
           }
          ],
          "scatter": [
           {
            "fillpattern": {
             "fillmode": "overlay",
             "size": 10,
             "solidity": 0.2
            },
            "type": "scatter"
           }
          ],
          "scatter3d": [
           {
            "line": {
             "colorbar": {
              "outlinewidth": 0,
              "ticks": ""
             }
            },
            "marker": {
             "colorbar": {
              "outlinewidth": 0,
              "ticks": ""
             }
            },
            "type": "scatter3d"
           }
          ],
          "scattercarpet": [
           {
            "marker": {
             "colorbar": {
              "outlinewidth": 0,
              "ticks": ""
             }
            },
            "type": "scattercarpet"
           }
          ],
          "scattergeo": [
           {
            "marker": {
             "colorbar": {
              "outlinewidth": 0,
              "ticks": ""
             }
            },
            "type": "scattergeo"
           }
          ],
          "scattergl": [
           {
            "marker": {
             "colorbar": {
              "outlinewidth": 0,
              "ticks": ""
             }
            },
            "type": "scattergl"
           }
          ],
          "scattermap": [
           {
            "marker": {
             "colorbar": {
              "outlinewidth": 0,
              "ticks": ""
             }
            },
            "type": "scattermap"
           }
          ],
          "scattermapbox": [
           {
            "marker": {
             "colorbar": {
              "outlinewidth": 0,
              "ticks": ""
             }
            },
            "type": "scattermapbox"
           }
          ],
          "scatterpolar": [
           {
            "marker": {
             "colorbar": {
              "outlinewidth": 0,
              "ticks": ""
             }
            },
            "type": "scatterpolar"
           }
          ],
          "scatterpolargl": [
           {
            "marker": {
             "colorbar": {
              "outlinewidth": 0,
              "ticks": ""
             }
            },
            "type": "scatterpolargl"
           }
          ],
          "scatterternary": [
           {
            "marker": {
             "colorbar": {
              "outlinewidth": 0,
              "ticks": ""
             }
            },
            "type": "scatterternary"
           }
          ],
          "surface": [
           {
            "colorbar": {
             "outlinewidth": 0,
             "ticks": ""
            },
            "colorscale": [
             [
              0,
              "#0d0887"
             ],
             [
              0.1111111111111111,
              "#46039f"
             ],
             [
              0.2222222222222222,
              "#7201a8"
             ],
             [
              0.3333333333333333,
              "#9c179e"
             ],
             [
              0.4444444444444444,
              "#bd3786"
             ],
             [
              0.5555555555555556,
              "#d8576b"
             ],
             [
              0.6666666666666666,
              "#ed7953"
             ],
             [
              0.7777777777777778,
              "#fb9f3a"
             ],
             [
              0.8888888888888888,
              "#fdca26"
             ],
             [
              1,
              "#f0f921"
             ]
            ],
            "type": "surface"
           }
          ],
          "table": [
           {
            "cells": {
             "fill": {
              "color": "#EBF0F8"
             },
             "line": {
              "color": "white"
             }
            },
            "header": {
             "fill": {
              "color": "#C8D4E3"
             },
             "line": {
              "color": "white"
             }
            },
            "type": "table"
           }
          ]
         },
         "layout": {
          "annotationdefaults": {
           "arrowcolor": "#2a3f5f",
           "arrowhead": 0,
           "arrowwidth": 1
          },
          "autotypenumbers": "strict",
          "coloraxis": {
           "colorbar": {
            "outlinewidth": 0,
            "ticks": ""
           }
          },
          "colorscale": {
           "diverging": [
            [
             0,
             "#8e0152"
            ],
            [
             0.1,
             "#c51b7d"
            ],
            [
             0.2,
             "#de77ae"
            ],
            [
             0.3,
             "#f1b6da"
            ],
            [
             0.4,
             "#fde0ef"
            ],
            [
             0.5,
             "#f7f7f7"
            ],
            [
             0.6,
             "#e6f5d0"
            ],
            [
             0.7,
             "#b8e186"
            ],
            [
             0.8,
             "#7fbc41"
            ],
            [
             0.9,
             "#4d9221"
            ],
            [
             1,
             "#276419"
            ]
           ],
           "sequential": [
            [
             0,
             "#0d0887"
            ],
            [
             0.1111111111111111,
             "#46039f"
            ],
            [
             0.2222222222222222,
             "#7201a8"
            ],
            [
             0.3333333333333333,
             "#9c179e"
            ],
            [
             0.4444444444444444,
             "#bd3786"
            ],
            [
             0.5555555555555556,
             "#d8576b"
            ],
            [
             0.6666666666666666,
             "#ed7953"
            ],
            [
             0.7777777777777778,
             "#fb9f3a"
            ],
            [
             0.8888888888888888,
             "#fdca26"
            ],
            [
             1,
             "#f0f921"
            ]
           ],
           "sequentialminus": [
            [
             0,
             "#0d0887"
            ],
            [
             0.1111111111111111,
             "#46039f"
            ],
            [
             0.2222222222222222,
             "#7201a8"
            ],
            [
             0.3333333333333333,
             "#9c179e"
            ],
            [
             0.4444444444444444,
             "#bd3786"
            ],
            [
             0.5555555555555556,
             "#d8576b"
            ],
            [
             0.6666666666666666,
             "#ed7953"
            ],
            [
             0.7777777777777778,
             "#fb9f3a"
            ],
            [
             0.8888888888888888,
             "#fdca26"
            ],
            [
             1,
             "#f0f921"
            ]
           ]
          },
          "colorway": [
           "#636efa",
           "#EF553B",
           "#00cc96",
           "#ab63fa",
           "#FFA15A",
           "#19d3f3",
           "#FF6692",
           "#B6E880",
           "#FF97FF",
           "#FECB52"
          ],
          "font": {
           "color": "#2a3f5f"
          },
          "geo": {
           "bgcolor": "white",
           "lakecolor": "white",
           "landcolor": "#E5ECF6",
           "showlakes": true,
           "showland": true,
           "subunitcolor": "white"
          },
          "hoverlabel": {
           "align": "left"
          },
          "hovermode": "closest",
          "mapbox": {
           "style": "light"
          },
          "paper_bgcolor": "white",
          "plot_bgcolor": "#E5ECF6",
          "polar": {
           "angularaxis": {
            "gridcolor": "white",
            "linecolor": "white",
            "ticks": ""
           },
           "bgcolor": "#E5ECF6",
           "radialaxis": {
            "gridcolor": "white",
            "linecolor": "white",
            "ticks": ""
           }
          },
          "scene": {
           "xaxis": {
            "backgroundcolor": "#E5ECF6",
            "gridcolor": "white",
            "gridwidth": 2,
            "linecolor": "white",
            "showbackground": true,
            "ticks": "",
            "zerolinecolor": "white"
           },
           "yaxis": {
            "backgroundcolor": "#E5ECF6",
            "gridcolor": "white",
            "gridwidth": 2,
            "linecolor": "white",
            "showbackground": true,
            "ticks": "",
            "zerolinecolor": "white"
           },
           "zaxis": {
            "backgroundcolor": "#E5ECF6",
            "gridcolor": "white",
            "gridwidth": 2,
            "linecolor": "white",
            "showbackground": true,
            "ticks": "",
            "zerolinecolor": "white"
           }
          },
          "shapedefaults": {
           "line": {
            "color": "#2a3f5f"
           }
          },
          "ternary": {
           "aaxis": {
            "gridcolor": "white",
            "linecolor": "white",
            "ticks": ""
           },
           "baxis": {
            "gridcolor": "white",
            "linecolor": "white",
            "ticks": ""
           },
           "bgcolor": "#E5ECF6",
           "caxis": {
            "gridcolor": "white",
            "linecolor": "white",
            "ticks": ""
           }
          },
          "title": {
           "x": 0.05
          },
          "xaxis": {
           "automargin": true,
           "gridcolor": "white",
           "linecolor": "white",
           "ticks": "",
           "title": {
            "standoff": 15
           },
           "zerolinecolor": "white",
           "zerolinewidth": 2
          },
          "yaxis": {
           "automargin": true,
           "gridcolor": "white",
           "linecolor": "white",
           "ticks": "",
           "title": {
            "standoff": 15
           },
           "zerolinecolor": "white",
           "zerolinewidth": 2
          }
         }
        },
        "title": {
         "text": "<b>Distribución de la variable objetivo</b>",
         "x": 0.5,
         "y": 0.93
        },
        "width": 800,
        "xaxis": {
         "anchor": "y",
         "categoryarray": [
          "0",
          "1"
         ],
         "categoryorder": "array",
         "domain": [
          0,
          1
         ],
         "title": {
          "text": "Churn"
         }
        },
        "yaxis": {
         "anchor": "x",
         "domain": [
          0,
          1
         ],
         "title": {
          "text": "Conteo"
         }
        }
       }
      }
     },
     "metadata": {},
     "output_type": "display_data"
    },
    {
     "name": "stdout",
     "output_type": "stream",
     "text": [
      "Distribución de clases\n",
      "    churn  percentage\n",
      "0      0       73.46\n",
      "1    100       26.54\n"
     ]
    }
   ],
   "source": [
    "# Exploramos el balance de clases en nuestra variable objetivo\n",
    "class_distribution = full_data['churn'].value_counts().reset_index(name='count')\n",
    "class_distribution.columns = ['churn', 'count']\n",
    "class_distribution['churn'] = class_distribution['churn'].map({0: '0', 1: '1'})\n",
    "fig = px.bar(class_distribution,\n",
    "             x='churn', \n",
    "             y='count',\n",
    "             color='churn',\n",
    "             labels={'churn': 'Churn', 'count': 'Conteo'},\n",
    "             width=800,\n",
    "             height=400,\n",
    "             color_discrete_map={'1': 'orange', '0': 'steelblue'})\n",
    "#fig.for_each_trace(lambda x: x.update(name='1' if x.name == '1' else 'No'))\n",
    "fig.update_layout(\n",
    "    xaxis_title='Churn', \n",
    "    yaxis_title='Conteo',\n",
    "    title={'text': '<b>Distribución de la variable objetivo</b>', 'x': 0.5, 'y': 0.93},\n",
    "    legend_title_text='Churn',\n",
    "    margin=dict(b=20))\n",
    "fig.show()\n",
    "print('Distribución de clases\\n' ,round(full_data['churn'].value_counts(normalize=True).reset_index(name='percentage')*100, 2))"
   ]
  },
  {
   "cell_type": "markdown",
   "id": "092ecb88",
   "metadata": {},
   "source": [
    "En este gráfico podemos ver que en efecto hay un desbalance de clases, siendo la clase '0' el 73.46% y la clase '1' el 26.54%. Ajustaremos el desbalance de clases utilizando la técnica de sobremuestreo para entrenar los modelos correspondientes."
   ]
  },
  {
   "cell_type": "markdown",
   "id": "4612db2a",
   "metadata": {},
   "source": [
    "## 5 Manipulación de datos e ingeniería de características"
   ]
  },
  {
   "cell_type": "markdown",
   "id": "2b5f6085",
   "metadata": {},
   "source": [
    "### 5.1 Codificación de variables categóricas\n",
    "\n",
    "En esta sección haremos la preparación del dataset para la creación y prueba de diferentes modelos de ML. Para ello comenzaremos con quitar algunas características que funcionan o pueden funcionar como identificadores únicos y por tanto afectan el desempeño de los modelos de ML."
   ]
  },
  {
   "cell_type": "code",
   "execution_count": 37,
   "id": "50c2a67d",
   "metadata": {},
   "outputs": [],
   "source": [
    "# Eliminamos las columnas que pueden funcionar como identificadores únicos\n",
    "full_data.drop(columns=['customer_id', 'begin_date', 'end_date'], inplace=True)"
   ]
  },
  {
   "cell_type": "markdown",
   "id": "9dd8da68",
   "metadata": {},
   "source": [
    "Dado que tenemos una baja cardinalidad en todas las variables categóricas a transformar, utilizaremos la técnica de One Hot Encoding (OHE) que puede darnos resultados decentes en los modelos que utilizaremos. "
   ]
  },
  {
   "cell_type": "code",
   "execution_count": 38,
   "id": "d3725ea7",
   "metadata": {},
   "outputs": [
    {
     "data": {
      "text/html": [
       "<div>\n",
       "<style scoped>\n",
       "    .dataframe tbody tr th:only-of-type {\n",
       "        vertical-align: middle;\n",
       "    }\n",
       "\n",
       "    .dataframe tbody tr th {\n",
       "        vertical-align: top;\n",
       "    }\n",
       "\n",
       "    .dataframe thead th {\n",
       "        text-align: right;\n",
       "    }\n",
       "</style>\n",
       "<table border=\"1\" class=\"dataframe\">\n",
       "  <thead>\n",
       "    <tr style=\"text-align: right;\">\n",
       "      <th></th>\n",
       "      <th>monthly_charges</th>\n",
       "      <th>total_charges</th>\n",
       "      <th>churn</th>\n",
       "      <th>senior_citizen</th>\n",
       "      <th>tenure</th>\n",
       "      <th>type_One year</th>\n",
       "      <th>type_Two year</th>\n",
       "      <th>paperless_billing_Yes</th>\n",
       "      <th>payment_method_Credit card (automatic)</th>\n",
       "      <th>payment_method_Electronic check</th>\n",
       "      <th>...</th>\n",
       "      <th>streaming_tv_Yes</th>\n",
       "      <th>streaming_movies_Sin suscripción</th>\n",
       "      <th>streaming_movies_Yes</th>\n",
       "      <th>gender_Male</th>\n",
       "      <th>partner_Yes</th>\n",
       "      <th>dependents_Yes</th>\n",
       "      <th>multiple_lines_Sin suscripción</th>\n",
       "      <th>multiple_lines_Yes</th>\n",
       "      <th>basic_services_internet</th>\n",
       "      <th>basic_services_phone</th>\n",
       "    </tr>\n",
       "  </thead>\n",
       "  <tbody>\n",
       "    <tr>\n",
       "      <th>0</th>\n",
       "      <td>65.6</td>\n",
       "      <td>593.30</td>\n",
       "      <td>0</td>\n",
       "      <td>False</td>\n",
       "      <td>276</td>\n",
       "      <td>True</td>\n",
       "      <td>False</td>\n",
       "      <td>True</td>\n",
       "      <td>False</td>\n",
       "      <td>False</td>\n",
       "      <td>...</td>\n",
       "      <td>True</td>\n",
       "      <td>False</td>\n",
       "      <td>False</td>\n",
       "      <td>False</td>\n",
       "      <td>True</td>\n",
       "      <td>True</td>\n",
       "      <td>False</td>\n",
       "      <td>False</td>\n",
       "      <td>False</td>\n",
       "      <td>False</td>\n",
       "    </tr>\n",
       "    <tr>\n",
       "      <th>1</th>\n",
       "      <td>59.9</td>\n",
       "      <td>542.40</td>\n",
       "      <td>0</td>\n",
       "      <td>False</td>\n",
       "      <td>276</td>\n",
       "      <td>False</td>\n",
       "      <td>False</td>\n",
       "      <td>False</td>\n",
       "      <td>False</td>\n",
       "      <td>False</td>\n",
       "      <td>...</td>\n",
       "      <td>False</td>\n",
       "      <td>False</td>\n",
       "      <td>True</td>\n",
       "      <td>True</td>\n",
       "      <td>False</td>\n",
       "      <td>False</td>\n",
       "      <td>False</td>\n",
       "      <td>True</td>\n",
       "      <td>False</td>\n",
       "      <td>False</td>\n",
       "    </tr>\n",
       "    <tr>\n",
       "      <th>2</th>\n",
       "      <td>73.9</td>\n",
       "      <td>280.85</td>\n",
       "      <td>1</td>\n",
       "      <td>False</td>\n",
       "      <td>122</td>\n",
       "      <td>False</td>\n",
       "      <td>False</td>\n",
       "      <td>True</td>\n",
       "      <td>False</td>\n",
       "      <td>True</td>\n",
       "      <td>...</td>\n",
       "      <td>False</td>\n",
       "      <td>False</td>\n",
       "      <td>False</td>\n",
       "      <td>True</td>\n",
       "      <td>False</td>\n",
       "      <td>False</td>\n",
       "      <td>False</td>\n",
       "      <td>False</td>\n",
       "      <td>False</td>\n",
       "      <td>False</td>\n",
       "    </tr>\n",
       "    <tr>\n",
       "      <th>3</th>\n",
       "      <td>98.0</td>\n",
       "      <td>1237.85</td>\n",
       "      <td>1</td>\n",
       "      <td>True</td>\n",
       "      <td>396</td>\n",
       "      <td>False</td>\n",
       "      <td>False</td>\n",
       "      <td>True</td>\n",
       "      <td>False</td>\n",
       "      <td>True</td>\n",
       "      <td>...</td>\n",
       "      <td>True</td>\n",
       "      <td>False</td>\n",
       "      <td>True</td>\n",
       "      <td>True</td>\n",
       "      <td>True</td>\n",
       "      <td>False</td>\n",
       "      <td>False</td>\n",
       "      <td>False</td>\n",
       "      <td>False</td>\n",
       "      <td>False</td>\n",
       "    </tr>\n",
       "    <tr>\n",
       "      <th>4</th>\n",
       "      <td>83.9</td>\n",
       "      <td>267.40</td>\n",
       "      <td>1</td>\n",
       "      <td>True</td>\n",
       "      <td>91</td>\n",
       "      <td>False</td>\n",
       "      <td>False</td>\n",
       "      <td>True</td>\n",
       "      <td>False</td>\n",
       "      <td>False</td>\n",
       "      <td>...</td>\n",
       "      <td>True</td>\n",
       "      <td>False</td>\n",
       "      <td>False</td>\n",
       "      <td>False</td>\n",
       "      <td>True</td>\n",
       "      <td>False</td>\n",
       "      <td>False</td>\n",
       "      <td>False</td>\n",
       "      <td>False</td>\n",
       "      <td>False</td>\n",
       "    </tr>\n",
       "  </tbody>\n",
       "</table>\n",
       "<p>5 rows × 32 columns</p>\n",
       "</div>"
      ],
      "text/plain": [
       "   monthly_charges  total_charges  churn  senior_citizen  tenure  \\\n",
       "0             65.6         593.30      0           False     276   \n",
       "1             59.9         542.40      0           False     276   \n",
       "2             73.9         280.85      1           False     122   \n",
       "3             98.0        1237.85      1            True     396   \n",
       "4             83.9         267.40      1            True      91   \n",
       "\n",
       "   type_One year  type_Two year  paperless_billing_Yes  \\\n",
       "0           True          False                   True   \n",
       "1          False          False                  False   \n",
       "2          False          False                   True   \n",
       "3          False          False                   True   \n",
       "4          False          False                   True   \n",
       "\n",
       "   payment_method_Credit card (automatic)  payment_method_Electronic check  \\\n",
       "0                                   False                            False   \n",
       "1                                   False                            False   \n",
       "2                                   False                             True   \n",
       "3                                   False                             True   \n",
       "4                                   False                            False   \n",
       "\n",
       "   ...  streaming_tv_Yes  streaming_movies_Sin suscripción  \\\n",
       "0  ...              True                             False   \n",
       "1  ...             False                             False   \n",
       "2  ...             False                             False   \n",
       "3  ...              True                             False   \n",
       "4  ...              True                             False   \n",
       "\n",
       "   streaming_movies_Yes  gender_Male  partner_Yes  dependents_Yes  \\\n",
       "0                 False        False         True            True   \n",
       "1                  True         True        False           False   \n",
       "2                 False         True        False           False   \n",
       "3                  True         True         True           False   \n",
       "4                 False        False         True           False   \n",
       "\n",
       "   multiple_lines_Sin suscripción  multiple_lines_Yes  \\\n",
       "0                           False               False   \n",
       "1                           False                True   \n",
       "2                           False               False   \n",
       "3                           False               False   \n",
       "4                           False               False   \n",
       "\n",
       "   basic_services_internet  basic_services_phone  \n",
       "0                    False                 False  \n",
       "1                    False                 False  \n",
       "2                    False                 False  \n",
       "3                    False                 False  \n",
       "4                    False                 False  \n",
       "\n",
       "[5 rows x 32 columns]"
      ]
     },
     "execution_count": 38,
     "metadata": {},
     "output_type": "execute_result"
    }
   ],
   "source": [
    "# Aplicando one hot encoding a las variables categóricas\n",
    "encoded_data = pd.get_dummies(full_data, drop_first=True)\n",
    "encoded_data.head()"
   ]
  },
  {
   "cell_type": "markdown",
   "id": "e4bfdd62",
   "metadata": {},
   "source": [
    "### 5.2 Estandarización de variables numéricas\n",
    "\n",
    "Para evitar fuga de datos entre los conjuntos de entrenamiento y prueba, dividiremos el dataset en estos conjuntos antes de aplicar la estandarización."
   ]
  },
  {
   "cell_type": "code",
   "execution_count": 39,
   "id": "c46c6b81",
   "metadata": {},
   "outputs": [
    {
     "name": "stdout",
     "output_type": "stream",
     "text": [
      "(5634, 32)\n",
      "(1409, 32)\n",
      "churn\n",
      "0    0.734647\n",
      "1    0.265353\n",
      "Name: proportion, dtype: float64\n",
      "churn\n",
      "0    0.734564\n",
      "1    0.265436\n",
      "Name: proportion, dtype: float64\n"
     ]
    }
   ],
   "source": [
    "# División de los datos en conjuntos de entrenamiento y prueba\n",
    "\n",
    "df_train, df_test = train_test_split(encoded_data, test_size=0.2, random_state=12345, stratify=encoded_data['churn'])\n",
    "\n",
    "# Verificamos los resultados\n",
    "print(df_train.shape)\n",
    "print(df_test.shape)\n",
    "print(df_train['churn'].value_counts(normalize=True))\n",
    "print(df_test['churn'].value_counts(normalize=True))"
   ]
  },
  {
   "cell_type": "code",
   "execution_count": 40,
   "id": "672a2789",
   "metadata": {},
   "outputs": [
    {
     "name": "stdout",
     "output_type": "stream",
     "text": [
      "(5634, 31)\n",
      "(5634,)\n",
      "(1409, 31)\n",
      "(1409,)\n"
     ]
    }
   ],
   "source": [
    "# Extraemos las características y la variable objetivo\n",
    "X_train = df_train.drop(columns=['churn'])\n",
    "y_train = df_train['churn']\n",
    "\n",
    "X_test = df_test.drop(columns=['churn'])\n",
    "y_test = df_test['churn']\n",
    "# Verificamos los resultados\n",
    "print(X_train.shape)\n",
    "print(y_train.shape)\n",
    "print(X_test.shape)\n",
    "print(y_test.shape)"
   ]
  },
  {
   "cell_type": "code",
   "execution_count": 41,
   "id": "4db83df1",
   "metadata": {},
   "outputs": [],
   "source": [
    "# Utilizaremos el escalador estandar para normalizar los datos\n",
    "# Separamos las columnas numéricas para aplicar el escalador\n",
    "numeric = X_train.select_dtypes(include=['int16', 'float64']).columns\n",
    "\n",
    "scaler = StandardScaler()\n",
    "scaler.fit(X_train[numeric])\n",
    "X_train[numeric] = scaler.transform(X_train[numeric])\n",
    "X_test[numeric] = scaler.transform(X_test[numeric])"
   ]
  },
  {
   "cell_type": "markdown",
   "id": "028a6ed5",
   "metadata": {},
   "source": [
    "### 5.3 Creación de nuevas características (si se detectan algunas necesarias)\n",
    "\n",
    "A lo largo de las secciones anteriores hemos analizado la información y creado algunas características como la columna 'tenure' y la columna objetivo 'churn' por lo que en este punto, ya no es necesario crear algunas otras.\n",
    "\n",
    "En esta sección utilizaremos la técnica de sobremuestreo para ajusta el desbalance de clases."
   ]
  },
  {
   "cell_type": "code",
   "execution_count": 42,
   "id": "d816c88d",
   "metadata": {},
   "outputs": [],
   "source": [
    "# Definimos una función para hacer el sobremuestreo de los datos\n",
    "def upsample(X, y, repeat, random_state=12345):\n",
    "    X_zeros = X[y == 0]\n",
    "    y_zeros = y[y == 0]\n",
    "    X_ones = X[y == 1]\n",
    "    y_ones = y[y == 1]\n",
    "    \n",
    "    X_upsampled = pd.concat([X_zeros] + [X_ones] * repeat)\n",
    "    y_upsampled = pd.concat([y_zeros] + [y_ones] * repeat)\n",
    "    X_upsampled, y_upsampled = shuffle(X_upsampled, y_upsampled, random_state=random_state)\n",
    "    return X_upsampled, y_upsampled"
   ]
  },
  {
   "cell_type": "code",
   "execution_count": 43,
   "id": "191c68f0",
   "metadata": {},
   "outputs": [
    {
     "data": {
      "text/html": [
       "<div>\n",
       "<style scoped>\n",
       "    .dataframe tbody tr th:only-of-type {\n",
       "        vertical-align: middle;\n",
       "    }\n",
       "\n",
       "    .dataframe tbody tr th {\n",
       "        vertical-align: top;\n",
       "    }\n",
       "\n",
       "    .dataframe thead th {\n",
       "        text-align: right;\n",
       "    }\n",
       "</style>\n",
       "<table border=\"1\" class=\"dataframe\">\n",
       "  <thead>\n",
       "    <tr style=\"text-align: right;\">\n",
       "      <th></th>\n",
       "      <th>1</th>\n",
       "      <th>2</th>\n",
       "      <th>3</th>\n",
       "      <th>4</th>\n",
       "    </tr>\n",
       "  </thead>\n",
       "  <tbody>\n",
       "    <tr>\n",
       "      <th>shape</th>\n",
       "      <td>(5634, 31)</td>\n",
       "      <td>(7129, 31)</td>\n",
       "      <td>(8624, 31)</td>\n",
       "      <td>(10119, 31)</td>\n",
       "    </tr>\n",
       "    <tr>\n",
       "      <th>class_0</th>\n",
       "      <td>0.734647</td>\n",
       "      <td>0.580586</td>\n",
       "      <td>0.47994</td>\n",
       "      <td>0.409033</td>\n",
       "    </tr>\n",
       "    <tr>\n",
       "      <th>class_1</th>\n",
       "      <td>0.265353</td>\n",
       "      <td>0.419414</td>\n",
       "      <td>0.52006</td>\n",
       "      <td>0.590967</td>\n",
       "    </tr>\n",
       "  </tbody>\n",
       "</table>\n",
       "</div>"
      ],
      "text/plain": [
       "                  1           2           3            4\n",
       "shape    (5634, 31)  (7129, 31)  (8624, 31)  (10119, 31)\n",
       "class_0    0.734647    0.580586     0.47994     0.409033\n",
       "class_1    0.265353    0.419414     0.52006     0.590967"
      ]
     },
     "metadata": {},
     "output_type": "display_data"
    }
   ],
   "source": [
    "# Probamos el rebalanceo de clases con el método de sobremuestreo\n",
    "upsample_results = {}\n",
    "\n",
    "for repeat in [1, 2, 3, 4]:\n",
    "    X_train_upsampled, y_train_upsampled = upsample(X_train, y_train, repeat=repeat)\n",
    "    shape = X_train_upsampled.shape\n",
    "    proportions = y_train_upsampled.value_counts(normalize=True).sort_index()\n",
    "    upsample_results[repeat] = {\n",
    "        'shape': shape,\n",
    "        'class_0': proportions.get(0, 0),\n",
    "        'class_1': proportions.get(1, 0)}\n",
    "\n",
    "# Crear un DataFrame para mostrar los resultados\n",
    "upsample_results_df = pd.DataFrame(upsample_results)\n",
    "display(upsample_results_df)\n"
   ]
  },
  {
   "cell_type": "markdown",
   "id": "de4ce7ae",
   "metadata": {},
   "source": [
    "De los resultados de la tabla, observamos que la mejor repetición es la 2, ya que tenemos un mejor balanceo y a partir de la tercera repetición, la clase 1 se convierte en la clase mayoritaria. Por lo tanto, utilizaremos el sobremuestreo con dos repeticiones para nuestros modelos."
   ]
  },
  {
   "cell_type": "markdown",
   "id": "6d76ae59",
   "metadata": {},
   "source": [
    "## 6 Modelado\n",
    "\n",
    "En esta sección probaremos diferentes modelos de clasificación para ajustar sus hiperparámetros y finalmente probar los mejores con el conjunto de pruebas."
   ]
  },
  {
   "cell_type": "code",
   "execution_count": 44,
   "id": "d4017e3b",
   "metadata": {},
   "outputs": [],
   "source": [
    "# Las siguientes funciones nos ayudarán a evaluar el rendimiento de los modelos\n",
    "\n",
    "# Función para calcular las métricas de evaluación\n",
    "def model_score(y_true, y_pred, y_pred_proba):\n",
    "    roc_auc = roc_auc_score(y_true, y_pred_proba)\n",
    "    accuracy = accuracy_score(y_true, y_pred)\n",
    "    precision = precision_score(y_true, y_pred)\n",
    "    recall = recall_score(y_true, y_pred)\n",
    "    f1 = f1_score(y_true, y_pred)\n",
    "    \n",
    "    return roc_auc, accuracy, precision, recall, f1\n",
    "\n",
    "# Definimos un diccionario para almacenar los resultados de los modelos\n",
    "results = {}\n"
   ]
  },
  {
   "cell_type": "code",
   "execution_count": 45,
   "id": "7c4ecf00",
   "metadata": {},
   "outputs": [],
   "source": [
    "# Definimos el scorer para la validación cruzada\n",
    "def cv_scorer(y_true, y_pred):\n",
    "    roc_auc = roc_auc_score(y_true, y_pred)\n",
    "    return roc_auc\n",
    "\n",
    "scorer = make_scorer(cv_scorer, greater_is_better=True)\n"
   ]
  },
  {
   "cell_type": "code",
   "execution_count": 46,
   "id": "3a3dcff0",
   "metadata": {},
   "outputs": [],
   "source": [
    "# Función para entrenar y evaluar los modelos sin ajuste de hiperparámetros y utilizando validación cruzada\n",
    "def model_no_tuning(model_name, model, X_train, y_train, cv=5):\n",
    "\n",
    "    # Entrenamos el modelo\n",
    "    model.fit(X_train, y_train)\n",
    "\n",
    "    # Realizamos la validación cruzada\n",
    "    scores = cross_val_score(model, X_train, y_train, scoring=scorer, cv=cv)\n",
    "    scores = round(scores.mean(), 4)\n",
    "\n",
    "    # Calculamos las métricas de evaluación en el conjunto de entrenamiento\n",
    "    y_pred = model.predict(X_train)\n",
    "    y_pred_proba = model.predict_proba(X_train)[:, 1]\n",
    "    roc_auc, accuracy, precision, recall, f1 = model_score(y_train, y_pred, y_pred_proba)\n",
    "\n",
    "    # Guardamos los resultados en el diccionario\n",
    "    results[model_name] = {\n",
    "        'roc_auc_training': scores,\n",
    "        'model' : model,\n",
    "        'best_params': None,\n",
    "        'best_estimator': None,\n",
    "        }\n",
    "    \n",
    "    print(f'ROC AUC de la validación cruzada: {scores}')\n",
    "    print(f'Métricas para el modelo {model_name} en el conjunto de entrenamiento:')\n",
    "    print(f'ROC AUC: {roc_auc:.4f}')    \n",
    "    print(f'Accuracy: {accuracy:.4f}')\n",
    "    print(f'Precision: {precision:.4f}')\n",
    "    print(f'Recall: {recall:.4f}')\n",
    "    print(f'F1 Score: {f1:.4f}')\n"
   ]
  },
  {
   "cell_type": "code",
   "execution_count": 47,
   "id": "cf4bf8ba",
   "metadata": {},
   "outputs": [],
   "source": [
    "# Definimos una función para entrenar y evaluar los modelos con ajuste de hiperparámetros\n",
    "def model_with_tuning(model_name, model, X, y, param_grid, cv=5):\n",
    "    # Realizamos la búsqueda aleatoria de hiperparámetros\n",
    "    search = RandomizedSearchCV(model, param_distributions=param_grid, n_iter=20, cv=cv, scoring=scorer, n_jobs=4, verbose=0, random_state=12345)\n",
    "    search.fit(X, y)\n",
    "    # Guardamos los resultados en el diccionario\n",
    "    results[model_name] = {\n",
    "        'roc_auc_training': round(search.best_score_, 4),\n",
    "        'model' : model,\n",
    "        'best_params': search.best_params_,\n",
    "        'best_estimator': search.best_estimator_,\n",
    "        }\n",
    "    # Mostramos los resultados\n",
    "    print(f'Best ROC AUC: {search.best_score_:.4f}')\n",
    "    print(f'Best parameters: {search.best_params_}')\n"
   ]
  },
  {
   "cell_type": "markdown",
   "id": "b353f2cf",
   "metadata": {},
   "source": [
    "### 6.1 Línea base (Dummy Classifier)"
   ]
  },
  {
   "cell_type": "code",
   "execution_count": 48,
   "id": "a78075a8",
   "metadata": {},
   "outputs": [
    {
     "name": "stdout",
     "output_type": "stream",
     "text": [
      "ROC AUC de la validación cruzada: 0.4909\n",
      "Métricas para el modelo Dummy Classifier en el conjunto de entrenamiento:\n",
      "ROC AUC: 0.5041\n",
      "Accuracy: 0.6120\n",
      "Precision: 0.2713\n",
      "Recall: 0.2742\n",
      "F1 Score: 0.2728\n"
     ]
    }
   ],
   "source": [
    "# Prueba de cordura con DummyClassifier\n",
    "dummy_model = DummyClassifier(strategy='stratified', random_state=12345)\n",
    "model_no_tuning('Dummy Classifier', dummy_model, X_train, y_train)\n"
   ]
  },
  {
   "cell_type": "markdown",
   "id": "12ce73fa",
   "metadata": {},
   "source": [
    "### 6.2 Regresión logística (Logistic Regression)"
   ]
  },
  {
   "cell_type": "code",
   "execution_count": 49,
   "id": "67a31840",
   "metadata": {},
   "outputs": [
    {
     "name": "stdout",
     "output_type": "stream",
     "text": [
      "ROC AUC de la validación cruzada: 0.7204\n",
      "Métricas para el modelo Logistic Regression en el conjunto de entrenamiento:\n",
      "ROC AUC: 0.8456\n",
      "Accuracy: 0.8060\n",
      "Precision: 0.6613\n",
      "Recall: 0.5512\n",
      "F1 Score: 0.6012\n"
     ]
    }
   ],
   "source": [
    "# Regresión logística sin balanceo de clases\n",
    "lr_model = LogisticRegression(random_state=12345)\n",
    "model_no_tuning('Logistic Regression', lr_model, X_train, y_train)"
   ]
  },
  {
   "cell_type": "code",
   "execution_count": 50,
   "id": "24f79af8",
   "metadata": {},
   "outputs": [
    {
     "name": "stdout",
     "output_type": "stream",
     "text": [
      "ROC AUC de la validación cruzada: 0.7622\n",
      "Métricas para el modelo Logistic Regression (Balanceado) en el conjunto de entrenamiento:\n",
      "ROC AUC: 0.8456\n",
      "Accuracy: 0.7474\n",
      "Precision: 0.5154\n",
      "Recall: 0.8060\n",
      "F1 Score: 0.6288\n"
     ]
    }
   ],
   "source": [
    "# Regresión logística con balanceo de clases\n",
    "lr_model = LogisticRegression(random_state=12345, class_weight='balanced')\n",
    "model_no_tuning('Logistic Regression (Balanceado)', lr_model, X_train, y_train)"
   ]
  },
  {
   "cell_type": "code",
   "execution_count": 51,
   "id": "ec2d2db8",
   "metadata": {},
   "outputs": [
    {
     "name": "stdout",
     "output_type": "stream",
     "text": [
      "ROC AUC de la validación cruzada: 0.7588\n",
      "Métricas para el modelo Logistic Regression (Balanceado por sobremuestreo) en el conjunto de entrenamiento:\n",
      "ROC AUC: 0.8457\n",
      "Accuracy: 0.7627\n",
      "Precision: 0.7114\n",
      "Recall: 0.7304\n",
      "F1 Score: 0.7208\n"
     ]
    }
   ],
   "source": [
    "# Regresión logística con balanceo de clases mediante sobremuestreo\n",
    "\n",
    "X_train_upsampled, y_train_upsampled = upsample(X_train, y_train, repeat=2)\n",
    "lr_model = LogisticRegression(random_state=12345)\n",
    "model_no_tuning(f'Logistic Regression (Balanceado por sobremuestreo)', lr_model, X_train_upsampled, y_train_upsampled)\n"
   ]
  },
  {
   "cell_type": "markdown",
   "id": "6b96068c",
   "metadata": {},
   "source": [
    "### 6.3 Árbol de decisión (Decission Tree Classifier)"
   ]
  },
  {
   "cell_type": "code",
   "execution_count": 52,
   "id": "efdea604",
   "metadata": {},
   "outputs": [
    {
     "name": "stdout",
     "output_type": "stream",
     "text": [
      "ROC AUC de la validación cruzada: 0.6916\n",
      "Métricas para el modelo Decision Tree en el conjunto de entrenamiento:\n",
      "ROC AUC: 0.8585\n",
      "Accuracy: 0.8095\n",
      "Precision: 0.6492\n",
      "Recall: 0.6140\n",
      "F1 Score: 0.6311\n"
     ]
    }
   ],
   "source": [
    "# Árbol de decisión sin balanceo de clases ni ajuste de hiperparámetros\n",
    "dt_model = DecisionTreeClassifier(max_depth=5, random_state=12345)\n",
    "model_no_tuning('Decision Tree', dt_model, X_train, y_train)"
   ]
  },
  {
   "cell_type": "code",
   "execution_count": 53,
   "id": "dc8a8c42",
   "metadata": {},
   "outputs": [
    {
     "name": "stdout",
     "output_type": "stream",
     "text": [
      "ROC AUC de la validación cruzada: 0.7555\n",
      "Métricas para el modelo Decision Tree (Balanceado) en el conjunto de entrenamiento:\n",
      "ROC AUC: 0.8539\n",
      "Accuracy: 0.7359\n",
      "Precision: 0.5014\n",
      "Recall: 0.8482\n",
      "F1 Score: 0.6302\n"
     ]
    }
   ],
   "source": [
    "# Árbol de decisión con balanceo de clases por hiperparámetro\n",
    "\n",
    "dt_model = DecisionTreeClassifier(max_depth=5, class_weight='balanced', random_state=12345)\n",
    "model_no_tuning('Decision Tree (Balanceado)', dt_model, X_train, y_train)"
   ]
  },
  {
   "cell_type": "code",
   "execution_count": 54,
   "id": "34c3b84c",
   "metadata": {},
   "outputs": [
    {
     "name": "stdout",
     "output_type": "stream",
     "text": [
      "ROC AUC de la validación cruzada: 0.7581\n",
      "Métricas para el modelo Decision Tree (Balanceado por sobremuestreo) en el conjunto de entrenamiento:\n",
      "ROC AUC: 0.8513\n",
      "Accuracy: 0.7683\n",
      "Precision: 0.7097\n",
      "Recall: 0.7572\n",
      "F1 Score: 0.7327\n"
     ]
    }
   ],
   "source": [
    "# Árbol de decisión con balanceo de clases mediante sobremuestreo\n",
    "\n",
    "dt_model = DecisionTreeClassifier(max_depth=5, random_state=12345)\n",
    "model_no_tuning(f'Decision Tree (Balanceado por sobremuestreo)', dt_model, X_train_upsampled, y_train_upsampled)\n"
   ]
  },
  {
   "cell_type": "code",
   "execution_count": 55,
   "id": "427be2ec",
   "metadata": {},
   "outputs": [
    {
     "name": "stdout",
     "output_type": "stream",
     "text": [
      "Best ROC AUC: 0.7626\n",
      "Best parameters: {'min_samples_split': 2, 'min_samples_leaf': 4, 'max_depth': 7, 'class_weight': 'balanced'}\n"
     ]
    }
   ],
   "source": [
    "# Árbol de decisión con ajuste de hiperparámetros\n",
    "param_grid = {\n",
    "    'max_depth': [3, 5, 7, 9, 11],\n",
    "    'min_samples_split': [2, 5, 10],\n",
    "    'min_samples_leaf': [1, 2, 4],\n",
    "    'class_weight': ['balanced'],\n",
    "}\n",
    "dt_model = DecisionTreeClassifier(random_state=12345)\n",
    "model_with_tuning('Decision Tree w/tuning', dt_model, X_train, y_train, param_grid)\n"
   ]
  },
  {
   "cell_type": "markdown",
   "id": "e6f67266",
   "metadata": {},
   "source": [
    "### 6.4 Bosque aleatorio (Random Forest Classifier)"
   ]
  },
  {
   "cell_type": "code",
   "execution_count": 56,
   "id": "23865efb",
   "metadata": {},
   "outputs": [
    {
     "name": "stdout",
     "output_type": "stream",
     "text": [
      "ROC AUC de la validación cruzada: 0.679\n",
      "Métricas para el modelo Random Forest en el conjunto de entrenamiento:\n",
      "ROC AUC: 0.8615\n",
      "Accuracy: 0.8055\n",
      "Precision: 0.7372\n",
      "Recall: 0.4147\n",
      "F1 Score: 0.5308\n"
     ]
    }
   ],
   "source": [
    "# Bosque aleatorio sin balanceo de clases ni ajuste de hiperparámetros\n",
    "rf_model = RandomForestClassifier(max_depth=5, random_state=12345)\n",
    "model_no_tuning('Random Forest', rf_model, X_train, y_train)"
   ]
  },
  {
   "cell_type": "code",
   "execution_count": 57,
   "id": "7475cec2",
   "metadata": {},
   "outputs": [
    {
     "name": "stdout",
     "output_type": "stream",
     "text": [
      "ROC AUC de la validación cruzada: 0.768\n",
      "Métricas para el modelo Random Forest (Balanceado) en el conjunto de entrenamiento:\n",
      "ROC AUC: 0.8596\n",
      "Accuracy: 0.7524\n",
      "Precision: 0.5211\n",
      "Recall: 0.8254\n",
      "F1 Score: 0.6389\n"
     ]
    }
   ],
   "source": [
    "# Bosqe aleatorio con balanceo de clases por hiperparámetro\n",
    "rf_model_b = RandomForestClassifier(max_depth=5, random_state=12345, class_weight='balanced')\n",
    "model_no_tuning('Random Forest (Balanceado)', rf_model_b, X_train, y_train)"
   ]
  },
  {
   "cell_type": "code",
   "execution_count": 58,
   "id": "d7970f07",
   "metadata": {},
   "outputs": [
    {
     "name": "stdout",
     "output_type": "stream",
     "text": [
      "ROC AUC de la validación cruzada: 0.7675\n",
      "Métricas para el modelo Random Forest (Balanceado por sobremuestreo) en el conjunto de entrenamiento:\n",
      "ROC AUC: 0.8607\n",
      "Accuracy: 0.7844\n",
      "Precision: 0.7455\n",
      "Recall: 0.7378\n",
      "F1 Score: 0.7416\n"
     ]
    }
   ],
   "source": [
    "# Bosque aleatorio con balanceo de clases mediante sobremuestreo\n",
    "\n",
    "rf_model = RandomForestClassifier(max_depth=5, random_state=12345)\n",
    "model_no_tuning(f'Random Forest (Balanceado por sobremuestreo)', rf_model, X_train_upsampled, y_train_upsampled)\n"
   ]
  },
  {
   "cell_type": "code",
   "execution_count": 59,
   "id": "304b2c95",
   "metadata": {},
   "outputs": [
    {
     "name": "stdout",
     "output_type": "stream",
     "text": [
      "Best ROC AUC: 0.7715\n",
      "Best parameters: {'n_estimators': 100, 'min_samples_split': 5, 'min_samples_leaf': 1, 'max_depth': 7, 'class_weight': 'balanced'}\n"
     ]
    }
   ],
   "source": [
    "# Bosque aleatorio con ajuste de hiperparámetros\n",
    "param_grid = {\n",
    "    'max_depth': [3, 5, 7, 9, 11],\n",
    "    'n_estimators': [10, 50, 80, 100],\n",
    "    'min_samples_split': [2, 5, 10],\n",
    "    'min_samples_leaf': [1, 2, 4],\n",
    "    'class_weight': ['balanced'],\n",
    "}\n",
    "rf_model = RandomForestClassifier(random_state=12345)\n",
    "model_with_tuning('Random Forest w/tuning', rf_model, X_train, y_train, param_grid)"
   ]
  },
  {
   "cell_type": "markdown",
   "id": "2721478f",
   "metadata": {},
   "source": [
    "Con estos tres primeros modelos estamos obteniendo valores relativamente bajos para la métrica ROC AUC en la validación cruzada. Pasaremos ahora a probar modelos basados en el decenso de gradiente."
   ]
  },
  {
   "cell_type": "markdown",
   "id": "a0a839c1",
   "metadata": {},
   "source": [
    "### 6.5 XGBoost"
   ]
  },
  {
   "cell_type": "code",
   "execution_count": 60,
   "id": "aeda341c",
   "metadata": {},
   "outputs": [
    {
     "name": "stdout",
     "output_type": "stream",
     "text": [
      "ROC AUC de la validación cruzada: 0.8884\n",
      "Métricas para el modelo XGBoost en el conjunto de entrenamiento:\n",
      "ROC AUC: 0.9943\n",
      "Accuracy: 0.9625\n",
      "Precision: 0.9413\n",
      "Recall: 0.9712\n",
      "F1 Score: 0.9560\n"
     ]
    }
   ],
   "source": [
    "# XGBoost sin ajuste de hiperparámetros\n",
    "xgb_model = XGBClassifier(random_state=12345)\n",
    "model_no_tuning('XGBoost', xgb_model, X_train_upsampled, y_train_upsampled)\n"
   ]
  },
  {
   "cell_type": "code",
   "execution_count": 61,
   "id": "b45733ac",
   "metadata": {},
   "outputs": [
    {
     "name": "stdout",
     "output_type": "stream",
     "text": [
      "Best ROC AUC: 0.9056\n",
      "Best parameters: {'subsample': 1.0, 'reg_lambda': 0.1, 'reg_alpha': 0.1, 'n_estimators': 300, 'max_depth': 5, 'learning_rate': 0.2, 'colsample_bytree': 0.7}\n"
     ]
    }
   ],
   "source": [
    "# XGBoost con ajuste de hiperparámetros\n",
    "param_grid = {\n",
    "    'max_depth': [3, 5, 7, 9],\n",
    "    'n_estimators': [10, 50, 80, 100, 300],\n",
    "    'learning_rate': [0.01, 0.1, 0.2, 0.3],\n",
    "    'subsample': [0.5, 0.7, 1.0],\n",
    "    'colsample_bytree': [0.5, 0.7, 1.0],\n",
    "    'reg_lambda': [0, 0.1, 1],\n",
    "    'reg_alpha': [0, 0.1, 1],\n",
    "}\n",
    "xgb_model = XGBClassifier(random_state=12345)\n",
    "model_with_tuning('XGBoost w/tuning', xgb_model, X_train_upsampled, y_train_upsampled, param_grid)"
   ]
  },
  {
   "cell_type": "markdown",
   "id": "fea79419",
   "metadata": {},
   "source": [
    "### 6.6 CatBoost"
   ]
  },
  {
   "cell_type": "code",
   "execution_count": 62,
   "id": "792e5ccc",
   "metadata": {},
   "outputs": [
    {
     "data": {
      "text/html": [
       "<div>\n",
       "<style scoped>\n",
       "    .dataframe tbody tr th:only-of-type {\n",
       "        vertical-align: middle;\n",
       "    }\n",
       "\n",
       "    .dataframe tbody tr th {\n",
       "        vertical-align: top;\n",
       "    }\n",
       "\n",
       "    .dataframe thead th {\n",
       "        text-align: right;\n",
       "    }\n",
       "</style>\n",
       "<table border=\"1\" class=\"dataframe\">\n",
       "  <thead>\n",
       "    <tr style=\"text-align: right;\">\n",
       "      <th></th>\n",
       "      <th>type</th>\n",
       "      <th>paperless_billing</th>\n",
       "      <th>payment_method</th>\n",
       "      <th>monthly_charges</th>\n",
       "      <th>total_charges</th>\n",
       "      <th>internet_service</th>\n",
       "      <th>online_security</th>\n",
       "      <th>online_backup</th>\n",
       "      <th>device_protection</th>\n",
       "      <th>tech_support</th>\n",
       "      <th>streaming_tv</th>\n",
       "      <th>streaming_movies</th>\n",
       "      <th>gender</th>\n",
       "      <th>senior_citizen</th>\n",
       "      <th>partner</th>\n",
       "      <th>dependents</th>\n",
       "      <th>multiple_lines</th>\n",
       "      <th>basic_services</th>\n",
       "      <th>tenure</th>\n",
       "    </tr>\n",
       "  </thead>\n",
       "  <tbody>\n",
       "    <tr>\n",
       "      <th>1227</th>\n",
       "      <td>Month-to-month</td>\n",
       "      <td>No</td>\n",
       "      <td>Mailed check</td>\n",
       "      <td>-1.176753</td>\n",
       "      <td>-0.987300</td>\n",
       "      <td>DSL</td>\n",
       "      <td>No</td>\n",
       "      <td>No</td>\n",
       "      <td>No</td>\n",
       "      <td>Yes</td>\n",
       "      <td>No</td>\n",
       "      <td>No</td>\n",
       "      <td>Male</td>\n",
       "      <td>False</td>\n",
       "      <td>No</td>\n",
       "      <td>No</td>\n",
       "      <td>Sin suscripción</td>\n",
       "      <td>internet</td>\n",
       "      <td>-1.274839</td>\n",
       "    </tr>\n",
       "    <tr>\n",
       "      <th>3585</th>\n",
       "      <td>Month-to-month</td>\n",
       "      <td>Yes</td>\n",
       "      <td>Electronic check</td>\n",
       "      <td>-0.641323</td>\n",
       "      <td>-0.980182</td>\n",
       "      <td>DSL</td>\n",
       "      <td>No</td>\n",
       "      <td>No</td>\n",
       "      <td>No</td>\n",
       "      <td>No</td>\n",
       "      <td>No</td>\n",
       "      <td>No</td>\n",
       "      <td>Female</td>\n",
       "      <td>False</td>\n",
       "      <td>No</td>\n",
       "      <td>No</td>\n",
       "      <td>No</td>\n",
       "      <td>both</td>\n",
       "      <td>-1.276176</td>\n",
       "    </tr>\n",
       "    <tr>\n",
       "      <th>3920</th>\n",
       "      <td>Month-to-month</td>\n",
       "      <td>Yes</td>\n",
       "      <td>Electronic check</td>\n",
       "      <td>0.979884</td>\n",
       "      <td>-0.539108</td>\n",
       "      <td>Fiber optic</td>\n",
       "      <td>No</td>\n",
       "      <td>No</td>\n",
       "      <td>No</td>\n",
       "      <td>No</td>\n",
       "      <td>Yes</td>\n",
       "      <td>Yes</td>\n",
       "      <td>Female</td>\n",
       "      <td>False</td>\n",
       "      <td>No</td>\n",
       "      <td>No</td>\n",
       "      <td>Yes</td>\n",
       "      <td>both</td>\n",
       "      <td>-0.828315</td>\n",
       "    </tr>\n",
       "    <tr>\n",
       "      <th>423</th>\n",
       "      <td>Two year</td>\n",
       "      <td>Yes</td>\n",
       "      <td>Mailed check</td>\n",
       "      <td>-1.161834</td>\n",
       "      <td>-0.868349</td>\n",
       "      <td>DSL</td>\n",
       "      <td>No</td>\n",
       "      <td>No</td>\n",
       "      <td>No</td>\n",
       "      <td>Yes</td>\n",
       "      <td>No</td>\n",
       "      <td>No</td>\n",
       "      <td>Female</td>\n",
       "      <td>False</td>\n",
       "      <td>No</td>\n",
       "      <td>No</td>\n",
       "      <td>Sin suscripción</td>\n",
       "      <td>internet</td>\n",
       "      <td>-0.907192</td>\n",
       "    </tr>\n",
       "    <tr>\n",
       "      <th>6829</th>\n",
       "      <td>Month-to-month</td>\n",
       "      <td>No</td>\n",
       "      <td>Mailed check</td>\n",
       "      <td>-1.480107</td>\n",
       "      <td>-0.985735</td>\n",
       "      <td>Sin suscripción</td>\n",
       "      <td>Sin suscripción</td>\n",
       "      <td>Sin suscripción</td>\n",
       "      <td>Sin suscripción</td>\n",
       "      <td>Sin suscripción</td>\n",
       "      <td>Sin suscripción</td>\n",
       "      <td>Sin suscripción</td>\n",
       "      <td>Male</td>\n",
       "      <td>False</td>\n",
       "      <td>No</td>\n",
       "      <td>No</td>\n",
       "      <td>No</td>\n",
       "      <td>phone</td>\n",
       "      <td>-1.233396</td>\n",
       "    </tr>\n",
       "  </tbody>\n",
       "</table>\n",
       "</div>"
      ],
      "text/plain": [
       "                type paperless_billing    payment_method  monthly_charges  \\\n",
       "1227  Month-to-month                No      Mailed check        -1.176753   \n",
       "3585  Month-to-month               Yes  Electronic check        -0.641323   \n",
       "3920  Month-to-month               Yes  Electronic check         0.979884   \n",
       "423         Two year               Yes      Mailed check        -1.161834   \n",
       "6829  Month-to-month                No      Mailed check        -1.480107   \n",
       "\n",
       "      total_charges internet_service  online_security    online_backup  \\\n",
       "1227      -0.987300              DSL               No               No   \n",
       "3585      -0.980182              DSL               No               No   \n",
       "3920      -0.539108      Fiber optic               No               No   \n",
       "423       -0.868349              DSL               No               No   \n",
       "6829      -0.985735  Sin suscripción  Sin suscripción  Sin suscripción   \n",
       "\n",
       "     device_protection     tech_support     streaming_tv streaming_movies  \\\n",
       "1227                No              Yes               No               No   \n",
       "3585                No               No               No               No   \n",
       "3920                No               No              Yes              Yes   \n",
       "423                 No              Yes               No               No   \n",
       "6829   Sin suscripción  Sin suscripción  Sin suscripción  Sin suscripción   \n",
       "\n",
       "      gender  senior_citizen partner dependents   multiple_lines  \\\n",
       "1227    Male           False      No         No  Sin suscripción   \n",
       "3585  Female           False      No         No               No   \n",
       "3920  Female           False      No         No              Yes   \n",
       "423   Female           False      No         No  Sin suscripción   \n",
       "6829    Male           False      No         No               No   \n",
       "\n",
       "     basic_services    tenure  \n",
       "1227       internet -1.274839  \n",
       "3585           both -1.276176  \n",
       "3920           both -0.828315  \n",
       "423        internet -0.907192  \n",
       "6829          phone -1.233396  "
      ]
     },
     "metadata": {},
     "output_type": "display_data"
    }
   ],
   "source": [
    "# Obtenemos la lista de características categóricas\n",
    "cat_features = full_data.select_dtypes(include=['object', 'bool']).columns.tolist()\n",
    "cat_train, cat_test = train_test_split(full_data, test_size=0.2, random_state=12345, stratify=full_data['churn'])\n",
    "\n",
    "# Definimos las características y la variable objetivo\n",
    "X_cat_train = cat_train.drop(columns=['churn'])\n",
    "y_cat_train = cat_train['churn']\n",
    "X_cat_test = cat_test.drop(columns=['churn'])\n",
    "y_cat_test = cat_test['churn']\n",
    "\n",
    "numeric = X_cat_train.select_dtypes(include=['int16', 'float64']).columns\n",
    "\n",
    "scaler = StandardScaler()\n",
    "scaler.fit(X_cat_train[numeric])\n",
    "X_cat_train[numeric] = scaler.transform(X_cat_train[numeric])\n",
    "X_cat_test[numeric] = scaler.transform(X_cat_test[numeric])\n",
    "class_count = y_cat_train.value_counts()\n",
    "display(X_cat_train.head())"
   ]
  },
  {
   "cell_type": "code",
   "execution_count": 63,
   "id": "fc2bba08",
   "metadata": {},
   "outputs": [
    {
     "name": "stdout",
     "output_type": "stream",
     "text": [
      "ROC AUC de la validación cruzada: 0.7962\n",
      "Métricas para el modelo CatBoost en el conjunto de entrenamiento:\n",
      "ROC AUC: 0.9386\n",
      "Accuracy: 0.8550\n",
      "Precision: 0.6744\n",
      "Recall: 0.8769\n",
      "F1 Score: 0.7624\n"
     ]
    }
   ],
   "source": [
    "# CatBoost sin ajuste de hiperparámetros\n",
    "cat_model = CatBoostClassifier(cat_features=cat_features, scale_pos_weight=(class_count[0] / class_count[1]), random_state=12345, verbose=0)\n",
    "model_no_tuning('CatBoost', cat_model, X_cat_train, y_cat_train)"
   ]
  },
  {
   "cell_type": "code",
   "execution_count": 64,
   "id": "3e9c570c",
   "metadata": {},
   "outputs": [
    {
     "name": "stdout",
     "output_type": "stream",
     "text": [
      "Best ROC AUC: 0.8372\n",
      "Best parameters: {'scale_pos_weight': np.float64(2.768561872909699), 'learning_rate': 0.2, 'l2_leaf_reg': 0, 'iterations': 300, 'depth': 3}\n"
     ]
    }
   ],
   "source": [
    "# CatBoost con ajuste de hiperparámetros\n",
    "param_grid = {\n",
    "    'depth': [3, 5, 7, 9],\n",
    "    'iterations': [50, 80, 100, 300],\n",
    "    'learning_rate': [0.01, 0.1, 0.2, 0.3],\n",
    "    'l2_leaf_reg': [0, 0.1, 1],\n",
    "    'scale_pos_weight': [2, (class_count[0] / class_count[1]), 3],\n",
    "}\n",
    "cat_model = CatBoostClassifier(cat_features=cat_features, random_state=12345, verbose=0)\n",
    "model_with_tuning('CatBoost w/tuning', cat_model, X_cat_train, y_cat_train, param_grid)"
   ]
  },
  {
   "cell_type": "code",
   "execution_count": 65,
   "id": "2798be0b",
   "metadata": {},
   "outputs": [
    {
     "name": "stdout",
     "output_type": "stream",
     "text": [
      "Best ROC AUC: 0.8921\n",
      "Best parameters: {'scale_pos_weight': np.float64(2.768561872909699), 'learning_rate': 0.3, 'l2_leaf_reg': 0, 'iterations': 300, 'depth': 9}\n"
     ]
    }
   ],
   "source": [
    "# CatBoost con ajuste de hiperparámetros\n",
    "param_grid = {\n",
    "    'depth': [3, 5, 7, 9],\n",
    "    'iterations': [50, 80, 100, 300],\n",
    "    'learning_rate': [0.01, 0.1, 0.2, 0.3],\n",
    "    'l2_leaf_reg': [0, 0.1, 1],\n",
    "    'scale_pos_weight': [2, (class_count[0] / class_count[1]), 3],\n",
    "}\n",
    "cat_model = CatBoostClassifier(random_state=12345, verbose=0)\n",
    "model_with_tuning('CatBoost w/tuning upsampled', cat_model, X_train_upsampled, y_train_upsampled, param_grid)"
   ]
  },
  {
   "cell_type": "markdown",
   "id": "64759153",
   "metadata": {},
   "source": [
    "### 6.7 LightGBM"
   ]
  },
  {
   "cell_type": "code",
   "execution_count": 66,
   "id": "2d71f32e",
   "metadata": {},
   "outputs": [
    {
     "name": "stdout",
     "output_type": "stream",
     "text": [
      "ROC AUC de la validación cruzada: 0.7992\n",
      "Métricas para el modelo LGBM en el conjunto de entrenamiento:\n",
      "ROC AUC: 0.9765\n",
      "Accuracy: 0.9095\n",
      "Precision: 0.7655\n",
      "Recall: 0.9498\n",
      "F1 Score: 0.8478\n"
     ]
    }
   ],
   "source": [
    "# changing the dtypes to 'category'\n",
    "X_cat_lgbm_train = X_cat_train.copy()\n",
    "X_cat_lgbm_test = X_cat_test.copy()\n",
    "X_cat_lgbm_train[cat_features] = X_cat_lgbm_train[cat_features].astype('category')\n",
    "X_cat_lgbm_test[cat_features] = X_cat_lgbm_test[cat_features].astype('category')\n",
    "\n",
    "# LGBM sin ajuste de hiperparámetros\n",
    "lgbm_model = LGBMClassifier(class_weight='balanced', random_state=12345, verbose=0)\n",
    "model_no_tuning('LGBM', lgbm_model, X_cat_lgbm_train, y_cat_train)"
   ]
  },
  {
   "cell_type": "code",
   "execution_count": 67,
   "id": "394bf999",
   "metadata": {},
   "outputs": [
    {
     "name": "stdout",
     "output_type": "stream",
     "text": [
      "Best ROC AUC: 0.8195\n",
      "Best parameters: {'subsample': 0.5, 'reg_lambda': 1, 'reg_alpha': 1, 'num_leaves': 32, 'n_estimators': 300, 'min_data_in_leaf': 20, 'max_depth': 3, 'learning_rate': 0.3, 'colsample_bytree': 0.5}\n"
     ]
    }
   ],
   "source": [
    "# LGBM con ajuste de hiperparámetros\n",
    "param_grid = {\n",
    "    'max_depth': [3, 5, 7, 9],\n",
    "    'n_estimators': [50, 100, 300, 500],\n",
    "    'learning_rate': [0.01, 0.1, 0.3, 0.6],\n",
    "    'subsample': [0.5, 0.7, 1.0],\n",
    "    'colsample_bytree': [0.5, 0.7, 1.0],\n",
    "    'reg_lambda': [1],\n",
    "    'reg_alpha': [1],\n",
    "    'num_leaves': [32, 64, 128],\n",
    "    'min_data_in_leaf': [20, 40, 60]\n",
    "}\n",
    "lgbm_model = LGBMClassifier(class_weight='balanced', verbose=0, verbosity=-1, random_state=12345)\n",
    "model_with_tuning('LGBM w/tuning', lgbm_model, X_cat_lgbm_train, y_cat_train, param_grid)"
   ]
  },
  {
   "cell_type": "code",
   "execution_count": 68,
   "id": "b585a416",
   "metadata": {},
   "outputs": [
    {
     "name": "stdout",
     "output_type": "stream",
     "text": [
      "Best ROC AUC: 0.9040\n",
      "Best parameters: {'subsample': 0.7, 'reg_lambda': 1, 'reg_alpha': 1, 'num_leaves': 64, 'n_estimators': 500, 'min_data_in_leaf': 20, 'max_depth': 5, 'learning_rate': 0.6, 'colsample_bytree': 0.7}\n"
     ]
    }
   ],
   "source": [
    "# LGBM con ajuste de hiperparámetros y balanceo por sobremuestreo\n",
    "param_grid = {\n",
    "    'max_depth': [3, 5, 7, 9],\n",
    "    'n_estimators': [50, 100, 300, 500],\n",
    "    'learning_rate': [0.01, 0.1, 0.3, 0.6],\n",
    "    'subsample': [0.5, 0.7, 1.0],\n",
    "    'colsample_bytree': [0.5, 0.7, 1.0],\n",
    "    'reg_lambda': [1],\n",
    "    'reg_alpha': [1],\n",
    "    'num_leaves': [32, 64, 128],\n",
    "    'min_data_in_leaf': [20, 40, 60]\n",
    "}\n",
    "lgbm_model = LGBMClassifier(verbose=0, verbosity=-1, random_state=12345)\n",
    "model_with_tuning('LGBM w/tuning upsampled', lgbm_model, X_train_upsampled, y_train_upsampled, param_grid)"
   ]
  },
  {
   "cell_type": "markdown",
   "id": "224c8ea5",
   "metadata": {},
   "source": [
    "En general, podemos ver que los modelos CatBoost y LGBM se desempeñan mejor, en este caso, utilizando los datasets con las variables categóricas ya codificadas y utilizando el sobremuestreo para el balanceo de clases."
   ]
  },
  {
   "cell_type": "markdown",
   "id": "9e95a8e4",
   "metadata": {},
   "source": [
    "## 7 Evaluación\n",
    "En esta sección, evaluaremos los 3 mejores modelos obtenidos y seleccionaremos el que tenga un mejor desempeño en el conjunto de prueba."
   ]
  },
  {
   "cell_type": "markdown",
   "id": "fe6d3267",
   "metadata": {},
   "source": [
    "### 7.1 Evaluación de los 3 mejores modelos en el conjunto de prueba"
   ]
  },
  {
   "cell_type": "code",
   "execution_count": 69,
   "id": "993266d8",
   "metadata": {},
   "outputs": [
    {
     "data": {
      "text/html": [
       "<div>\n",
       "<style scoped>\n",
       "    .dataframe tbody tr th:only-of-type {\n",
       "        vertical-align: middle;\n",
       "    }\n",
       "\n",
       "    .dataframe tbody tr th {\n",
       "        vertical-align: top;\n",
       "    }\n",
       "\n",
       "    .dataframe thead th {\n",
       "        text-align: right;\n",
       "    }\n",
       "</style>\n",
       "<table border=\"1\" class=\"dataframe\">\n",
       "  <thead>\n",
       "    <tr style=\"text-align: right;\">\n",
       "      <th></th>\n",
       "      <th>roc_auc_training</th>\n",
       "    </tr>\n",
       "  </thead>\n",
       "  <tbody>\n",
       "    <tr>\n",
       "      <th>XGBoost w/tuning</th>\n",
       "      <td>0.9056</td>\n",
       "    </tr>\n",
       "    <tr>\n",
       "      <th>LGBM w/tuning upsampled</th>\n",
       "      <td>0.904</td>\n",
       "    </tr>\n",
       "    <tr>\n",
       "      <th>CatBoost w/tuning upsampled</th>\n",
       "      <td>0.8921</td>\n",
       "    </tr>\n",
       "    <tr>\n",
       "      <th>XGBoost</th>\n",
       "      <td>0.8884</td>\n",
       "    </tr>\n",
       "    <tr>\n",
       "      <th>CatBoost w/tuning</th>\n",
       "      <td>0.8372</td>\n",
       "    </tr>\n",
       "    <tr>\n",
       "      <th>LGBM w/tuning</th>\n",
       "      <td>0.8195</td>\n",
       "    </tr>\n",
       "    <tr>\n",
       "      <th>LGBM</th>\n",
       "      <td>0.7992</td>\n",
       "    </tr>\n",
       "    <tr>\n",
       "      <th>CatBoost</th>\n",
       "      <td>0.7962</td>\n",
       "    </tr>\n",
       "    <tr>\n",
       "      <th>Random Forest w/tuning</th>\n",
       "      <td>0.7715</td>\n",
       "    </tr>\n",
       "    <tr>\n",
       "      <th>Random Forest (Balanceado)</th>\n",
       "      <td>0.768</td>\n",
       "    </tr>\n",
       "  </tbody>\n",
       "</table>\n",
       "</div>"
      ],
      "text/plain": [
       "                            roc_auc_training\n",
       "XGBoost w/tuning                      0.9056\n",
       "LGBM w/tuning upsampled                0.904\n",
       "CatBoost w/tuning upsampled           0.8921\n",
       "XGBoost                               0.8884\n",
       "CatBoost w/tuning                     0.8372\n",
       "LGBM w/tuning                         0.8195\n",
       "LGBM                                  0.7992\n",
       "CatBoost                              0.7962\n",
       "Random Forest w/tuning                0.7715\n",
       "Random Forest (Balanceado)             0.768"
      ]
     },
     "metadata": {},
     "output_type": "display_data"
    }
   ],
   "source": [
    "# Presentamos los resultados de los modelos\n",
    "results_df = pd.DataFrame.from_dict(results)\n",
    "results_df = results_df.T\n",
    "results_df = results_df.sort_values(by='roc_auc_training', ascending=False)\n",
    "display(results_df[['roc_auc_training']].head(10))"
   ]
  },
  {
   "cell_type": "code",
   "execution_count": 70,
   "id": "23e853e3",
   "metadata": {},
   "outputs": [],
   "source": [
    "# Probamos los 3 mejores modelos en el conjunto de pruebas y guardamos los resultados\n",
    "# Definimos un diccionario para guardar los resultados \n",
    "final_results = {}\n",
    "\n",
    "# Realizamos las predicciones y calculamos las métricas de evaluación\n",
    "for model_name, model in results_df.iloc[:3]['best_estimator'].items():\n",
    "    \n",
    "    # Realizamos la predicción\n",
    "    y_pred = model.predict(X_test)\n",
    "    y_pred_proba = model.predict_proba(X_test)[:, 1]\n",
    "    \n",
    "    # Calculamos las métricas de evaluación\n",
    "    roc_auc, accuracy, precision, recall, f1 = model_score(y_test, y_pred, y_pred_proba)\n",
    "    \n",
    "    # Guardamos los resultados en el diccionario\n",
    "    final_results[model_name] = {\n",
    "        'roc_auc': roc_auc,\n",
    "        'accuracy': accuracy,\n",
    "        'precision': precision,\n",
    "        'recall': recall,\n",
    "        'f1_score': f1,\n",
    "        }"
   ]
  },
  {
   "cell_type": "code",
   "execution_count": 71,
   "id": "ff97e3b7",
   "metadata": {},
   "outputs": [
    {
     "data": {
      "text/html": [
       "<div>\n",
       "<style scoped>\n",
       "    .dataframe tbody tr th:only-of-type {\n",
       "        vertical-align: middle;\n",
       "    }\n",
       "\n",
       "    .dataframe tbody tr th {\n",
       "        vertical-align: top;\n",
       "    }\n",
       "\n",
       "    .dataframe thead th {\n",
       "        text-align: right;\n",
       "    }\n",
       "</style>\n",
       "<table border=\"1\" class=\"dataframe\">\n",
       "  <thead>\n",
       "    <tr style=\"text-align: right;\">\n",
       "      <th></th>\n",
       "      <th>ROC AUC</th>\n",
       "      <th>Accuracy</th>\n",
       "      <th>Precision</th>\n",
       "      <th>Recall</th>\n",
       "      <th>F1 Score</th>\n",
       "    </tr>\n",
       "  </thead>\n",
       "  <tbody>\n",
       "    <tr>\n",
       "      <th>LGBM w/tuning upsampled</th>\n",
       "      <td>0.9152</td>\n",
       "      <td>0.8566</td>\n",
       "      <td>0.7275</td>\n",
       "      <td>0.7353</td>\n",
       "      <td>0.7314</td>\n",
       "    </tr>\n",
       "    <tr>\n",
       "      <th>XGBoost w/tuning</th>\n",
       "      <td>0.9144</td>\n",
       "      <td>0.8623</td>\n",
       "      <td>0.7394</td>\n",
       "      <td>0.7433</td>\n",
       "      <td>0.7413</td>\n",
       "    </tr>\n",
       "    <tr>\n",
       "      <th>CatBoost w/tuning upsampled</th>\n",
       "      <td>0.8623</td>\n",
       "      <td>0.8275</td>\n",
       "      <td>0.6866</td>\n",
       "      <td>0.6444</td>\n",
       "      <td>0.6648</td>\n",
       "    </tr>\n",
       "  </tbody>\n",
       "</table>\n",
       "</div>"
      ],
      "text/plain": [
       "                             ROC AUC  Accuracy  Precision  Recall  F1 Score\n",
       "LGBM w/tuning upsampled       0.9152    0.8566     0.7275  0.7353    0.7314\n",
       "XGBoost w/tuning              0.9144    0.8623     0.7394  0.7433    0.7413\n",
       "CatBoost w/tuning upsampled   0.8623    0.8275     0.6866  0.6444    0.6648"
      ]
     },
     "metadata": {},
     "output_type": "display_data"
    }
   ],
   "source": [
    "# Presentamos los resultados finales\n",
    "final_results_df = pd.DataFrame.from_dict(final_results)\n",
    "final_results_df = final_results_df.T\n",
    "final_results_df = final_results_df.sort_values(by='roc_auc', ascending=False)\n",
    "final_results_df.columns = ['ROC AUC', 'Accuracy', 'Precision', 'Recall', 'F1 Score']\n",
    "display(final_results_df.round(4))"
   ]
  },
  {
   "cell_type": "markdown",
   "id": "7e67e9c3",
   "metadata": {},
   "source": [
    "### 7.2 Selección del mejor modelo"
   ]
  },
  {
   "cell_type": "markdown",
   "id": "734c1793",
   "metadata": {},
   "source": [
    "Podemos ver que el mejor modelo es el LGBM utilizando el conjunto de entrenamiento con las variables categóricas ya codificadas y el balanceo de clases mediante sobremuestreo, obteniendo un 0.92 en la métrica ROC AUC y una exactitud de 0.86. Ahora veremos la curva ROC e intentaremos mejorar la métrica F1 Score mediante el ajuste del umbral de corte."
   ]
  },
  {
   "cell_type": "code",
   "execution_count": 72,
   "id": "4a01aa2c",
   "metadata": {},
   "outputs": [
    {
     "data": {
      "image/png": "[encoded data removed]",
      "text/plain": [
       "<Figure size 800x600 with 1 Axes>"
      ]
     },
     "metadata": {},
     "output_type": "display_data"
    }
   ],
   "source": [
    "# Obtener el modelo entrenado\n",
    "lgbm_best = results['LGBM w/tuning upsampled']['best_estimator']\n",
    "\n",
    "# Predecir probabilidades para la clase positiva\n",
    "y_pred_proba = lgbm_best.predict_proba(X_test)[:, 1]\n",
    "\n",
    "# Calcular la curva ROC\n",
    "fpr, tpr, thresholds = roc_curve(y_test, y_pred_proba)\n",
    "roc_auc = auc(fpr, tpr)\n",
    "\n",
    "# Graficar la curva ROC\n",
    "plt.figure(figsize=(8, 6))\n",
    "plt.plot(fpr, tpr, color='darkorange', lw=2, label=f'ROC curve (AUC = {roc_auc:.2f})')\n",
    "plt.plot([0, 1], [0, 1], color='navy', lw=2, linestyle='--')\n",
    "plt.xlim([0.0, 1.0])\n",
    "plt.ylim([0.0, 1.05])\n",
    "plt.xlabel('Tasa de Falsos Positivos (FPR)')\n",
    "plt.ylabel('Tasa de Verdaderos Positivos (TPR)')\n",
    "plt.title('Curva ROC - LGBM')\n",
    "plt.legend(loc=\"lower right\")\n",
    "plt.grid(True)\n",
    "plt.show()"
   ]
  },
  {
   "cell_type": "code",
   "execution_count": 73,
   "id": "d2ef5e0e",
   "metadata": {},
   "outputs": [
    {
     "name": "stdout",
     "output_type": "stream",
     "text": [
      "Mejor umbral: 0.48\n",
      "F1 Score máximo: 0.7368\n",
      "Accuracy: 0.8581\n",
      "Precision: 0.7254\n",
      "Recall: 0.7487\n",
      "ROC AUC: 0.9152\n"
     ]
    },
    {
     "data": {
      "image/png": "[encoded data removed]",
      "text/plain": [
       "<Figure size 640x480 with 1 Axes>"
      ]
     },
     "metadata": {},
     "output_type": "display_data"
    }
   ],
   "source": [
    "# Ajustar el umbral de corte\n",
    "# Calcular métricas para cada umbral\n",
    "f1_scores = [f1_score(y_test, y_pred_proba >= t) for t in thresholds]\n",
    "# Encontrar el mejor umbral según el F1 Score\n",
    "best_index = np.argmax(f1_scores)\n",
    "best_threshold = thresholds[best_index]\n",
    "best_f1 = f1_scores[best_index]\n",
    "print(f\"Mejor umbral: {best_threshold:.2f}\")\n",
    "print(f\"F1 Score máximo: {best_f1:.4f}\")\n",
    "# Calculamos las otras métricas en ese umbral\n",
    "y_pred_opt = (y_pred_proba >= best_threshold).astype(int)\n",
    "print(\"Accuracy:\", round(accuracy_score(y_test, y_pred_opt), 4))\n",
    "print(\"Precision:\", round(precision_score(y_test, y_pred_opt), 4))\n",
    "print(\"Recall:\", round(recall_score(y_test, y_pred_opt), 4))\n",
    "print(\"ROC AUC:\", round(roc_auc_score(y_test, y_pred_proba), 4))  # no cambia\n",
    "# Graficamos el F1 Score vs umbral\n",
    "plt.plot(thresholds, f1_scores, label='F1 Score')\n",
    "plt.axvline(best_threshold, color='red', linestyle='--', label=f'Mejor umbral = {best_threshold:.2f}')\n",
    "plt.xlabel('Umbral de decisión')\n",
    "plt.ylabel('F1 Score')\n",
    "plt.title('F1 Score vs Umbral')\n",
    "plt.legend()\n",
    "plt.grid(True)\n",
    "plt.show()"
   ]
  },
  {
   "cell_type": "markdown",
   "id": "77f5ca27",
   "metadata": {},
   "source": [
    "Como podemos observar la mejora en las métricas cambiando el umbral de corte para la métrica F1 score es realmente mínimo, aún así tenemos una buena métrica ROC AUC que indica que el modelo podrá ayudar a la compañía a identificar y tratar de retener a los clientes que están próximos a cancelar sus contratos."
   ]
  },
  {
   "cell_type": "markdown",
   "id": "89e25a54",
   "metadata": {},
   "source": [
    "## 8 Conclusiones generales"
   ]
  },
  {
   "cell_type": "markdown",
   "id": "13915e8f",
   "metadata": {},
   "source": [
    "En este proyecto para la compañía de telecomunicaciones Interconnect, se realizaron tareas de clasificación para desarrollar modelos de machine learning que tuvieran la capacidad de predecir la deserción de los clientes basado en datos históricos proporcionados por el equipo de marketing. De manera general, a continuación podemos describir algunos hallazgos importantes durante las diferentes etapas del proyecto y estos se detallarán en el informe final.\n",
    "\n",
    "1. Exploración inicial de los datos.\n",
    "Se revisó la estructura inicial de los 4 archivos proporcionados por la compañía con la información histórica de los clientes, encontrando algunos valores ausentes en la columna `total_charges` y se corrigieron mediante la asignación de los valores presentes en la columna `monthly_charges`. Se encontraron también valores ausentes en cuanto a los servicios que tenía contratado cada cliente y estos debido a la naturaleza de recolección de los mismos. Se abordó esta situación en la etapa siguiente.\n",
    "Se corrigieron los nombres de todas las columnas para dejarlos en el formato \"snake_case\" y se corrigieron los tipos de datos para las columnas de fechas.\n",
    "2. Análsis exploratorio de datos (EDA).\n",
    "En esta etapa se unificaron los archivos en un solo conjunto de datos, se abordaron los valores ausentes de los registros de servicios de internet y teléfono y se creó una nueva columna que consolidara de manera clara la información de los dos servicios para cada cliente. Se analizaron las estadísticas principales de cada característica encontrando patrones de deserción en algunos rubros, podemos destacara brevemente los cargos totales, cargos mensuales y el uso del servicio de fibra óptica, aunque en este último también se detectó que había una incidencia más baja cuando se tenía contratado el servicio de soporte técnico.\n",
    "3. Manipulación de datos.\n",
    "En esta etapa se realizó la codificación de variables categóricas con la técnica \"one hot encoding\" y se estandarizaron las variables númericas. También se abordó el desbalance de clases utilizando la técnica de sobremuestreo.\n",
    "4. Modelado.\n",
    "En esta etapa se probaron diferentes modelos de clasificación y se ajustaron los hiperparámetros de los mismos para buscar el valor más alto en la métrica ROC AUC.\n",
    "5. Evaluación.\n",
    "En esta etapa se evaluaron los 3 mejores modelos identificados de la etapa anterior. Dicha evaluación se realizó en el conjunto de pruebas y se obtuvo una métrica de **0.9152 de ROC AUC** y mediante el ajuste del umbral de corte se mejoraron ligeramente las métricas de exactitud, sensibilidad y presición. Por lo que el mejor modelo y por tanto seleccionado es el LGBM.\n",
    "\n",
    "Con este modelo, la compañía podría anticipar las campañas del equipo de marketing para ofrecer promociones especiales a sus clientes y con ello tratar de retenerlos, aumentando así las ganancias de la compañía."
   ]
  },
  {
   "cell_type": "markdown",
   "id": "13f4153b",
   "metadata": {},
   "source": [
    "# Informe de solución:\n",
    "\n",
    "El presente proyecto fue estructurado mediante un Plan de Trabajo que se detalla en la sección 2.1 y fue basado en la metodología CRISP_DM. Los pasos clave para el desarrollo de este proyecto incluyeron: Exploración inicial de los datos, Análisis exploratorio de Datos (EDA), Manipulación de datos e Ingeniería de Características, Modelado y Evaluación. \n",
    "\n",
    "El plan fue desarrollado previo a comenzar con cualquier tarea del proyecto. Como en cualquier proyecto, es escencial tener un plan de trabajo bien establecido pero que a la vez permita flexibilidad para abordar los problemas encontrados durante la ejecución del proyecto. En este sentido, podemos comentar que todos los pasos del plan fueron ejecutados correctamente con ligeras adaptaciones. En este caso, el punto 3.3 Creación de nuevas características no fue realizado como inicialmente se planteó ya que se detectó la necesidad de crear estas características durante la ejecución de la etapa previa (Análisis exploratorio de los datos (EDA)). Las nuevas características fueron también analizadas con el conjunto de datos original y permitieron obtener hallazgos importantes.\n",
    "\n",
    "Durante la ejecución del proyecto, enfrentamos algunas dificultades relacionadas con el desbalance de clases. Se utilizó la técnica de sobremuestreo para ajustar el desbalance de clases y se obtuvieron resultados favorables. Algunos modelos tienen la capacidad de hacer este balance de clases como parte de su algoritmo interno, por lo que también se probaron, encontrando que en algunos casos, el balanceo por sobremuestreo producía mejores resultados y más rápidos. La misma situación se encontró con las variables categóricas, que en modelos como CatBoost y LGBM se pueden manejar internamente, sin embargo, en este caso, los modelos tomaban más tiempo para el entrenamiento y producían resultados inferiores a los obtenidos con el conjunto de datos tratados por One-hot-enconding (OHE) y sobremuestreo. \n",
    "\n",
    "Adicional a estos retos, el ajuste de hiperparámetros, supuso también un reto, ya que el encontrar los rangos óptimos para muchos de ellos es una tarea que consume tiempo, en este caso se utilizó la clase `RandomizedSearchCV` para optimizar el tiempo en la búsqueda de estos hiperparámetros.\n",
    "\n",
    "Como resultado de estas exploraciones, se encontró que el modelo que producía los mejores resultados es el LightGBM utilizando el conjunto de datos balanceado mediante sobremuestreo y con codificación OHE para variables categóricas. Obteniendo un resultado final de **ROC AUC: 0.9152** y **Exactitud: 0.8581**.\n",
    "\n",
    "Con estos resultados, la compañía puede aprovechar los hallazgos encontrados en el análisis exploratorio de datos (EDA) y los resultados de predicción del modelo para ofrecer a estos clientes clave promociones especiales y tratar de retenerlos a la vez que se trabaja para mejorar su experiencia utilizando los servicios de la compañía.\n",
    "\n"
   ]
  }
 ],
 "metadata": {
  "kernelspec": {
   "display_name": "Python 3",
   "language": "python",
   "name": "python3"
  },
  "language_info": {
   "codemirror_mode": {
    "name": "ipython",
    "version": 3
   },
   "file_extension": ".py",
   "mimetype": "text/x-python",
   "name": "python",
   "nbconvert_exporter": "python",
   "pygments_lexer": "ipython3",
   "version": "3.12.2"
  },
  "toc": {
   "base_numbering": 1,
   "nav_menu": {},
   "number_sections": true,
   "sideBar": true,
   "skip_h1_title": true,
   "title_cell": "Table of Contents",
   "title_sidebar": "Contents",
   "toc_cell": false,
   "toc_position": {},
   "toc_section_display": true,
   "toc_window_display": false
  }
 },
 "nbformat": 4,
 "nbformat_minor": 5
}
